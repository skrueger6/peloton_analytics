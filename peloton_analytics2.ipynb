{
 "cells": [
  {
   "cell_type": "code",
   "execution_count": 1,
   "metadata": {
    "collapsed": true
   },
   "outputs": [
    {
     "name": "stderr",
     "output_type": "stream",
     "text": [
      "2021-12-30 16:35:35,204 ERROR: No `username` or `password` found in section `peloton` in ~/.config/peloton\n",
      "Please ensure you specify one prior to utilizing the API\n",
      " [in /Users/spencerkrueger/opt/miniconda3/lib/python3.8/site-packages/peloton/peloton.py:79]\n"
     ]
    }
   ],
   "source": [
    "#to login -- change 'peloton_username' and 'peloton_password' variables in peloton.py\n",
    "#re-start jupyter kernel and re-run code\n",
    "from peloton import PelotonWorkout"
   ]
  },
  {
   "cell_type": "code",
   "execution_count": 180,
   "outputs": [],
   "source": [
    "#import all the stuff we need\n",
    "import pytz\n",
    "import pandas as pd\n",
    "import numpy as np"
   ],
   "metadata": {
    "collapsed": false,
    "pycharm": {
     "name": "#%%\n"
    }
   }
  },
  {
   "cell_type": "code",
   "execution_count": 267,
   "outputs": [],
   "source": [
    "#load all workouts you've done and reverse so oldest are at front of list\n",
    "workouts = PelotonWorkout.list()\n",
    "workouts = [ele for ele in reversed(workouts)]"
   ],
   "metadata": {
    "collapsed": false,
    "pycharm": {
     "name": "#%%\n"
    }
   }
  },
  {
   "cell_type": "code",
   "execution_count": 275,
   "outputs": [],
   "source": [
    "#some functions we'll use to make our dataframe from the api\n",
    "\n",
    "#takes the start timestamp of a ride and turns it in to yymmdd id (string)\n",
    "def createStamp(created_at):\n",
    "    if created_at.day < 10:\n",
    "        day = \"0\"+str(created_at.day)\n",
    "    else:\n",
    "        day = str(created_at.day)\n",
    "    if created_at.month < 10:\n",
    "        month = \"0\"+str(created_at.month)\n",
    "    else:\n",
    "        month = str(created_at.month)\n",
    "    year = str(created_at.year)\n",
    "    year = year[2:]\n",
    "\n",
    "    #stamp = yy/mm/dd\n",
    "    stamp = year+month+day\n",
    "\n",
    "    return stamp\n",
    "\n",
    "def getDayOfWeek(numberDay):\n",
    "    dayArray = [\"Monday\", \"Tuesday\", \"Wednesday\", \"Thursday\", \"Friday\", \"Saturday\", \"Sunday\"]\n",
    "    return dayArray[numberDay]"
   ],
   "metadata": {
    "collapsed": false,
    "pycharm": {
     "name": "#%%\n"
    }
   }
  },
  {
   "cell_type": "code",
   "execution_count": 276,
   "outputs": [
    {
     "name": "stdout",
     "output_type": "stream",
     "text": [
      "0\n",
      "1\n",
      "2\n",
      "3\n",
      "4\n",
      "5\n",
      "6\n",
      "7\n",
      "8\n",
      "9\n",
      "10\n",
      "11\n",
      "12\n",
      "13\n",
      "14\n",
      "15\n",
      "16\n",
      "17\n",
      "18\n",
      "19\n",
      "20\n",
      "21\n",
      "22\n",
      "23\n",
      "24\n",
      "25\n",
      "26\n",
      "27\n",
      "28\n",
      "29\n",
      "30\n",
      "31\n",
      "32\n",
      "33\n",
      "34\n",
      "35\n",
      "36\n",
      "37\n",
      "38\n",
      "39\n",
      "40\n",
      "41\n",
      "42\n",
      "43\n",
      "44\n",
      "45\n",
      "46\n",
      "47\n",
      "48\n",
      "49\n",
      "50\n",
      "51\n",
      "52\n",
      "53\n",
      "54\n",
      "55\n",
      "56\n",
      "57\n",
      "58\n",
      "59\n",
      "60\n",
      "61\n",
      "62\n",
      "63\n",
      "64\n",
      "65\n",
      "66\n",
      "67\n",
      "68\n",
      "69\n",
      "70\n",
      "71\n",
      "72\n",
      "73\n",
      "74\n",
      "75\n",
      "76\n",
      "77\n",
      "78\n",
      "79\n",
      "80\n",
      "81\n",
      "82\n",
      "83\n",
      "84\n",
      "85\n",
      "86\n",
      "87\n",
      "88\n",
      "89\n",
      "90\n",
      "91\n",
      "92\n",
      "93\n",
      "94\n",
      "95\n",
      "96\n",
      "97\n",
      "98\n",
      "99\n",
      "100\n",
      "101\n",
      "102\n",
      "103\n",
      "104\n",
      "105\n",
      "106\n",
      "107\n",
      "108\n",
      "109\n",
      "110\n",
      "111\n",
      "112\n",
      "113\n",
      "114\n",
      "115\n",
      "116\n",
      "117\n",
      "118\n",
      "119\n",
      "120\n",
      "121\n",
      "122\n",
      "123\n",
      "124\n",
      "125\n",
      "126\n",
      "127\n",
      "128\n",
      "129\n",
      "130\n",
      "131\n",
      "132\n",
      "133\n",
      "134\n",
      "135\n",
      "136\n",
      "137\n",
      "138\n",
      "139\n",
      "140\n",
      "141\n",
      "142\n",
      "143\n",
      "144\n",
      "145\n",
      "146\n",
      "147\n",
      "148\n",
      "149\n",
      "150\n",
      "151\n",
      "152\n",
      "153\n",
      "154\n",
      "155\n",
      "156\n",
      "157\n",
      "158\n",
      "159\n",
      "160\n",
      "161\n",
      "162\n",
      "163\n",
      "164\n",
      "165\n",
      "166\n",
      "167\n",
      "168\n",
      "169\n",
      "170\n",
      "171\n",
      "172\n",
      "173\n",
      "174\n",
      "175\n",
      "176\n",
      "177\n",
      "178\n",
      "179\n",
      "180\n",
      "181\n",
      "182\n",
      "183\n",
      "184\n",
      "185\n",
      "186\n",
      "187\n",
      "188\n",
      "189\n",
      "190\n",
      "191\n",
      "192\n",
      "193\n",
      "194\n",
      "195\n",
      "196\n",
      "197\n",
      "198\n",
      "199\n",
      "200\n",
      "201\n",
      "202\n",
      "203\n",
      "204\n",
      "205\n",
      "206\n",
      "207\n",
      "208\n",
      "209\n",
      "210\n",
      "211\n",
      "212\n",
      "213\n",
      "214\n",
      "215\n",
      "216\n",
      "217\n",
      "218\n",
      "219\n",
      "220\n",
      "221\n",
      "222\n",
      "223\n",
      "224\n",
      "225\n",
      "226\n",
      "227\n",
      "228\n",
      "229\n",
      "230\n",
      "231\n",
      "232\n",
      "233\n",
      "234\n",
      "235\n",
      "236\n",
      "237\n",
      "238\n",
      "239\n",
      "240\n",
      "241\n",
      "242\n",
      "243\n",
      "244\n",
      "245\n",
      "246\n",
      "247\n",
      "248\n",
      "249\n",
      "250\n",
      "251\n",
      "252\n",
      "253\n",
      "254\n",
      "255\n",
      "256\n",
      "257\n",
      "258\n",
      "259\n",
      "260\n",
      "261\n",
      "262\n",
      "263\n",
      "264\n",
      "265\n",
      "266\n",
      "267\n",
      "268\n",
      "269\n",
      "270\n",
      "271\n",
      "272\n",
      "273\n",
      "274\n",
      "275\n",
      "276\n",
      "277\n",
      "278\n",
      "279\n",
      "280\n",
      "281\n",
      "282\n",
      "283\n",
      "284\n",
      "285\n",
      "286\n",
      "287\n",
      "288\n",
      "289\n",
      "290\n",
      "291\n",
      "292\n",
      "293\n",
      "294\n",
      "295\n",
      "296\n",
      "297\n",
      "298\n",
      "299\n",
      "300\n",
      "301\n",
      "302\n",
      "303\n",
      "304\n",
      "305\n",
      "306\n",
      "307\n",
      "308\n",
      "309\n",
      "310\n",
      "311\n",
      "312\n",
      "313\n",
      "314\n",
      "315\n",
      "316\n",
      "317\n",
      "318\n",
      "319\n",
      "320\n",
      "321\n",
      "322\n",
      "323\n",
      "324\n",
      "325\n",
      "326\n",
      "327\n",
      "328\n",
      "329\n",
      "330\n",
      "331\n",
      "332\n",
      "333\n",
      "334\n",
      "335\n",
      "336\n",
      "337\n",
      "338\n",
      "339\n",
      "340\n",
      "341\n",
      "342\n",
      "343\n",
      "344\n",
      "345\n",
      "346\n",
      "347\n",
      "348\n",
      "349\n",
      "350\n",
      "351\n",
      "352\n",
      "353\n",
      "354\n",
      "355\n",
      "356\n",
      "357\n",
      "358\n",
      "359\n"
     ]
    }
   ],
   "source": [
    "#create a data frame (table) from api\n",
    "#this takes a couple minutes\n",
    "classDictList = []\n",
    "\n",
    "for i in workouts:\n",
    "    #some variables aren't in every workout record. so declare those first\n",
    "    if 'instructor' in dir(i.ride): #scenic rides don't have instructors\n",
    "        instructor = i. ride.instructor\n",
    "    else:\n",
    "        instructor = 'No Instructor'\n",
    "\n",
    "    if 'calories_summary' in dir(i.metrics): #sometime calories_summary doesn't make it in for floor classes\n",
    "        calories = i.metrics.calories_summary.value\n",
    "    else:\n",
    "        calories = np.nan\n",
    "\n",
    "    #flag warm up and cool down rides. some are more than 5 minutes so have to search for name in title\n",
    "    if \"Warm Up\" in i.ride.title:\n",
    "        warmUp = True\n",
    "    else:\n",
    "        warmUp = False\n",
    "    if \"Cool Down\" in i.ride.title:\n",
    "        coolDown = True\n",
    "    else:\n",
    "        coolDown = False\n",
    "\n",
    "    #convert UTC timestamp to CT\n",
    "    createdAt = i.created_at.astimezone(pytz.timezone('US/Central'))\n",
    "\n",
    "    #metrics specific to rides\n",
    "    if 'output_summary' in dir(i.metrics): #can't just use cycling classes. some dont have output summary\n",
    "        output = i.metrics.output_summary.value\n",
    "        distance = i.metrics.distance_summary.value\n",
    "        outputGraph = i.metrics.output.values\n",
    "        maxOutput = i.metrics.output.max\n",
    "        averageOutput = i.metrics.output.average\n",
    "        cadenceGraph = i.metrics.cadence.values\n",
    "        maxCadence = i.metrics.cadence.max\n",
    "        averageCadence = i.metrics.cadence.average\n",
    "        resistanceGraph = i.metrics.resistance.values\n",
    "        maxResistance = i.metrics.resistance.max\n",
    "        averageResistance = i.metrics.resistance.average\n",
    "        speedGraph = i.metrics.speed.values #speed is supposedly measured in mph\n",
    "        maxSpeed = i.metrics.speed.max\n",
    "        averageSpeed = i.metrics.speed.average\n",
    "        leaderboardRank = i.leaderboard_rank\n",
    "        leaderboardUsers = i.leaderboard_users\n",
    "        #achievements seems to not be working. will address later\n",
    "    else:\n",
    "        output = np.nan\n",
    "        distance = np.nan\n",
    "        outputGraph = np.nan\n",
    "        maxOutput = np.nan\n",
    "        averageOutput = np.nan\n",
    "        cadenceGraph = np.nan\n",
    "        maxCadence = np.nan\n",
    "        averageCadence = np.nan\n",
    "        resistanceGraph = np.nan\n",
    "        maxResistance = np.nan\n",
    "        averageResistance = np.nan\n",
    "        speedGraph = np.nan\n",
    "        maxSpeed = np.nan\n",
    "        averageSpeed = np.nan\n",
    "        leaderboardRank = np.nan\n",
    "        leaderboardUsers = np.nan\n",
    "\n",
    "    classDict = {\n",
    "        'pelotonID':i.ride.id,\n",
    "        'classPointer':i,\n",
    "        'title':i.ride.title,\n",
    "        'subType':i.ride.title[(i.ride.title.find(\"min\")+4):i.ride.title.find(i.ride.title.split()[-1])-1], #im not really sure how to make sense of this yet. could be kind of cool\n",
    "        'instructor':instructor,\n",
    "        'dayStamp':createStamp(createdAt),\n",
    "        'takenAtHour':createdAt.hour,\n",
    "        'takenAtMinute':createdAt.minute,\n",
    "        #days of week - monday is 0, sunday is 6\n",
    "        'takenAtDayOfWeek':getDayOfWeek(createdAt.weekday()),\n",
    "        'duration':(i.metrics.workout_duration)/60, #duration is in seconds. want minutes\n",
    "        'fitnessType':i.fitness_discipline,\n",
    "        'personalRecord':i.personal_record,\n",
    "        'calories':calories,\n",
    "        'output':output,\n",
    "        'distance':distance,\n",
    "        'outputGraph':outputGraph,\n",
    "        'maxOutput':maxOutput,\n",
    "        'averageOutput':averageOutput,\n",
    "        'cadenceGraph':cadenceGraph,\n",
    "        'maxCadence':maxCadence,\n",
    "        'averageCadence':averageCadence,\n",
    "        'resistanceGraph':resistanceGraph,\n",
    "        'maxResistance':maxResistance,\n",
    "        'averageResistance':averageResistance,\n",
    "        'speedGraph':speedGraph, #speed is supposedly measured in mph\n",
    "        'maxSpeed':maxSpeed,\n",
    "        'averageSpeed':averageSpeed,\n",
    "        'leaderboardRank':leaderboardRank,\n",
    "        'leaderboardUsers':leaderboardUsers,\n",
    "        'warmUp':warmUp,\n",
    "        'coolDown':coolDown,\n",
    "        'dateTimePointer':i.created_at\n",
    "        #achievements seems to not be working. will address later\n",
    "    }\n",
    "    classDictList.append(classDict)\n",
    "\n",
    "classDF = pd.DataFrame(classDictList)\n",
    "classDF.set_index('pelotonID', inplace=True)"
   ],
   "metadata": {
    "collapsed": false,
    "pycharm": {
     "name": "#%%\n"
    }
   }
  },
  {
   "cell_type": "code",
   "execution_count": 277,
   "outputs": [
    {
     "data": {
      "text/plain": "                                 classPointer  \\\npelotonID                                       \n26502eecde964fbd8417018ac6addb70      cycling   \n1533f607c4c24c378d27a679eefdda78      cycling   \n6c4e672478f84c999795bc5f9d145b74      cycling   \nc008239fd8ad4bf5bc82b6bfbc5a9304      cycling   \nf55c8dd2aa6b4fc49e0ea30aa9fb7fa8      cycling   \n...                                       ...   \n7ea1e44eeaf74011ac785fd98b15b634   stretching   \n53e953529589410bb555097e9dae2a05      cycling   \nfce0b6965a8c4795a22bdc0e741fef68   stretching   \n5ce8d17a9fbb4731a2b7ba120c5e0e97      cycling   \nfcd0756f173346b9a9cd891c16668090   stretching   \n\n                                                                title  \\\npelotonID                                                               \n26502eecde964fbd8417018ac6addb70               30 min New Tracks Ride   \n1533f607c4c24c378d27a679eefdda78                    30 min 2010s Ride   \n6c4e672478f84c999795bc5f9d145b74                      20 min Pop Ride   \nc008239fd8ad4bf5bc82b6bfbc5a9304                    30 min Lizzo Ride   \nf55c8dd2aa6b4fc49e0ea30aa9fb7fa8                     30 min HIIT Ride   \n...                                                               ...   \n7ea1e44eeaf74011ac785fd98b15b634             5 min Lower Body Stretch   \n53e953529589410bb555097e9dae2a05   45 min Heat It Up Ride: Boxing Day   \nfce0b6965a8c4795a22bdc0e741fef68              5 min Post-Ride Stretch   \n5ce8d17a9fbb4731a2b7ba120c5e0e97  30 min Turn It Up: New Year Special   \nfcd0756f173346b9a9cd891c16668090              5 min Post-Ride Stretch   \n\n                                                  subType       instructor  \\\npelotonID                                                                    \n26502eecde964fbd8417018ac6addb70               New Tracks   Alex Toussaint   \n1533f607c4c24c378d27a679eefdda78                    2010s           Sam Yo   \n6c4e672478f84c999795bc5f9d145b74                      Pop      Cody Rigsby   \nc008239fd8ad4bf5bc82b6bfbc5a9304                    Lizzo      Robin Arzón   \nf55c8dd2aa6b4fc49e0ea30aa9fb7fa8                     HIIT  Hannah Frankson   \n...                                                   ...              ...   \n7ea1e44eeaf74011ac785fd98b15b634               Lower Body       Ben Alldis   \n53e953529589410bb555097e9dae2a05  Heat It Up Ride: Boxing       Ben Alldis   \nfce0b6965a8c4795a22bdc0e741fef68                Post-Ride   Leanne Hainsby   \n5ce8d17a9fbb4731a2b7ba120c5e0e97     Turn It Up: New Year  Hannah Frankson   \nfcd0756f173346b9a9cd891c16668090                Post-Ride     Olivia Amato   \n\n                                 dayStamp  takenAtHour  takenAtMinute  \\\npelotonID                                                               \n26502eecde964fbd8417018ac6addb70   201019           17              4   \n1533f607c4c24c378d27a679eefdda78   201020           11             26   \n6c4e672478f84c999795bc5f9d145b74   201021           11             49   \nc008239fd8ad4bf5bc82b6bfbc5a9304   201023           15              2   \nf55c8dd2aa6b4fc49e0ea30aa9fb7fa8   201025           14             29   \n...                                   ...          ...            ...   \n7ea1e44eeaf74011ac785fd98b15b634   211222           17             55   \n53e953529589410bb555097e9dae2a05   211227           10             25   \nfce0b6965a8c4795a22bdc0e741fef68   211227           11             17   \n5ce8d17a9fbb4731a2b7ba120c5e0e97   211229           15             12   \nfcd0756f173346b9a9cd891c16668090   211229           15             55   \n\n                                 takenAtDayOfWeek  duration fitnessType  ...  \\\npelotonID                                                                ...   \n26502eecde964fbd8417018ac6addb70           Monday      30.0     cycling  ...   \n1533f607c4c24c378d27a679eefdda78          Tuesday      30.0     cycling  ...   \n6c4e672478f84c999795bc5f9d145b74        Wednesday      20.0     cycling  ...   \nc008239fd8ad4bf5bc82b6bfbc5a9304           Friday      30.0     cycling  ...   \nf55c8dd2aa6b4fc49e0ea30aa9fb7fa8           Sunday      30.0     cycling  ...   \n...                                           ...       ...         ...  ...   \n7ea1e44eeaf74011ac785fd98b15b634        Wednesday       5.0  stretching  ...   \n53e953529589410bb555097e9dae2a05           Monday      45.0     cycling  ...   \nfce0b6965a8c4795a22bdc0e741fef68           Monday       5.0  stretching  ...   \n5ce8d17a9fbb4731a2b7ba120c5e0e97        Wednesday      30.0     cycling  ...   \nfcd0756f173346b9a9cd891c16668090        Wednesday       5.0  stretching  ...   \n\n                                  maxResistance  averageResistance  \\\npelotonID                                                            \n26502eecde964fbd8417018ac6addb70           56.0               43.0   \n1533f607c4c24c378d27a679eefdda78           71.0               48.0   \n6c4e672478f84c999795bc5f9d145b74           74.0               45.0   \nc008239fd8ad4bf5bc82b6bfbc5a9304           69.0               47.0   \nf55c8dd2aa6b4fc49e0ea30aa9fb7fa8           64.0               46.0   \n...                                         ...                ...   \n7ea1e44eeaf74011ac785fd98b15b634            NaN                NaN   \n53e953529589410bb555097e9dae2a05           66.0               47.0   \nfce0b6965a8c4795a22bdc0e741fef68            NaN                NaN   \n5ce8d17a9fbb4731a2b7ba120c5e0e97           71.0               51.0   \nfcd0756f173346b9a9cd891c16668090            NaN                NaN   \n\n                                                                         speedGraph  \\\npelotonID                                                                             \n26502eecde964fbd8417018ac6addb70  [12.4, 12.1, 10.9, 10.0, 10.4, 10.6, 11.5, 11....   \n1533f607c4c24c378d27a679eefdda78  [10.5, 10.4, 10.7, 10.7, 10.5, 10.4, 10.5, 10....   \n6c4e672478f84c999795bc5f9d145b74  [13.1, 13.6, 13.3, 13.2, 12.9, 13.0, 13.7, 13....   \nc008239fd8ad4bf5bc82b6bfbc5a9304  [7.7, 7.9, 7.9, 8.7, 10.6, 11.1, 11.1, 13.4, 1...   \nf55c8dd2aa6b4fc49e0ea30aa9fb7fa8  [1.6, 2.4, 6.3, 6.6, 9.6, 8.5, 13.8, 15.2, 15....   \n...                                                                             ...   \n7ea1e44eeaf74011ac785fd98b15b634                                                NaN   \n53e953529589410bb555097e9dae2a05  [15.7, 15.7, 15.6, 15.5, 15.5, 15.6, 15.6, 15....   \nfce0b6965a8c4795a22bdc0e741fef68                                                NaN   \n5ce8d17a9fbb4731a2b7ba120c5e0e97  [15.8, 15.4, 15.2, 15.7, 15.8, 15.8, 15.8, 15....   \nfcd0756f173346b9a9cd891c16668090                                                NaN   \n\n                                  maxSpeed averageSpeed  leaderboardRank  \\\npelotonID                                                                  \n26502eecde964fbd8417018ac6addb70      26.8         18.1          26139.0   \n1533f607c4c24c378d27a679eefdda78      27.0         19.1           2169.0   \n6c4e672478f84c999795bc5f9d145b74      26.3         18.5          10727.0   \nc008239fd8ad4bf5bc82b6bfbc5a9304      28.0         19.6          33006.0   \nf55c8dd2aa6b4fc49e0ea30aa9fb7fa8      27.9         19.8           1826.0   \n...                                    ...          ...              ...   \n7ea1e44eeaf74011ac785fd98b15b634       NaN          NaN              NaN   \n53e953529589410bb555097e9dae2a05      27.1         20.3           3283.0   \nfce0b6965a8c4795a22bdc0e741fef68       NaN          NaN              NaN   \n5ce8d17a9fbb4731a2b7ba120c5e0e97      27.1         20.8           1222.0   \nfcd0756f173346b9a9cd891c16668090       NaN          NaN              NaN   \n\n                                  leaderboardUsers warmUp  coolDown  \\\npelotonID                                                             \n26502eecde964fbd8417018ac6addb70           72742.0  False     False   \n1533f607c4c24c378d27a679eefdda78           12402.0  False     False   \n6c4e672478f84c999795bc5f9d145b74          118745.0  False     False   \nc008239fd8ad4bf5bc82b6bfbc5a9304          472519.0  False     False   \nf55c8dd2aa6b4fc49e0ea30aa9fb7fa8           13309.0  False     False   \n...                                            ...    ...       ...   \n7ea1e44eeaf74011ac785fd98b15b634               NaN  False     False   \n53e953529589410bb555097e9dae2a05           17074.0  False     False   \nfce0b6965a8c4795a22bdc0e741fef68               NaN  False     False   \n5ce8d17a9fbb4731a2b7ba120c5e0e97           13794.0  False     False   \nfcd0756f173346b9a9cd891c16668090               NaN  False     False   \n\n                                           dateTimePointer  \npelotonID                                                   \n26502eecde964fbd8417018ac6addb70 2020-10-19 22:04:39+00:00  \n1533f607c4c24c378d27a679eefdda78 2020-10-20 16:26:32+00:00  \n6c4e672478f84c999795bc5f9d145b74 2020-10-21 16:49:17+00:00  \nc008239fd8ad4bf5bc82b6bfbc5a9304 2020-10-23 20:02:50+00:00  \nf55c8dd2aa6b4fc49e0ea30aa9fb7fa8 2020-10-25 19:29:59+00:00  \n...                                                    ...  \n7ea1e44eeaf74011ac785fd98b15b634 2021-12-22 23:55:02+00:00  \n53e953529589410bb555097e9dae2a05 2021-12-27 16:25:16+00:00  \nfce0b6965a8c4795a22bdc0e741fef68 2021-12-27 17:17:08+00:00  \n5ce8d17a9fbb4731a2b7ba120c5e0e97 2021-12-29 21:12:36+00:00  \nfcd0756f173346b9a9cd891c16668090 2021-12-29 21:55:15+00:00  \n\n[360 rows x 31 columns]",
      "text/html": "<div>\n<style scoped>\n    .dataframe tbody tr th:only-of-type {\n        vertical-align: middle;\n    }\n\n    .dataframe tbody tr th {\n        vertical-align: top;\n    }\n\n    .dataframe thead th {\n        text-align: right;\n    }\n</style>\n<table border=\"1\" class=\"dataframe\">\n  <thead>\n    <tr style=\"text-align: right;\">\n      <th></th>\n      <th>classPointer</th>\n      <th>title</th>\n      <th>subType</th>\n      <th>instructor</th>\n      <th>dayStamp</th>\n      <th>takenAtHour</th>\n      <th>takenAtMinute</th>\n      <th>takenAtDayOfWeek</th>\n      <th>duration</th>\n      <th>fitnessType</th>\n      <th>...</th>\n      <th>maxResistance</th>\n      <th>averageResistance</th>\n      <th>speedGraph</th>\n      <th>maxSpeed</th>\n      <th>averageSpeed</th>\n      <th>leaderboardRank</th>\n      <th>leaderboardUsers</th>\n      <th>warmUp</th>\n      <th>coolDown</th>\n      <th>dateTimePointer</th>\n    </tr>\n    <tr>\n      <th>pelotonID</th>\n      <th></th>\n      <th></th>\n      <th></th>\n      <th></th>\n      <th></th>\n      <th></th>\n      <th></th>\n      <th></th>\n      <th></th>\n      <th></th>\n      <th></th>\n      <th></th>\n      <th></th>\n      <th></th>\n      <th></th>\n      <th></th>\n      <th></th>\n      <th></th>\n      <th></th>\n      <th></th>\n      <th></th>\n    </tr>\n  </thead>\n  <tbody>\n    <tr>\n      <th>26502eecde964fbd8417018ac6addb70</th>\n      <td>cycling</td>\n      <td>30 min New Tracks Ride</td>\n      <td>New Tracks</td>\n      <td>Alex Toussaint</td>\n      <td>201019</td>\n      <td>17</td>\n      <td>4</td>\n      <td>Monday</td>\n      <td>30.0</td>\n      <td>cycling</td>\n      <td>...</td>\n      <td>56.0</td>\n      <td>43.0</td>\n      <td>[12.4, 12.1, 10.9, 10.0, 10.4, 10.6, 11.5, 11....</td>\n      <td>26.8</td>\n      <td>18.1</td>\n      <td>26139.0</td>\n      <td>72742.0</td>\n      <td>False</td>\n      <td>False</td>\n      <td>2020-10-19 22:04:39+00:00</td>\n    </tr>\n    <tr>\n      <th>1533f607c4c24c378d27a679eefdda78</th>\n      <td>cycling</td>\n      <td>30 min 2010s Ride</td>\n      <td>2010s</td>\n      <td>Sam Yo</td>\n      <td>201020</td>\n      <td>11</td>\n      <td>26</td>\n      <td>Tuesday</td>\n      <td>30.0</td>\n      <td>cycling</td>\n      <td>...</td>\n      <td>71.0</td>\n      <td>48.0</td>\n      <td>[10.5, 10.4, 10.7, 10.7, 10.5, 10.4, 10.5, 10....</td>\n      <td>27.0</td>\n      <td>19.1</td>\n      <td>2169.0</td>\n      <td>12402.0</td>\n      <td>False</td>\n      <td>False</td>\n      <td>2020-10-20 16:26:32+00:00</td>\n    </tr>\n    <tr>\n      <th>6c4e672478f84c999795bc5f9d145b74</th>\n      <td>cycling</td>\n      <td>20 min Pop Ride</td>\n      <td>Pop</td>\n      <td>Cody Rigsby</td>\n      <td>201021</td>\n      <td>11</td>\n      <td>49</td>\n      <td>Wednesday</td>\n      <td>20.0</td>\n      <td>cycling</td>\n      <td>...</td>\n      <td>74.0</td>\n      <td>45.0</td>\n      <td>[13.1, 13.6, 13.3, 13.2, 12.9, 13.0, 13.7, 13....</td>\n      <td>26.3</td>\n      <td>18.5</td>\n      <td>10727.0</td>\n      <td>118745.0</td>\n      <td>False</td>\n      <td>False</td>\n      <td>2020-10-21 16:49:17+00:00</td>\n    </tr>\n    <tr>\n      <th>c008239fd8ad4bf5bc82b6bfbc5a9304</th>\n      <td>cycling</td>\n      <td>30 min Lizzo Ride</td>\n      <td>Lizzo</td>\n      <td>Robin Arzón</td>\n      <td>201023</td>\n      <td>15</td>\n      <td>2</td>\n      <td>Friday</td>\n      <td>30.0</td>\n      <td>cycling</td>\n      <td>...</td>\n      <td>69.0</td>\n      <td>47.0</td>\n      <td>[7.7, 7.9, 7.9, 8.7, 10.6, 11.1, 11.1, 13.4, 1...</td>\n      <td>28.0</td>\n      <td>19.6</td>\n      <td>33006.0</td>\n      <td>472519.0</td>\n      <td>False</td>\n      <td>False</td>\n      <td>2020-10-23 20:02:50+00:00</td>\n    </tr>\n    <tr>\n      <th>f55c8dd2aa6b4fc49e0ea30aa9fb7fa8</th>\n      <td>cycling</td>\n      <td>30 min HIIT Ride</td>\n      <td>HIIT</td>\n      <td>Hannah Frankson</td>\n      <td>201025</td>\n      <td>14</td>\n      <td>29</td>\n      <td>Sunday</td>\n      <td>30.0</td>\n      <td>cycling</td>\n      <td>...</td>\n      <td>64.0</td>\n      <td>46.0</td>\n      <td>[1.6, 2.4, 6.3, 6.6, 9.6, 8.5, 13.8, 15.2, 15....</td>\n      <td>27.9</td>\n      <td>19.8</td>\n      <td>1826.0</td>\n      <td>13309.0</td>\n      <td>False</td>\n      <td>False</td>\n      <td>2020-10-25 19:29:59+00:00</td>\n    </tr>\n    <tr>\n      <th>...</th>\n      <td>...</td>\n      <td>...</td>\n      <td>...</td>\n      <td>...</td>\n      <td>...</td>\n      <td>...</td>\n      <td>...</td>\n      <td>...</td>\n      <td>...</td>\n      <td>...</td>\n      <td>...</td>\n      <td>...</td>\n      <td>...</td>\n      <td>...</td>\n      <td>...</td>\n      <td>...</td>\n      <td>...</td>\n      <td>...</td>\n      <td>...</td>\n      <td>...</td>\n      <td>...</td>\n    </tr>\n    <tr>\n      <th>7ea1e44eeaf74011ac785fd98b15b634</th>\n      <td>stretching</td>\n      <td>5 min Lower Body Stretch</td>\n      <td>Lower Body</td>\n      <td>Ben Alldis</td>\n      <td>211222</td>\n      <td>17</td>\n      <td>55</td>\n      <td>Wednesday</td>\n      <td>5.0</td>\n      <td>stretching</td>\n      <td>...</td>\n      <td>NaN</td>\n      <td>NaN</td>\n      <td>NaN</td>\n      <td>NaN</td>\n      <td>NaN</td>\n      <td>NaN</td>\n      <td>NaN</td>\n      <td>False</td>\n      <td>False</td>\n      <td>2021-12-22 23:55:02+00:00</td>\n    </tr>\n    <tr>\n      <th>53e953529589410bb555097e9dae2a05</th>\n      <td>cycling</td>\n      <td>45 min Heat It Up Ride: Boxing Day</td>\n      <td>Heat It Up Ride: Boxing</td>\n      <td>Ben Alldis</td>\n      <td>211227</td>\n      <td>10</td>\n      <td>25</td>\n      <td>Monday</td>\n      <td>45.0</td>\n      <td>cycling</td>\n      <td>...</td>\n      <td>66.0</td>\n      <td>47.0</td>\n      <td>[15.7, 15.7, 15.6, 15.5, 15.5, 15.6, 15.6, 15....</td>\n      <td>27.1</td>\n      <td>20.3</td>\n      <td>3283.0</td>\n      <td>17074.0</td>\n      <td>False</td>\n      <td>False</td>\n      <td>2021-12-27 16:25:16+00:00</td>\n    </tr>\n    <tr>\n      <th>fce0b6965a8c4795a22bdc0e741fef68</th>\n      <td>stretching</td>\n      <td>5 min Post-Ride Stretch</td>\n      <td>Post-Ride</td>\n      <td>Leanne Hainsby</td>\n      <td>211227</td>\n      <td>11</td>\n      <td>17</td>\n      <td>Monday</td>\n      <td>5.0</td>\n      <td>stretching</td>\n      <td>...</td>\n      <td>NaN</td>\n      <td>NaN</td>\n      <td>NaN</td>\n      <td>NaN</td>\n      <td>NaN</td>\n      <td>NaN</td>\n      <td>NaN</td>\n      <td>False</td>\n      <td>False</td>\n      <td>2021-12-27 17:17:08+00:00</td>\n    </tr>\n    <tr>\n      <th>5ce8d17a9fbb4731a2b7ba120c5e0e97</th>\n      <td>cycling</td>\n      <td>30 min Turn It Up: New Year Special</td>\n      <td>Turn It Up: New Year</td>\n      <td>Hannah Frankson</td>\n      <td>211229</td>\n      <td>15</td>\n      <td>12</td>\n      <td>Wednesday</td>\n      <td>30.0</td>\n      <td>cycling</td>\n      <td>...</td>\n      <td>71.0</td>\n      <td>51.0</td>\n      <td>[15.8, 15.4, 15.2, 15.7, 15.8, 15.8, 15.8, 15....</td>\n      <td>27.1</td>\n      <td>20.8</td>\n      <td>1222.0</td>\n      <td>13794.0</td>\n      <td>False</td>\n      <td>False</td>\n      <td>2021-12-29 21:12:36+00:00</td>\n    </tr>\n    <tr>\n      <th>fcd0756f173346b9a9cd891c16668090</th>\n      <td>stretching</td>\n      <td>5 min Post-Ride Stretch</td>\n      <td>Post-Ride</td>\n      <td>Olivia Amato</td>\n      <td>211229</td>\n      <td>15</td>\n      <td>55</td>\n      <td>Wednesday</td>\n      <td>5.0</td>\n      <td>stretching</td>\n      <td>...</td>\n      <td>NaN</td>\n      <td>NaN</td>\n      <td>NaN</td>\n      <td>NaN</td>\n      <td>NaN</td>\n      <td>NaN</td>\n      <td>NaN</td>\n      <td>False</td>\n      <td>False</td>\n      <td>2021-12-29 21:55:15+00:00</td>\n    </tr>\n  </tbody>\n</table>\n<p>360 rows × 31 columns</p>\n</div>"
     },
     "execution_count": 277,
     "metadata": {},
     "output_type": "execute_result"
    }
   ],
   "source": [
    "classDF.head(4)"
   ],
   "metadata": {
    "collapsed": false,
    "pycharm": {
     "name": "#%%\n"
    }
   }
  },
  {
   "cell_type": "code",
   "execution_count": 313,
   "outputs": [
    {
     "data": {
      "text/plain": "                                 classPointer  \\\npelotonID                                       \n26502eecde964fbd8417018ac6addb70      cycling   \n1533f607c4c24c378d27a679eefdda78      cycling   \n6c4e672478f84c999795bc5f9d145b74      cycling   \nc008239fd8ad4bf5bc82b6bfbc5a9304      cycling   \nf55c8dd2aa6b4fc49e0ea30aa9fb7fa8      cycling   \n...                                       ...   \ne9c5f89488f34110a92d537d30f7e3bc      cycling   \n494bbbe3b262476b9452ca0fc5360f29      cycling   \n5dd70d1227dd4b819937d562694a9108      cycling   \n53e953529589410bb555097e9dae2a05      cycling   \n5ce8d17a9fbb4731a2b7ba120c5e0e97      cycling   \n\n                                                                title  output  \\\npelotonID                                                                       \n26502eecde964fbd8417018ac6addb70               30 min New Tracks Ride   246.0   \n1533f607c4c24c378d27a679eefdda78                    30 min 2010s Ride   289.0   \n6c4e672478f84c999795bc5f9d145b74                      20 min Pop Ride   174.0   \nc008239fd8ad4bf5bc82b6bfbc5a9304                    30 min Lizzo Ride   303.0   \nf55c8dd2aa6b4fc49e0ea30aa9fb7fa8                     30 min HIIT Ride   321.0   \n...                                                               ...     ...   \ne9c5f89488f34110a92d537d30f7e3bc         30 min XOXO, Cody: Slay Ride   354.0   \n494bbbe3b262476b9452ca0fc5360f29                   30 min Tabata Ride   368.0   \n5dd70d1227dd4b819937d562694a9108                    20 min House Ride   259.0   \n53e953529589410bb555097e9dae2a05   45 min Heat It Up Ride: Boxing Day   500.0   \n5ce8d17a9fbb4731a2b7ba120c5e0e97  30 min Turn It Up: New Year Special   346.0   \n\n                                  averageOutput           dateTimePointer  \\\npelotonID                                                                   \n26502eecde964fbd8417018ac6addb70          137.0 2020-10-19 22:04:39+00:00   \n1533f607c4c24c378d27a679eefdda78          161.0 2020-10-20 16:26:32+00:00   \n6c4e672478f84c999795bc5f9d145b74          145.0 2020-10-21 16:49:17+00:00   \nc008239fd8ad4bf5bc82b6bfbc5a9304          170.0 2020-10-23 20:02:50+00:00   \nf55c8dd2aa6b4fc49e0ea30aa9fb7fa8          178.0 2020-10-25 19:29:59+00:00   \n...                                         ...                       ...   \ne9c5f89488f34110a92d537d30f7e3bc          196.0 2021-12-21 22:56:45+00:00   \n494bbbe3b262476b9452ca0fc5360f29          204.0 2021-12-21 23:27:58+00:00   \n5dd70d1227dd4b819937d562694a9108          216.0 2021-12-22 23:30:49+00:00   \n53e953529589410bb555097e9dae2a05          185.0 2021-12-27 16:25:16+00:00   \n5ce8d17a9fbb4731a2b7ba120c5e0e97          192.0 2021-12-29 21:12:36+00:00   \n\n                                 duration dayStamp  \npelotonID                                           \n26502eecde964fbd8417018ac6addb70     30.0   201019  \n1533f607c4c24c378d27a679eefdda78     30.0   201020  \n6c4e672478f84c999795bc5f9d145b74     20.0   201021  \nc008239fd8ad4bf5bc82b6bfbc5a9304     30.0   201023  \nf55c8dd2aa6b4fc49e0ea30aa9fb7fa8     30.0   201025  \n...                                   ...      ...  \ne9c5f89488f34110a92d537d30f7e3bc     30.0   211221  \n494bbbe3b262476b9452ca0fc5360f29     30.0   211221  \n5dd70d1227dd4b819937d562694a9108     20.0   211222  \n53e953529589410bb555097e9dae2a05     45.0   211227  \n5ce8d17a9fbb4731a2b7ba120c5e0e97     30.0   211229  \n\n[230 rows x 7 columns]",
      "text/html": "<div>\n<style scoped>\n    .dataframe tbody tr th:only-of-type {\n        vertical-align: middle;\n    }\n\n    .dataframe tbody tr th {\n        vertical-align: top;\n    }\n\n    .dataframe thead th {\n        text-align: right;\n    }\n</style>\n<table border=\"1\" class=\"dataframe\">\n  <thead>\n    <tr style=\"text-align: right;\">\n      <th></th>\n      <th>classPointer</th>\n      <th>title</th>\n      <th>output</th>\n      <th>averageOutput</th>\n      <th>dateTimePointer</th>\n      <th>duration</th>\n      <th>dayStamp</th>\n    </tr>\n    <tr>\n      <th>pelotonID</th>\n      <th></th>\n      <th></th>\n      <th></th>\n      <th></th>\n      <th></th>\n      <th></th>\n      <th></th>\n    </tr>\n  </thead>\n  <tbody>\n    <tr>\n      <th>26502eecde964fbd8417018ac6addb70</th>\n      <td>cycling</td>\n      <td>30 min New Tracks Ride</td>\n      <td>246.0</td>\n      <td>137.0</td>\n      <td>2020-10-19 22:04:39+00:00</td>\n      <td>30.0</td>\n      <td>201019</td>\n    </tr>\n    <tr>\n      <th>1533f607c4c24c378d27a679eefdda78</th>\n      <td>cycling</td>\n      <td>30 min 2010s Ride</td>\n      <td>289.0</td>\n      <td>161.0</td>\n      <td>2020-10-20 16:26:32+00:00</td>\n      <td>30.0</td>\n      <td>201020</td>\n    </tr>\n    <tr>\n      <th>6c4e672478f84c999795bc5f9d145b74</th>\n      <td>cycling</td>\n      <td>20 min Pop Ride</td>\n      <td>174.0</td>\n      <td>145.0</td>\n      <td>2020-10-21 16:49:17+00:00</td>\n      <td>20.0</td>\n      <td>201021</td>\n    </tr>\n    <tr>\n      <th>c008239fd8ad4bf5bc82b6bfbc5a9304</th>\n      <td>cycling</td>\n      <td>30 min Lizzo Ride</td>\n      <td>303.0</td>\n      <td>170.0</td>\n      <td>2020-10-23 20:02:50+00:00</td>\n      <td>30.0</td>\n      <td>201023</td>\n    </tr>\n    <tr>\n      <th>f55c8dd2aa6b4fc49e0ea30aa9fb7fa8</th>\n      <td>cycling</td>\n      <td>30 min HIIT Ride</td>\n      <td>321.0</td>\n      <td>178.0</td>\n      <td>2020-10-25 19:29:59+00:00</td>\n      <td>30.0</td>\n      <td>201025</td>\n    </tr>\n    <tr>\n      <th>...</th>\n      <td>...</td>\n      <td>...</td>\n      <td>...</td>\n      <td>...</td>\n      <td>...</td>\n      <td>...</td>\n      <td>...</td>\n    </tr>\n    <tr>\n      <th>e9c5f89488f34110a92d537d30f7e3bc</th>\n      <td>cycling</td>\n      <td>30 min XOXO, Cody: Slay Ride</td>\n      <td>354.0</td>\n      <td>196.0</td>\n      <td>2021-12-21 22:56:45+00:00</td>\n      <td>30.0</td>\n      <td>211221</td>\n    </tr>\n    <tr>\n      <th>494bbbe3b262476b9452ca0fc5360f29</th>\n      <td>cycling</td>\n      <td>30 min Tabata Ride</td>\n      <td>368.0</td>\n      <td>204.0</td>\n      <td>2021-12-21 23:27:58+00:00</td>\n      <td>30.0</td>\n      <td>211221</td>\n    </tr>\n    <tr>\n      <th>5dd70d1227dd4b819937d562694a9108</th>\n      <td>cycling</td>\n      <td>20 min House Ride</td>\n      <td>259.0</td>\n      <td>216.0</td>\n      <td>2021-12-22 23:30:49+00:00</td>\n      <td>20.0</td>\n      <td>211222</td>\n    </tr>\n    <tr>\n      <th>53e953529589410bb555097e9dae2a05</th>\n      <td>cycling</td>\n      <td>45 min Heat It Up Ride: Boxing Day</td>\n      <td>500.0</td>\n      <td>185.0</td>\n      <td>2021-12-27 16:25:16+00:00</td>\n      <td>45.0</td>\n      <td>211227</td>\n    </tr>\n    <tr>\n      <th>5ce8d17a9fbb4731a2b7ba120c5e0e97</th>\n      <td>cycling</td>\n      <td>30 min Turn It Up: New Year Special</td>\n      <td>346.0</td>\n      <td>192.0</td>\n      <td>2021-12-29 21:12:36+00:00</td>\n      <td>30.0</td>\n      <td>211229</td>\n    </tr>\n  </tbody>\n</table>\n<p>230 rows × 7 columns</p>\n</div>"
     },
     "execution_count": 313,
     "metadata": {},
     "output_type": "execute_result"
    }
   ],
   "source": [
    "#import plotly.express as px\n",
    "\n",
    "#fig = px.line(rideDF, x=\"date\", y=\"count\", color='instructor')\n",
    "#fig.show()\n",
    "\n",
    "sampleClassDF = classDF.loc[(classDF.fitnessType == \"cycling\") & (classDF.warmUp == False) & (classDF.coolDown == False),['classPointer','title','output','averageOutput','dateTimePointer','duration','dayStamp']]\n",
    "sampleClassDF = sampleClassDF.astype({'duration':str})\n",
    "sampleClassDF = sampleClassDF.drop(sampleClassDF.index[[99]])\n",
    "sampleClassDF"
   ],
   "metadata": {
    "collapsed": false,
    "pycharm": {
     "name": "#%%\n"
    }
   }
  },
  {
   "cell_type": "code",
   "execution_count": 315,
   "outputs": [
    {
     "data": {
      "application/vnd.plotly.v1+json": {
       "config": {
        "plotlyServerURL": "https://plot.ly"
       },
       "data": [
        {
         "hovertemplate": "duration=30.0<br>dateTimePointer=%{x}<br>output=%{y}<extra></extra>",
         "legendgroup": "30.0",
         "marker": {
          "color": "#636efa",
          "symbol": "circle"
         },
         "mode": "markers",
         "name": "30.0",
         "orientation": "v",
         "showlegend": true,
         "type": "scatter",
         "x": [
          "2020-10-19T22:04:39+00:00",
          "2020-10-20T16:26:32+00:00",
          "2020-10-23T20:02:50+00:00",
          "2020-10-25T19:29:59+00:00",
          "2020-10-27T21:30:58+00:00",
          "2020-11-03T23:33:18+00:00",
          "2020-11-10T00:29:38+00:00",
          "2020-11-11T23:53:59+00:00",
          "2020-11-12T23:25:00+00:00",
          "2020-11-16T22:56:31+00:00",
          "2020-11-18T13:05:19+00:00",
          "2020-11-19T12:55:12+00:00",
          "2020-11-22T15:42:56+00:00",
          "2020-11-29T17:51:58+00:00",
          "2020-11-30T12:52:53+00:00",
          "2020-12-03T13:03:36+00:00",
          "2020-12-04T21:36:55+00:00",
          "2020-12-06T14:51:11+00:00",
          "2020-12-13T16:03:36+00:00",
          "2020-12-13T16:37:32+00:00",
          "2020-12-15T13:11:24+00:00",
          "2020-12-17T13:27:18+00:00",
          "2020-12-18T12:59:02+00:00",
          "2020-12-21T13:00:12+00:00",
          "2020-12-21T13:32:58+00:00",
          "2020-12-22T18:08:55+00:00",
          "2020-12-23T15:34:29+00:00",
          "2020-12-26T16:25:41+00:00",
          "2020-12-27T23:02:26+00:00",
          "2020-12-28T23:55:31+00:00",
          "2020-12-29T00:26:18+00:00",
          "2020-12-31T20:28:25+00:00",
          "2020-12-31T21:01:20+00:00",
          "2021-01-01T23:55:19+00:00",
          "2021-01-05T12:46:54+00:00",
          "2021-01-13T17:15:21+00:00",
          "2021-01-14T23:23:06+00:00",
          "2021-01-16T00:37:33+00:00",
          "2021-01-21T22:44:05+00:00",
          "2021-01-26T00:25:07+00:00",
          "2021-01-27T17:52:16+00:00",
          "2021-01-28T23:54:23+00:00",
          "2021-01-30T18:25:54+00:00",
          "2021-01-31T22:19:41+00:00",
          "2021-01-31T22:53:31+00:00",
          "2021-02-05T22:45:45+00:00",
          "2021-02-10T22:43:33+00:00",
          "2021-02-12T23:33:46+00:00",
          "2021-02-17T00:23:13+00:00",
          "2021-02-17T23:00:10+00:00",
          "2021-02-18T22:25:03+00:00",
          "2021-02-20T22:52:07+00:00",
          "2021-03-02T22:26:02+00:00",
          "2021-03-04T23:08:37+00:00",
          "2021-03-11T22:17:21+00:00",
          "2021-03-16T22:13:14+00:00",
          "2021-03-19T12:04:38+00:00",
          "2021-03-25T22:51:52+00:00",
          "2021-03-28T23:27:59+00:00",
          "2021-04-02T21:11:59+00:00",
          "2021-04-09T22:07:07+00:00",
          "2021-04-12T23:26:00+00:00",
          "2021-04-14T23:25:14+00:00",
          "2021-04-15T22:30:12+00:00",
          "2021-04-19T16:31:47+00:00",
          "2021-04-21T22:08:56+00:00",
          "2021-04-29T23:31:12+00:00",
          "2021-05-09T16:21:42+00:00",
          "2021-05-16T22:36:17+00:00",
          "2021-05-29T19:38:33+00:00",
          "2021-06-02T20:03:53+00:00",
          "2021-06-03T16:42:24+00:00",
          "2021-06-08T23:49:16+00:00",
          "2021-06-09T00:20:05+00:00",
          "2021-06-10T22:33:46+00:00",
          "2021-06-20T15:38:18+00:00",
          "2021-06-24T17:09:22+00:00",
          "2021-06-29T18:46:39+00:00",
          "2021-06-29T18:46:59+00:00",
          "2021-07-28T00:08:15+00:00",
          "2021-07-30T15:20:46+00:00",
          "2021-07-30T15:52:22+00:00",
          "2021-08-06T23:09:11+00:00",
          "2021-08-06T23:39:59+00:00",
          "2021-08-07T00:10:28+00:00",
          "2021-08-11T21:47:55+00:00",
          "2021-08-11T22:18:26+00:00",
          "2021-08-16T16:44:37+00:00",
          "2021-08-19T18:52:22+00:00",
          "2021-09-01T20:54:01+00:00",
          "2021-09-08T15:04:19+00:00",
          "2021-09-21T16:50:07+00:00",
          "2021-09-21T17:21:28+00:00",
          "2021-10-12T22:16:29+00:00",
          "2021-10-15T21:57:28+00:00",
          "2021-10-15T22:28:38+00:00",
          "2021-10-24T23:16:02+00:00",
          "2021-10-29T20:29:32+00:00",
          "2021-10-29T21:00:20+00:00",
          "2021-11-09T23:03:40+00:00",
          "2021-11-10T22:39:02+00:00",
          "2021-11-11T23:08:39+00:00",
          "2021-11-18T23:06:54+00:00",
          "2021-11-19T21:55:19+00:00",
          "2021-11-19T22:27:56+00:00",
          "2021-11-24T21:15:43+00:00",
          "2021-11-24T21:47:48+00:00",
          "2021-12-02T22:25:50+00:00",
          "2021-12-04T17:55:24+00:00",
          "2021-12-08T22:21:21+00:00",
          "2021-12-08T23:10:51+00:00",
          "2021-12-17T21:39:33+00:00",
          "2021-12-21T22:56:45+00:00",
          "2021-12-21T23:27:58+00:00",
          "2021-12-29T21:12:36+00:00"
         ],
         "xaxis": "x",
         "y": [
          246.0,
          289.0,
          303.0,
          321.0,
          288.0,
          332.0,
          360.0,
          301.0,
          321.0,
          328.0,
          321.0,
          327.0,
          316.0,
          300.0,
          364.0,
          281.0,
          368.0,
          300.0,
          387.0,
          309.0,
          283.0,
          347.0,
          291.0,
          335.0,
          301.0,
          390.0,
          311.0,
          336.0,
          364.0,
          355.0,
          357.0,
          362.0,
          371.0,
          391.0,
          333.0,
          394.0,
          394.0,
          411.0,
          370.0,
          375.0,
          380.0,
          388.0,
          377.0,
          326.0,
          375.0,
          334.0,
          353.0,
          374.0,
          null,
          386.0,
          356.0,
          364.0,
          362.0,
          388.0,
          339.0,
          338.0,
          320.0,
          378.0,
          328.0,
          336.0,
          383.0,
          355.0,
          366.0,
          372.0,
          354.0,
          354.0,
          356.0,
          358.0,
          323.0,
          316.0,
          82.0,
          333.0,
          318.0,
          353.0,
          352.0,
          323.0,
          330.0,
          null,
          344.0,
          336.0,
          341.0,
          336.0,
          337.0,
          362.0,
          320.0,
          375.0,
          334.0,
          365.0,
          376.0,
          354.0,
          366.0,
          349.0,
          316.0,
          390.0,
          350.0,
          339.0,
          369.0,
          371.0,
          329.0,
          347.0,
          353.0,
          356.0,
          385.0,
          363.0,
          395.0,
          341.0,
          333.0,
          172.0,
          363.0,
          355.0,
          355.0,
          357.0,
          354.0,
          368.0,
          346.0
         ],
         "yaxis": "y"
        },
        {
         "hovertemplate": "<b>LOWESS trendline</b><br><br>duration=30.0<br>dateTimePointer=%{x}<br>output=%{y} <b>(trend)</b><extra></extra>",
         "legendgroup": "30.0",
         "marker": {
          "color": "#636efa",
          "symbol": "circle"
         },
         "mode": "lines",
         "name": "30.0",
         "showlegend": false,
         "type": "scatter",
         "x": [
          "2020-10-19T22:04:39+00:00",
          "2020-10-20T16:26:32+00:00",
          "2020-10-23T20:02:50+00:00",
          "2020-10-25T19:29:59+00:00",
          "2020-10-27T21:30:58+00:00",
          "2020-11-03T23:33:18+00:00",
          "2020-11-10T00:29:38+00:00",
          "2020-11-11T23:53:59+00:00",
          "2020-11-12T23:25:00+00:00",
          "2020-11-16T22:56:31+00:00",
          "2020-11-18T13:05:19+00:00",
          "2020-11-19T12:55:12+00:00",
          "2020-11-22T15:42:56+00:00",
          "2020-11-29T17:51:58+00:00",
          "2020-11-30T12:52:53+00:00",
          "2020-12-03T13:03:36+00:00",
          "2020-12-04T21:36:55+00:00",
          "2020-12-06T14:51:11+00:00",
          "2020-12-13T16:03:36+00:00",
          "2020-12-13T16:37:32+00:00",
          "2020-12-15T13:11:24+00:00",
          "2020-12-17T13:27:18+00:00",
          "2020-12-18T12:59:02+00:00",
          "2020-12-21T13:00:12+00:00",
          "2020-12-21T13:32:58+00:00",
          "2020-12-22T18:08:55+00:00",
          "2020-12-23T15:34:29+00:00",
          "2020-12-26T16:25:41+00:00",
          "2020-12-27T23:02:26+00:00",
          "2020-12-28T23:55:31+00:00",
          "2020-12-29T00:26:18+00:00",
          "2020-12-31T20:28:25+00:00",
          "2020-12-31T21:01:20+00:00",
          "2021-01-01T23:55:19+00:00",
          "2021-01-05T12:46:54+00:00",
          "2021-01-13T17:15:21+00:00",
          "2021-01-14T23:23:06+00:00",
          "2021-01-16T00:37:33+00:00",
          "2021-01-21T22:44:05+00:00",
          "2021-01-26T00:25:07+00:00",
          "2021-01-27T17:52:16+00:00",
          "2021-01-28T23:54:23+00:00",
          "2021-01-30T18:25:54+00:00",
          "2021-01-31T22:19:41+00:00",
          "2021-01-31T22:53:31+00:00",
          "2021-02-05T22:45:45+00:00",
          "2021-02-10T22:43:33+00:00",
          "2021-02-12T23:33:46+00:00",
          "2021-02-17T23:00:10+00:00",
          "2021-02-18T22:25:03+00:00",
          "2021-02-20T22:52:07+00:00",
          "2021-03-02T22:26:02+00:00",
          "2021-03-04T23:08:37+00:00",
          "2021-03-11T22:17:21+00:00",
          "2021-03-16T22:13:14+00:00",
          "2021-03-19T12:04:38+00:00",
          "2021-03-25T22:51:52+00:00",
          "2021-03-28T23:27:59+00:00",
          "2021-04-02T21:11:59+00:00",
          "2021-04-09T22:07:07+00:00",
          "2021-04-12T23:26:00+00:00",
          "2021-04-14T23:25:14+00:00",
          "2021-04-15T22:30:12+00:00",
          "2021-04-19T16:31:47+00:00",
          "2021-04-21T22:08:56+00:00",
          "2021-04-29T23:31:12+00:00",
          "2021-05-09T16:21:42+00:00",
          "2021-05-16T22:36:17+00:00",
          "2021-05-29T19:38:33+00:00",
          "2021-06-02T20:03:53+00:00",
          "2021-06-03T16:42:24+00:00",
          "2021-06-08T23:49:16+00:00",
          "2021-06-09T00:20:05+00:00",
          "2021-06-10T22:33:46+00:00",
          "2021-06-20T15:38:18+00:00",
          "2021-06-24T17:09:22+00:00",
          "2021-06-29T18:46:59+00:00",
          "2021-07-28T00:08:15+00:00",
          "2021-07-30T15:20:46+00:00",
          "2021-07-30T15:52:22+00:00",
          "2021-08-06T23:09:11+00:00",
          "2021-08-06T23:39:59+00:00",
          "2021-08-07T00:10:28+00:00",
          "2021-08-11T21:47:55+00:00",
          "2021-08-11T22:18:26+00:00",
          "2021-08-16T16:44:37+00:00",
          "2021-08-19T18:52:22+00:00",
          "2021-09-01T20:54:01+00:00",
          "2021-09-08T15:04:19+00:00",
          "2021-09-21T16:50:07+00:00",
          "2021-09-21T17:21:28+00:00",
          "2021-10-12T22:16:29+00:00",
          "2021-10-15T21:57:28+00:00",
          "2021-10-15T22:28:38+00:00",
          "2021-10-24T23:16:02+00:00",
          "2021-10-29T20:29:32+00:00",
          "2021-10-29T21:00:20+00:00",
          "2021-11-09T23:03:40+00:00",
          "2021-11-10T22:39:02+00:00",
          "2021-11-11T23:08:39+00:00",
          "2021-11-18T23:06:54+00:00",
          "2021-11-19T21:55:19+00:00",
          "2021-11-19T22:27:56+00:00",
          "2021-11-24T21:15:43+00:00",
          "2021-11-24T21:47:48+00:00",
          "2021-12-02T22:25:50+00:00",
          "2021-12-04T17:55:24+00:00",
          "2021-12-08T22:21:21+00:00",
          "2021-12-08T23:10:51+00:00",
          "2021-12-17T21:39:33+00:00",
          "2021-12-21T22:56:45+00:00",
          "2021-12-21T23:27:58+00:00",
          "2021-12-29T21:12:36+00:00"
         ],
         "xaxis": "x",
         "y": [
          314.23000848236177,
          314.55598770979435,
          315.8906511021416,
          316.72221898864524,
          317.59354348330834,
          320.51547353995807,
          322.95627866181945,
          323.7444670550355,
          324.133582290714,
          325.70112703033783,
          326.3211960541476,
          326.7068416652911,
          327.90848032456427,
          330.5920016171347,
          330.88752263217503,
          332.00116753585945,
          332.49924290078366,
          333.1263703354996,
          335.65499301144376,
          335.6633239020062,
          336.31723832262463,
          337.0197849924303,
          337.3601356057374,
          338.3932257049564,
          338.40100957620757,
          338.80759735286154,
          339.1108699685595,
          340.13355965545173,
          340.559407131144,
          340.90390379836754,
          340.91099067838684,
          341.84516774033335,
          341.8526555123104,
          342.2189153103137,
          343.36290799484163,
          345.9428786792497,
          346.3297239897101,
          346.6519348733059,
          348.4322459933856,
          349.61930515526467,
          350.1128189387567,
          350.4662459786023,
          350.96022451501454,
          351.2798892912093,
          351.28631317499344,
          352.61370446436126,
          353.84942294654905,
          354.3193373691762,
          355.37195044891206,
          355.529140450174,
          355.48598518137584,
          355.0177510461232,
          354.7578193512964,
          353.9213592813324,
          353.8880756583778,
          353.7270881871281,
          353.2561498575519,
          352.7951844251753,
          352.23618054950924,
          351.25865858577913,
          350.8941266935251,
          350.6907187886046,
          350.5834261249652,
          350.24115440904797,
          350.0756248121783,
          349.5742153089155,
          349.338835512794,
          348.7632145902368,
          348.3137040145995,
          348.07440397239196,
          348.0752446973274,
          347.8759252581797,
          347.8736933946279,
          347.8556492291038,
          347.94189287402975,
          347.8342187057168,
          347.8465263019325,
          348.84122659434786,
          348.98694349591364,
          348.98814320834515,
          349.3780661489593,
          349.3791884405897,
          349.3802991209747,
          349.63615975021617,
          349.63726318807466,
          349.8858392170758,
          350.0478124078134,
          350.75097309202476,
          351.1278299378149,
          351.886208083035,
          351.8875027422482,
          353.19773611706677,
          353.3900582366522,
          353.391458579901,
          353.9840052781086,
          354.31088195584954,
          354.3123228320567,
          355.0695164676048,
          355.1376059044213,
          355.20846115753085,
          355.6985289713938,
          355.76561359301303,
          355.76721411231665,
          356.1185857503913,
          356.12017413400355,
          356.69589733725104,
          356.8267819051318,
          357.13014255528014,
          357.132640635851,
          357.7850655806495,
          358.0827304848024,
          358.0843248843282,
          358.66733239295
         ],
         "yaxis": "y"
        },
        {
         "hovertemplate": "duration=20.0<br>dateTimePointer=%{x}<br>output=%{y}<extra></extra>",
         "legendgroup": "20.0",
         "marker": {
          "color": "#EF553B",
          "symbol": "circle"
         },
         "mode": "markers",
         "name": "20.0",
         "orientation": "v",
         "showlegend": true,
         "type": "scatter",
         "x": [
          "2020-10-21T16:49:17+00:00",
          "2020-11-01T15:06:51+00:00",
          "2020-11-24T12:48:14+00:00",
          "2020-11-24T13:11:24+00:00",
          "2020-11-30T12:30:44+00:00",
          "2020-12-03T12:36:47+00:00",
          "2020-12-17T14:00:29+00:00",
          "2021-01-10T22:01:55+00:00",
          "2021-01-10T22:30:07+00:00",
          "2021-01-14T23:58:08+00:00",
          "2021-01-17T23:42:06+00:00",
          "2021-01-23T18:37:08+00:00",
          "2021-01-28T23:31:31+00:00",
          "2021-01-29T17:58:46+00:00",
          "2021-02-03T00:43:04+00:00",
          "2021-02-20T23:24:54+00:00",
          "2021-03-01T22:39:53+00:00",
          "2021-03-10T17:52:35+00:00",
          "2021-03-10T18:12:59+00:00",
          "2021-03-23T21:18:15+00:00",
          "2021-03-23T21:39:30+00:00",
          "2021-04-02T21:43:19+00:00",
          "2021-04-15T22:09:41+00:00",
          "2021-04-21T22:41:09+00:00",
          "2021-06-10T22:12:33+00:00",
          "2021-07-08T01:57:13+00:00",
          "2021-07-08T02:18:35+00:00",
          "2021-07-27T23:47:02+00:00",
          "2021-08-11T21:26:30+00:00",
          "2021-09-16T16:55:19+00:00",
          "2021-10-24T23:50:52+00:00",
          "2021-11-02T21:11:31+00:00",
          "2021-11-02T21:32:44+00:00",
          "2021-11-10T22:16:43+00:00",
          "2021-11-15T21:52:45+00:00",
          "2021-11-17T23:20:26+00:00",
          "2021-11-18T22:44:34+00:00",
          "2021-12-02T22:04:33+00:00",
          "2021-12-06T23:22:49+00:00",
          "2021-12-22T23:30:49+00:00"
         ],
         "xaxis": "x",
         "y": [
          174.0,
          192.0,
          201.0,
          233.0,
          185.0,
          267.0,
          194.0,
          266.0,
          225.0,
          246.0,
          310.0,
          226.0,
          227.0,
          241.0,
          232.0,
          247.0,
          223.0,
          261.0,
          254.0,
          264.0,
          262.0,
          228.0,
          216.0,
          252.0,
          207.0,
          194.0,
          229.0,
          223.0,
          239.0,
          216.0,
          252.0,
          233.0,
          260.0,
          201.0,
          218.0,
          210.0,
          240.0,
          254.0,
          229.0,
          259.0
         ],
         "yaxis": "y"
        },
        {
         "hovertemplate": "<b>LOWESS trendline</b><br><br>duration=20.0<br>dateTimePointer=%{x}<br>output=%{y} <b>(trend)</b><extra></extra>",
         "legendgroup": "20.0",
         "marker": {
          "color": "#EF553B",
          "symbol": "circle"
         },
         "mode": "lines",
         "name": "20.0",
         "showlegend": false,
         "type": "scatter",
         "x": [
          "2020-10-21T16:49:17+00:00",
          "2020-11-01T15:06:51+00:00",
          "2020-11-24T12:48:14+00:00",
          "2020-11-24T13:11:24+00:00",
          "2020-11-30T12:30:44+00:00",
          "2020-12-03T12:36:47+00:00",
          "2020-12-17T14:00:29+00:00",
          "2021-01-10T22:01:55+00:00",
          "2021-01-10T22:30:07+00:00",
          "2021-01-14T23:58:08+00:00",
          "2021-01-17T23:42:06+00:00",
          "2021-01-23T18:37:08+00:00",
          "2021-01-28T23:31:31+00:00",
          "2021-01-29T17:58:46+00:00",
          "2021-02-03T00:43:04+00:00",
          "2021-02-20T23:24:54+00:00",
          "2021-03-01T22:39:53+00:00",
          "2021-03-10T17:52:35+00:00",
          "2021-03-10T18:12:59+00:00",
          "2021-03-23T21:18:15+00:00",
          "2021-03-23T21:39:30+00:00",
          "2021-04-02T21:43:19+00:00",
          "2021-04-15T22:09:41+00:00",
          "2021-04-21T22:41:09+00:00",
          "2021-06-10T22:12:33+00:00",
          "2021-07-08T01:57:13+00:00",
          "2021-07-08T02:18:35+00:00",
          "2021-07-27T23:47:02+00:00",
          "2021-08-11T21:26:30+00:00",
          "2021-09-16T16:55:19+00:00",
          "2021-10-24T23:50:52+00:00",
          "2021-11-02T21:11:31+00:00",
          "2021-11-02T21:32:44+00:00",
          "2021-11-10T22:16:43+00:00",
          "2021-11-15T21:52:45+00:00",
          "2021-11-17T23:20:26+00:00",
          "2021-11-18T22:44:34+00:00",
          "2021-12-02T22:04:33+00:00",
          "2021-12-06T23:22:49+00:00",
          "2021-12-22T23:30:49+00:00"
         ],
         "xaxis": "x",
         "y": [
          197.0173975319704,
          201.29220443301477,
          209.9715461877743,
          209.9775204502194,
          212.1840801713415,
          213.28585686249025,
          218.36952285771056,
          226.87133339203993,
          226.87801238342118,
          228.2565038679557,
          229.26185598515073,
          231.1813650443335,
          232.86646240279987,
          233.11128342573386,
          234.45005330695966,
          239.2901602367378,
          240.89842555144187,
          241.0500612017127,
          241.048384127616,
          239.93109072175733,
          239.93005981877212,
          237.65219687438062,
          234.70635588239108,
          233.8554985503428,
          227.8746198402225,
          227.83682897391003,
          227.83834357472153,
          228.44383324059984,
          228.8977814078423,
          230.2810085916096,
          232.59568123213398,
          233.23507232616709,
          233.23615842385638,
          233.8397077308373,
          234.22475301090088,
          234.3861538537098,
          234.46295170977592,
          235.59462592519827,
          235.93423068348693,
          237.32455236813493
         ],
         "yaxis": "y"
        },
        {
         "hovertemplate": "duration=45.0<br>dateTimePointer=%{x}<br>output=%{y}<extra></extra>",
         "legendgroup": "45.0",
         "marker": {
          "color": "#00cc96",
          "symbol": "circle"
         },
         "mode": "markers",
         "name": "45.0",
         "orientation": "v",
         "showlegend": true,
         "type": "scatter",
         "x": [
          "2020-10-29T21:42:19+00:00",
          "2020-11-10T23:24:55+00:00",
          "2020-11-23T12:47:48+00:00",
          "2020-11-26T12:58:22+00:00",
          "2020-12-05T18:26:01+00:00",
          "2020-12-08T12:41:41+00:00",
          "2020-12-09T12:32:42+00:00",
          "2020-12-19T18:26:05+00:00",
          "2020-12-23T14:46:57+00:00",
          "2020-12-26T17:00:49+00:00",
          "2021-01-02T18:19:21+00:00",
          "2021-01-04T12:28:14+00:00",
          "2021-01-06T12:50:25+00:00",
          "2021-01-09T18:46:32+00:00",
          "2021-01-12T12:51:16+00:00",
          "2021-01-19T22:53:27+00:00",
          "2021-01-21T00:02:35+00:00",
          "2021-01-24T23:02:13+00:00",
          "2021-02-04T23:28:20+00:00",
          "2021-02-06T18:26:01+00:00",
          "2021-02-09T00:21:26+00:00",
          "2021-02-14T20:47:57+00:00",
          "2021-02-16T12:36:59+00:00",
          "2021-02-23T00:09:52+00:00",
          "2021-02-23T23:27:47+00:00",
          "2021-02-28T18:30:16+00:00",
          "2021-03-14T21:53:15+00:00",
          "2021-03-21T17:58:26+00:00",
          "2021-04-06T22:24:46+00:00",
          "2021-04-23T22:59:46+00:00",
          "2021-04-27T22:13:08+00:00",
          "2021-05-05T22:10:31+00:00",
          "2021-05-10T23:26:36+00:00",
          "2021-05-18T22:26:07+00:00",
          "2021-06-14T18:40:17+00:00",
          "2021-06-20T16:11:32+00:00",
          "2021-08-09T01:45:26+00:00",
          "2021-09-24T21:54:57+00:00",
          "2021-09-29T22:16:50+00:00",
          "2021-10-06T21:47:52+00:00",
          "2021-11-06T14:57:23+00:00",
          "2021-11-09T22:16:55+00:00",
          "2021-11-14T20:21:07+00:00",
          "2021-11-15T22:15:45+00:00",
          "2021-11-22T17:40:53+00:00",
          "2021-11-29T22:30:03+00:00",
          "2021-12-04T18:26:14+00:00",
          "2021-12-05T17:36:19+00:00",
          "2021-12-13T23:17:16+00:00",
          "2021-12-14T22:20:15+00:00",
          "2021-12-27T16:25:16+00:00"
         ],
         "xaxis": "x",
         "y": [
          460.0,
          545.0,
          509.0,
          521.0,
          578.0,
          486.0,
          505.0,
          572.0,
          484.0,
          477.0,
          541.0,
          508.0,
          511.0,
          586.0,
          515.0,
          520.0,
          602.0,
          531.0,
          532.0,
          567.0,
          566.0,
          537.0,
          477.0,
          495.0,
          522.0,
          542.0,
          512.0,
          510.0,
          382.0,
          444.0,
          460.0,
          520.0,
          502.0,
          455.0,
          485.0,
          448.0,
          527.0,
          535.0,
          585.0,
          547.0,
          510.0,
          513.0,
          569.0,
          534.0,
          574.0,
          552.0,
          598.0,
          547.0,
          621.0,
          531.0,
          500.0
         ],
         "yaxis": "y"
        },
        {
         "hovertemplate": "<b>LOWESS trendline</b><br><br>duration=45.0<br>dateTimePointer=%{x}<br>output=%{y} <b>(trend)</b><extra></extra>",
         "legendgroup": "45.0",
         "marker": {
          "color": "#00cc96",
          "symbol": "circle"
         },
         "mode": "lines",
         "name": "45.0",
         "showlegend": false,
         "type": "scatter",
         "x": [
          "2020-10-29T21:42:19+00:00",
          "2020-11-10T23:24:55+00:00",
          "2020-11-23T12:47:48+00:00",
          "2020-11-26T12:58:22+00:00",
          "2020-12-05T18:26:01+00:00",
          "2020-12-08T12:41:41+00:00",
          "2020-12-09T12:32:42+00:00",
          "2020-12-19T18:26:05+00:00",
          "2020-12-23T14:46:57+00:00",
          "2020-12-26T17:00:49+00:00",
          "2021-01-02T18:19:21+00:00",
          "2021-01-04T12:28:14+00:00",
          "2021-01-06T12:50:25+00:00",
          "2021-01-09T18:46:32+00:00",
          "2021-01-12T12:51:16+00:00",
          "2021-01-19T22:53:27+00:00",
          "2021-01-21T00:02:35+00:00",
          "2021-01-24T23:02:13+00:00",
          "2021-02-04T23:28:20+00:00",
          "2021-02-06T18:26:01+00:00",
          "2021-02-09T00:21:26+00:00",
          "2021-02-14T20:47:57+00:00",
          "2021-02-16T12:36:59+00:00",
          "2021-02-23T00:09:52+00:00",
          "2021-02-23T23:27:47+00:00",
          "2021-02-28T18:30:16+00:00",
          "2021-03-14T21:53:15+00:00",
          "2021-03-21T17:58:26+00:00",
          "2021-04-06T22:24:46+00:00",
          "2021-04-23T22:59:46+00:00",
          "2021-04-27T22:13:08+00:00",
          "2021-05-05T22:10:31+00:00",
          "2021-05-10T23:26:36+00:00",
          "2021-05-18T22:26:07+00:00",
          "2021-06-14T18:40:17+00:00",
          "2021-06-20T16:11:32+00:00",
          "2021-08-09T01:45:26+00:00",
          "2021-09-24T21:54:57+00:00",
          "2021-09-29T22:16:50+00:00",
          "2021-10-06T21:47:52+00:00",
          "2021-11-06T14:57:23+00:00",
          "2021-11-09T22:16:55+00:00",
          "2021-11-14T20:21:07+00:00",
          "2021-11-15T22:15:45+00:00",
          "2021-11-22T17:40:53+00:00",
          "2021-11-29T22:30:03+00:00",
          "2021-12-04T18:26:14+00:00",
          "2021-12-05T17:36:19+00:00",
          "2021-12-13T23:17:16+00:00",
          "2021-12-14T22:20:15+00:00",
          "2021-12-27T16:25:16+00:00"
         ],
         "xaxis": "x",
         "y": [
          513.7099020227342,
          515.972599282763,
          518.1298226695347,
          518.6154465935117,
          520.0240297719319,
          520.419842103304,
          520.5591068192268,
          521.8842562256506,
          522.3230388843937,
          522.6477529724685,
          523.2799655042878,
          523.4110641928082,
          523.5470341377039,
          523.730894327118,
          523.8494476067257,
          523.964167849838,
          523.9523856150713,
          523.8343208849362,
          522.7790247435123,
          522.49988837389,
          521.5533681101773,
          518.4333343910779,
          517.5726153103565,
          514.7449822111763,
          514.4279014279333,
          512.4690482956327,
          506.1456402704337,
          503.0336505970325,
          495.54255856293094,
          490.7277379852557,
          489.75063671948897,
          487.39299180503855,
          487.3273256327309,
          490.42922662154064,
          498.73119908715904,
          501.4368499779703,
          515.5459973182284,
          531.0647862822474,
          532.7769522916033,
          535.1708580067266,
          545.7715145784462,
          546.9119140871826,
          548.6076705933568,
          548.979543910163,
          551.3227723082157,
          553.7965281094775,
          555.4532637499084,
          555.7840429318314,
          558.6017269294825,
          558.9296495297402,
          563.2680407229118
         ],
         "yaxis": "y"
        },
        {
         "hovertemplate": "duration=10.0<br>dateTimePointer=%{x}<br>output=%{y}<extra></extra>",
         "legendgroup": "10.0",
         "marker": {
          "color": "#ab63fa",
          "symbol": "circle"
         },
         "mode": "markers",
         "name": "10.0",
         "orientation": "v",
         "showlegend": true,
         "type": "scatter",
         "x": [
          "2020-11-10T00:17:07+00:00",
          "2020-11-16T22:44:04+00:00",
          "2020-12-01T12:25:43+00:00",
          "2021-01-30T18:06:10+00:00",
          "2021-12-19T17:15:49+00:00"
         ],
         "xaxis": "x",
         "y": [
          60.0,
          77.0,
          76.0,
          81.0,
          3.0
         ],
         "yaxis": "y"
        },
        {
         "hovertemplate": "<b>LOWESS trendline</b><br><br>duration=10.0<br>dateTimePointer=%{x}<br>output=%{y} <b>(trend)</b><extra></extra>",
         "legendgroup": "10.0",
         "marker": {
          "color": "#ab63fa",
          "symbol": "circle"
         },
         "mode": "lines",
         "name": "10.0",
         "showlegend": false,
         "type": "scatter",
         "x": [
          "2020-11-10T00:17:07+00:00",
          "2020-11-16T22:44:04+00:00",
          "2020-12-01T12:25:43+00:00",
          "2021-01-30T18:06:10+00:00",
          "2021-12-19T17:15:49+00:00"
         ],
         "xaxis": "x",
         "y": [
          60.0,
          77.0,
          76.0,
          80.99999999999947,
          3.0000000000002744
         ],
         "yaxis": "y"
        },
        {
         "hovertemplate": "duration=15.0<br>dateTimePointer=%{x}<br>output=%{y}<extra></extra>",
         "legendgroup": "15.0",
         "marker": {
          "color": "#FFA15A",
          "symbol": "circle"
         },
         "mode": "markers",
         "name": "15.0",
         "orientation": "v",
         "showlegend": true,
         "type": "scatter",
         "x": [
          "2020-11-14T20:53:50+00:00",
          "2020-11-22T15:25:37+00:00",
          "2020-12-01T12:54:51+00:00",
          "2020-12-13T15:46:26+00:00",
          "2021-01-16T01:10:33+00:00",
          "2021-02-05T00:17:09+00:00",
          "2021-02-17T22:40:21+00:00",
          "2021-05-16T23:10:36+00:00",
          "2021-06-03T17:12:55+00:00",
          "2021-06-24T17:40:44+00:00",
          "2021-08-16T17:16:02+00:00",
          "2021-08-19T19:23:36+00:00",
          "2021-12-06T23:44:03+00:00",
          "2021-12-08T22:54:13+00:00"
         ],
         "xaxis": "x",
         "y": [
          141.0,
          188.0,
          184.0,
          153.0,
          148.0,
          138.0,
          168.0,
          174.0,
          173.0,
          154.0,
          169.0,
          198.0,
          190.0,
          203.0
         ],
         "yaxis": "y"
        },
        {
         "hovertemplate": "<b>LOWESS trendline</b><br><br>duration=15.0<br>dateTimePointer=%{x}<br>output=%{y} <b>(trend)</b><extra></extra>",
         "legendgroup": "15.0",
         "marker": {
          "color": "#FFA15A",
          "symbol": "circle"
         },
         "mode": "lines",
         "name": "15.0",
         "showlegend": false,
         "type": "scatter",
         "x": [
          "2020-11-14T20:53:50+00:00",
          "2020-11-22T15:25:37+00:00",
          "2020-12-01T12:54:51+00:00",
          "2020-12-13T15:46:26+00:00",
          "2021-01-16T01:10:33+00:00",
          "2021-02-05T00:17:09+00:00",
          "2021-02-17T22:40:21+00:00",
          "2021-05-16T23:10:36+00:00",
          "2021-06-03T17:12:55+00:00",
          "2021-06-24T17:40:44+00:00",
          "2021-08-16T17:16:02+00:00",
          "2021-08-19T19:23:36+00:00",
          "2021-12-06T23:44:03+00:00",
          "2021-12-08T22:54:13+00:00"
         ],
         "xaxis": "x",
         "y": [
          167.20380408394897,
          165.77534408485326,
          164.19458084044535,
          162.1554633664342,
          157.09786057803922,
          154.38859366952948,
          154.26795517057053,
          166.7977804373068,
          169.38257456458396,
          172.36795152640326,
          179.69297153006315,
          180.1491590914436,
          196.85911513241456,
          197.16228079107213
         ],
         "yaxis": "y"
        },
        {
         "hovertemplate": "duration=60.0<br>dateTimePointer=%{x}<br>output=%{y}<extra></extra>",
         "legendgroup": "60.0",
         "marker": {
          "color": "#19d3f3",
          "symbol": "circle"
         },
         "mode": "markers",
         "name": "60.0",
         "orientation": "v",
         "showlegend": true,
         "type": "scatter",
         "x": [
          "2021-02-26T22:52:56+00:00",
          "2021-03-27T17:26:55+00:00",
          "2021-04-11T21:35:46+00:00",
          "2021-04-25T22:40:29+00:00",
          "2021-05-15T17:19:27+00:00"
         ],
         "xaxis": "x",
         "y": [
          695.0,
          697.0,
          708.0,
          685.0,
          720.0
         ],
         "yaxis": "y"
        },
        {
         "hovertemplate": "<b>LOWESS trendline</b><br><br>duration=60.0<br>dateTimePointer=%{x}<br>output=%{y} <b>(trend)</b><extra></extra>",
         "legendgroup": "60.0",
         "marker": {
          "color": "#19d3f3",
          "symbol": "circle"
         },
         "mode": "lines",
         "name": "60.0",
         "showlegend": false,
         "type": "scatter",
         "x": [
          "2021-02-26T22:52:56+00:00",
          "2021-03-27T17:26:55+00:00",
          "2021-04-11T21:35:46+00:00",
          "2021-04-25T22:40:29+00:00",
          "2021-05-15T17:19:27+00:00"
         ],
         "xaxis": "x",
         "y": [
          695.0000000000088,
          697.0000000001025,
          707.9999999999886,
          684.999999999885,
          720.0000000000942
         ],
         "yaxis": "y"
        }
       ],
       "layout": {
        "legend": {
         "title": {
          "text": "duration"
         },
         "tracegroupgap": 0
        },
        "margin": {
         "t": 60
        },
        "template": {
         "data": {
          "bar": [
           {
            "error_x": {
             "color": "#2a3f5f"
            },
            "error_y": {
             "color": "#2a3f5f"
            },
            "marker": {
             "line": {
              "color": "#E5ECF6",
              "width": 0.5
             }
            },
            "type": "bar"
           }
          ],
          "barpolar": [
           {
            "marker": {
             "line": {
              "color": "#E5ECF6",
              "width": 0.5
             }
            },
            "type": "barpolar"
           }
          ],
          "carpet": [
           {
            "aaxis": {
             "endlinecolor": "#2a3f5f",
             "gridcolor": "white",
             "linecolor": "white",
             "minorgridcolor": "white",
             "startlinecolor": "#2a3f5f"
            },
            "baxis": {
             "endlinecolor": "#2a3f5f",
             "gridcolor": "white",
             "linecolor": "white",
             "minorgridcolor": "white",
             "startlinecolor": "#2a3f5f"
            },
            "type": "carpet"
           }
          ],
          "choropleth": [
           {
            "colorbar": {
             "outlinewidth": 0,
             "ticks": ""
            },
            "type": "choropleth"
           }
          ],
          "contour": [
           {
            "colorbar": {
             "outlinewidth": 0,
             "ticks": ""
            },
            "colorscale": [
             [
              0.0,
              "#0d0887"
             ],
             [
              0.1111111111111111,
              "#46039f"
             ],
             [
              0.2222222222222222,
              "#7201a8"
             ],
             [
              0.3333333333333333,
              "#9c179e"
             ],
             [
              0.4444444444444444,
              "#bd3786"
             ],
             [
              0.5555555555555556,
              "#d8576b"
             ],
             [
              0.6666666666666666,
              "#ed7953"
             ],
             [
              0.7777777777777778,
              "#fb9f3a"
             ],
             [
              0.8888888888888888,
              "#fdca26"
             ],
             [
              1.0,
              "#f0f921"
             ]
            ],
            "type": "contour"
           }
          ],
          "contourcarpet": [
           {
            "colorbar": {
             "outlinewidth": 0,
             "ticks": ""
            },
            "type": "contourcarpet"
           }
          ],
          "heatmap": [
           {
            "colorbar": {
             "outlinewidth": 0,
             "ticks": ""
            },
            "colorscale": [
             [
              0.0,
              "#0d0887"
             ],
             [
              0.1111111111111111,
              "#46039f"
             ],
             [
              0.2222222222222222,
              "#7201a8"
             ],
             [
              0.3333333333333333,
              "#9c179e"
             ],
             [
              0.4444444444444444,
              "#bd3786"
             ],
             [
              0.5555555555555556,
              "#d8576b"
             ],
             [
              0.6666666666666666,
              "#ed7953"
             ],
             [
              0.7777777777777778,
              "#fb9f3a"
             ],
             [
              0.8888888888888888,
              "#fdca26"
             ],
             [
              1.0,
              "#f0f921"
             ]
            ],
            "type": "heatmap"
           }
          ],
          "heatmapgl": [
           {
            "colorbar": {
             "outlinewidth": 0,
             "ticks": ""
            },
            "colorscale": [
             [
              0.0,
              "#0d0887"
             ],
             [
              0.1111111111111111,
              "#46039f"
             ],
             [
              0.2222222222222222,
              "#7201a8"
             ],
             [
              0.3333333333333333,
              "#9c179e"
             ],
             [
              0.4444444444444444,
              "#bd3786"
             ],
             [
              0.5555555555555556,
              "#d8576b"
             ],
             [
              0.6666666666666666,
              "#ed7953"
             ],
             [
              0.7777777777777778,
              "#fb9f3a"
             ],
             [
              0.8888888888888888,
              "#fdca26"
             ],
             [
              1.0,
              "#f0f921"
             ]
            ],
            "type": "heatmapgl"
           }
          ],
          "histogram": [
           {
            "marker": {
             "colorbar": {
              "outlinewidth": 0,
              "ticks": ""
             }
            },
            "type": "histogram"
           }
          ],
          "histogram2d": [
           {
            "colorbar": {
             "outlinewidth": 0,
             "ticks": ""
            },
            "colorscale": [
             [
              0.0,
              "#0d0887"
             ],
             [
              0.1111111111111111,
              "#46039f"
             ],
             [
              0.2222222222222222,
              "#7201a8"
             ],
             [
              0.3333333333333333,
              "#9c179e"
             ],
             [
              0.4444444444444444,
              "#bd3786"
             ],
             [
              0.5555555555555556,
              "#d8576b"
             ],
             [
              0.6666666666666666,
              "#ed7953"
             ],
             [
              0.7777777777777778,
              "#fb9f3a"
             ],
             [
              0.8888888888888888,
              "#fdca26"
             ],
             [
              1.0,
              "#f0f921"
             ]
            ],
            "type": "histogram2d"
           }
          ],
          "histogram2dcontour": [
           {
            "colorbar": {
             "outlinewidth": 0,
             "ticks": ""
            },
            "colorscale": [
             [
              0.0,
              "#0d0887"
             ],
             [
              0.1111111111111111,
              "#46039f"
             ],
             [
              0.2222222222222222,
              "#7201a8"
             ],
             [
              0.3333333333333333,
              "#9c179e"
             ],
             [
              0.4444444444444444,
              "#bd3786"
             ],
             [
              0.5555555555555556,
              "#d8576b"
             ],
             [
              0.6666666666666666,
              "#ed7953"
             ],
             [
              0.7777777777777778,
              "#fb9f3a"
             ],
             [
              0.8888888888888888,
              "#fdca26"
             ],
             [
              1.0,
              "#f0f921"
             ]
            ],
            "type": "histogram2dcontour"
           }
          ],
          "mesh3d": [
           {
            "colorbar": {
             "outlinewidth": 0,
             "ticks": ""
            },
            "type": "mesh3d"
           }
          ],
          "parcoords": [
           {
            "line": {
             "colorbar": {
              "outlinewidth": 0,
              "ticks": ""
             }
            },
            "type": "parcoords"
           }
          ],
          "pie": [
           {
            "automargin": true,
            "type": "pie"
           }
          ],
          "scatter": [
           {
            "marker": {
             "colorbar": {
              "outlinewidth": 0,
              "ticks": ""
             }
            },
            "type": "scatter"
           }
          ],
          "scatter3d": [
           {
            "line": {
             "colorbar": {
              "outlinewidth": 0,
              "ticks": ""
             }
            },
            "marker": {
             "colorbar": {
              "outlinewidth": 0,
              "ticks": ""
             }
            },
            "type": "scatter3d"
           }
          ],
          "scattercarpet": [
           {
            "marker": {
             "colorbar": {
              "outlinewidth": 0,
              "ticks": ""
             }
            },
            "type": "scattercarpet"
           }
          ],
          "scattergeo": [
           {
            "marker": {
             "colorbar": {
              "outlinewidth": 0,
              "ticks": ""
             }
            },
            "type": "scattergeo"
           }
          ],
          "scattergl": [
           {
            "marker": {
             "colorbar": {
              "outlinewidth": 0,
              "ticks": ""
             }
            },
            "type": "scattergl"
           }
          ],
          "scattermapbox": [
           {
            "marker": {
             "colorbar": {
              "outlinewidth": 0,
              "ticks": ""
             }
            },
            "type": "scattermapbox"
           }
          ],
          "scatterpolar": [
           {
            "marker": {
             "colorbar": {
              "outlinewidth": 0,
              "ticks": ""
             }
            },
            "type": "scatterpolar"
           }
          ],
          "scatterpolargl": [
           {
            "marker": {
             "colorbar": {
              "outlinewidth": 0,
              "ticks": ""
             }
            },
            "type": "scatterpolargl"
           }
          ],
          "scatterternary": [
           {
            "marker": {
             "colorbar": {
              "outlinewidth": 0,
              "ticks": ""
             }
            },
            "type": "scatterternary"
           }
          ],
          "surface": [
           {
            "colorbar": {
             "outlinewidth": 0,
             "ticks": ""
            },
            "colorscale": [
             [
              0.0,
              "#0d0887"
             ],
             [
              0.1111111111111111,
              "#46039f"
             ],
             [
              0.2222222222222222,
              "#7201a8"
             ],
             [
              0.3333333333333333,
              "#9c179e"
             ],
             [
              0.4444444444444444,
              "#bd3786"
             ],
             [
              0.5555555555555556,
              "#d8576b"
             ],
             [
              0.6666666666666666,
              "#ed7953"
             ],
             [
              0.7777777777777778,
              "#fb9f3a"
             ],
             [
              0.8888888888888888,
              "#fdca26"
             ],
             [
              1.0,
              "#f0f921"
             ]
            ],
            "type": "surface"
           }
          ],
          "table": [
           {
            "cells": {
             "fill": {
              "color": "#EBF0F8"
             },
             "line": {
              "color": "white"
             }
            },
            "header": {
             "fill": {
              "color": "#C8D4E3"
             },
             "line": {
              "color": "white"
             }
            },
            "type": "table"
           }
          ]
         },
         "layout": {
          "annotationdefaults": {
           "arrowcolor": "#2a3f5f",
           "arrowhead": 0,
           "arrowwidth": 1
          },
          "autotypenumbers": "strict",
          "coloraxis": {
           "colorbar": {
            "outlinewidth": 0,
            "ticks": ""
           }
          },
          "colorscale": {
           "diverging": [
            [
             0,
             "#8e0152"
            ],
            [
             0.1,
             "#c51b7d"
            ],
            [
             0.2,
             "#de77ae"
            ],
            [
             0.3,
             "#f1b6da"
            ],
            [
             0.4,
             "#fde0ef"
            ],
            [
             0.5,
             "#f7f7f7"
            ],
            [
             0.6,
             "#e6f5d0"
            ],
            [
             0.7,
             "#b8e186"
            ],
            [
             0.8,
             "#7fbc41"
            ],
            [
             0.9,
             "#4d9221"
            ],
            [
             1,
             "#276419"
            ]
           ],
           "sequential": [
            [
             0.0,
             "#0d0887"
            ],
            [
             0.1111111111111111,
             "#46039f"
            ],
            [
             0.2222222222222222,
             "#7201a8"
            ],
            [
             0.3333333333333333,
             "#9c179e"
            ],
            [
             0.4444444444444444,
             "#bd3786"
            ],
            [
             0.5555555555555556,
             "#d8576b"
            ],
            [
             0.6666666666666666,
             "#ed7953"
            ],
            [
             0.7777777777777778,
             "#fb9f3a"
            ],
            [
             0.8888888888888888,
             "#fdca26"
            ],
            [
             1.0,
             "#f0f921"
            ]
           ],
           "sequentialminus": [
            [
             0.0,
             "#0d0887"
            ],
            [
             0.1111111111111111,
             "#46039f"
            ],
            [
             0.2222222222222222,
             "#7201a8"
            ],
            [
             0.3333333333333333,
             "#9c179e"
            ],
            [
             0.4444444444444444,
             "#bd3786"
            ],
            [
             0.5555555555555556,
             "#d8576b"
            ],
            [
             0.6666666666666666,
             "#ed7953"
            ],
            [
             0.7777777777777778,
             "#fb9f3a"
            ],
            [
             0.8888888888888888,
             "#fdca26"
            ],
            [
             1.0,
             "#f0f921"
            ]
           ]
          },
          "colorway": [
           "#636efa",
           "#EF553B",
           "#00cc96",
           "#ab63fa",
           "#FFA15A",
           "#19d3f3",
           "#FF6692",
           "#B6E880",
           "#FF97FF",
           "#FECB52"
          ],
          "font": {
           "color": "#2a3f5f"
          },
          "geo": {
           "bgcolor": "white",
           "lakecolor": "white",
           "landcolor": "#E5ECF6",
           "showlakes": true,
           "showland": true,
           "subunitcolor": "white"
          },
          "hoverlabel": {
           "align": "left"
          },
          "hovermode": "closest",
          "mapbox": {
           "style": "light"
          },
          "paper_bgcolor": "white",
          "plot_bgcolor": "#E5ECF6",
          "polar": {
           "angularaxis": {
            "gridcolor": "white",
            "linecolor": "white",
            "ticks": ""
           },
           "bgcolor": "#E5ECF6",
           "radialaxis": {
            "gridcolor": "white",
            "linecolor": "white",
            "ticks": ""
           }
          },
          "scene": {
           "xaxis": {
            "backgroundcolor": "#E5ECF6",
            "gridcolor": "white",
            "gridwidth": 2,
            "linecolor": "white",
            "showbackground": true,
            "ticks": "",
            "zerolinecolor": "white"
           },
           "yaxis": {
            "backgroundcolor": "#E5ECF6",
            "gridcolor": "white",
            "gridwidth": 2,
            "linecolor": "white",
            "showbackground": true,
            "ticks": "",
            "zerolinecolor": "white"
           },
           "zaxis": {
            "backgroundcolor": "#E5ECF6",
            "gridcolor": "white",
            "gridwidth": 2,
            "linecolor": "white",
            "showbackground": true,
            "ticks": "",
            "zerolinecolor": "white"
           }
          },
          "shapedefaults": {
           "line": {
            "color": "#2a3f5f"
           }
          },
          "ternary": {
           "aaxis": {
            "gridcolor": "white",
            "linecolor": "white",
            "ticks": ""
           },
           "baxis": {
            "gridcolor": "white",
            "linecolor": "white",
            "ticks": ""
           },
           "bgcolor": "#E5ECF6",
           "caxis": {
            "gridcolor": "white",
            "linecolor": "white",
            "ticks": ""
           }
          },
          "title": {
           "x": 0.05
          },
          "xaxis": {
           "automargin": true,
           "gridcolor": "white",
           "linecolor": "white",
           "ticks": "",
           "title": {
            "standoff": 15
           },
           "zerolinecolor": "white",
           "zerolinewidth": 2
          },
          "yaxis": {
           "automargin": true,
           "gridcolor": "white",
           "linecolor": "white",
           "ticks": "",
           "title": {
            "standoff": 15
           },
           "zerolinecolor": "white",
           "zerolinewidth": 2
          }
         }
        },
        "xaxis": {
         "anchor": "y",
         "domain": [
          0.0,
          1.0
         ],
         "title": {
          "text": "dateTimePointer"
         }
        },
        "yaxis": {
         "anchor": "x",
         "domain": [
          0.0,
          1.0
         ],
         "title": {
          "text": "output"
         }
        }
       }
      },
      "text/html": "<div>                            <div id=\"8beedc4e-e6fa-4aa6-b113-26183dd25b6a\" class=\"plotly-graph-div\" style=\"height:525px; width:100%;\"></div>            <script type=\"text/javascript\">                require([\"plotly\"], function(Plotly) {                    window.PLOTLYENV=window.PLOTLYENV || {};                                    if (document.getElementById(\"8beedc4e-e6fa-4aa6-b113-26183dd25b6a\")) {                    Plotly.newPlot(                        \"8beedc4e-e6fa-4aa6-b113-26183dd25b6a\",                        [{\"hovertemplate\": \"duration=30.0<br>dateTimePointer=%{x}<br>output=%{y}<extra></extra>\", \"legendgroup\": \"30.0\", \"marker\": {\"color\": \"#636efa\", \"symbol\": \"circle\"}, \"mode\": \"markers\", \"name\": \"30.0\", \"orientation\": \"v\", \"showlegend\": true, \"type\": \"scatter\", \"x\": [\"2020-10-19T22:04:39+00:00\", \"2020-10-20T16:26:32+00:00\", \"2020-10-23T20:02:50+00:00\", \"2020-10-25T19:29:59+00:00\", \"2020-10-27T21:30:58+00:00\", \"2020-11-03T23:33:18+00:00\", \"2020-11-10T00:29:38+00:00\", \"2020-11-11T23:53:59+00:00\", \"2020-11-12T23:25:00+00:00\", \"2020-11-16T22:56:31+00:00\", \"2020-11-18T13:05:19+00:00\", \"2020-11-19T12:55:12+00:00\", \"2020-11-22T15:42:56+00:00\", \"2020-11-29T17:51:58+00:00\", \"2020-11-30T12:52:53+00:00\", \"2020-12-03T13:03:36+00:00\", \"2020-12-04T21:36:55+00:00\", \"2020-12-06T14:51:11+00:00\", \"2020-12-13T16:03:36+00:00\", \"2020-12-13T16:37:32+00:00\", \"2020-12-15T13:11:24+00:00\", \"2020-12-17T13:27:18+00:00\", \"2020-12-18T12:59:02+00:00\", \"2020-12-21T13:00:12+00:00\", \"2020-12-21T13:32:58+00:00\", \"2020-12-22T18:08:55+00:00\", \"2020-12-23T15:34:29+00:00\", \"2020-12-26T16:25:41+00:00\", \"2020-12-27T23:02:26+00:00\", \"2020-12-28T23:55:31+00:00\", \"2020-12-29T00:26:18+00:00\", \"2020-12-31T20:28:25+00:00\", \"2020-12-31T21:01:20+00:00\", \"2021-01-01T23:55:19+00:00\", \"2021-01-05T12:46:54+00:00\", \"2021-01-13T17:15:21+00:00\", \"2021-01-14T23:23:06+00:00\", \"2021-01-16T00:37:33+00:00\", \"2021-01-21T22:44:05+00:00\", \"2021-01-26T00:25:07+00:00\", \"2021-01-27T17:52:16+00:00\", \"2021-01-28T23:54:23+00:00\", \"2021-01-30T18:25:54+00:00\", \"2021-01-31T22:19:41+00:00\", \"2021-01-31T22:53:31+00:00\", \"2021-02-05T22:45:45+00:00\", \"2021-02-10T22:43:33+00:00\", \"2021-02-12T23:33:46+00:00\", \"2021-02-17T00:23:13+00:00\", \"2021-02-17T23:00:10+00:00\", \"2021-02-18T22:25:03+00:00\", \"2021-02-20T22:52:07+00:00\", \"2021-03-02T22:26:02+00:00\", \"2021-03-04T23:08:37+00:00\", \"2021-03-11T22:17:21+00:00\", \"2021-03-16T22:13:14+00:00\", \"2021-03-19T12:04:38+00:00\", \"2021-03-25T22:51:52+00:00\", \"2021-03-28T23:27:59+00:00\", \"2021-04-02T21:11:59+00:00\", \"2021-04-09T22:07:07+00:00\", \"2021-04-12T23:26:00+00:00\", \"2021-04-14T23:25:14+00:00\", \"2021-04-15T22:30:12+00:00\", \"2021-04-19T16:31:47+00:00\", \"2021-04-21T22:08:56+00:00\", \"2021-04-29T23:31:12+00:00\", \"2021-05-09T16:21:42+00:00\", \"2021-05-16T22:36:17+00:00\", \"2021-05-29T19:38:33+00:00\", \"2021-06-02T20:03:53+00:00\", \"2021-06-03T16:42:24+00:00\", \"2021-06-08T23:49:16+00:00\", \"2021-06-09T00:20:05+00:00\", \"2021-06-10T22:33:46+00:00\", \"2021-06-20T15:38:18+00:00\", \"2021-06-24T17:09:22+00:00\", \"2021-06-29T18:46:39+00:00\", \"2021-06-29T18:46:59+00:00\", \"2021-07-28T00:08:15+00:00\", \"2021-07-30T15:20:46+00:00\", \"2021-07-30T15:52:22+00:00\", \"2021-08-06T23:09:11+00:00\", \"2021-08-06T23:39:59+00:00\", \"2021-08-07T00:10:28+00:00\", \"2021-08-11T21:47:55+00:00\", \"2021-08-11T22:18:26+00:00\", \"2021-08-16T16:44:37+00:00\", \"2021-08-19T18:52:22+00:00\", \"2021-09-01T20:54:01+00:00\", \"2021-09-08T15:04:19+00:00\", \"2021-09-21T16:50:07+00:00\", \"2021-09-21T17:21:28+00:00\", \"2021-10-12T22:16:29+00:00\", \"2021-10-15T21:57:28+00:00\", \"2021-10-15T22:28:38+00:00\", \"2021-10-24T23:16:02+00:00\", \"2021-10-29T20:29:32+00:00\", \"2021-10-29T21:00:20+00:00\", \"2021-11-09T23:03:40+00:00\", \"2021-11-10T22:39:02+00:00\", \"2021-11-11T23:08:39+00:00\", \"2021-11-18T23:06:54+00:00\", \"2021-11-19T21:55:19+00:00\", \"2021-11-19T22:27:56+00:00\", \"2021-11-24T21:15:43+00:00\", \"2021-11-24T21:47:48+00:00\", \"2021-12-02T22:25:50+00:00\", \"2021-12-04T17:55:24+00:00\", \"2021-12-08T22:21:21+00:00\", \"2021-12-08T23:10:51+00:00\", \"2021-12-17T21:39:33+00:00\", \"2021-12-21T22:56:45+00:00\", \"2021-12-21T23:27:58+00:00\", \"2021-12-29T21:12:36+00:00\"], \"xaxis\": \"x\", \"y\": [246.0, 289.0, 303.0, 321.0, 288.0, 332.0, 360.0, 301.0, 321.0, 328.0, 321.0, 327.0, 316.0, 300.0, 364.0, 281.0, 368.0, 300.0, 387.0, 309.0, 283.0, 347.0, 291.0, 335.0, 301.0, 390.0, 311.0, 336.0, 364.0, 355.0, 357.0, 362.0, 371.0, 391.0, 333.0, 394.0, 394.0, 411.0, 370.0, 375.0, 380.0, 388.0, 377.0, 326.0, 375.0, 334.0, 353.0, 374.0, null, 386.0, 356.0, 364.0, 362.0, 388.0, 339.0, 338.0, 320.0, 378.0, 328.0, 336.0, 383.0, 355.0, 366.0, 372.0, 354.0, 354.0, 356.0, 358.0, 323.0, 316.0, 82.0, 333.0, 318.0, 353.0, 352.0, 323.0, 330.0, null, 344.0, 336.0, 341.0, 336.0, 337.0, 362.0, 320.0, 375.0, 334.0, 365.0, 376.0, 354.0, 366.0, 349.0, 316.0, 390.0, 350.0, 339.0, 369.0, 371.0, 329.0, 347.0, 353.0, 356.0, 385.0, 363.0, 395.0, 341.0, 333.0, 172.0, 363.0, 355.0, 355.0, 357.0, 354.0, 368.0, 346.0], \"yaxis\": \"y\"}, {\"hovertemplate\": \"<b>LOWESS trendline</b><br><br>duration=30.0<br>dateTimePointer=%{x}<br>output=%{y} <b>(trend)</b><extra></extra>\", \"legendgroup\": \"30.0\", \"marker\": {\"color\": \"#636efa\", \"symbol\": \"circle\"}, \"mode\": \"lines\", \"name\": \"30.0\", \"showlegend\": false, \"type\": \"scatter\", \"x\": [\"2020-10-19T22:04:39+00:00\", \"2020-10-20T16:26:32+00:00\", \"2020-10-23T20:02:50+00:00\", \"2020-10-25T19:29:59+00:00\", \"2020-10-27T21:30:58+00:00\", \"2020-11-03T23:33:18+00:00\", \"2020-11-10T00:29:38+00:00\", \"2020-11-11T23:53:59+00:00\", \"2020-11-12T23:25:00+00:00\", \"2020-11-16T22:56:31+00:00\", \"2020-11-18T13:05:19+00:00\", \"2020-11-19T12:55:12+00:00\", \"2020-11-22T15:42:56+00:00\", \"2020-11-29T17:51:58+00:00\", \"2020-11-30T12:52:53+00:00\", \"2020-12-03T13:03:36+00:00\", \"2020-12-04T21:36:55+00:00\", \"2020-12-06T14:51:11+00:00\", \"2020-12-13T16:03:36+00:00\", \"2020-12-13T16:37:32+00:00\", \"2020-12-15T13:11:24+00:00\", \"2020-12-17T13:27:18+00:00\", \"2020-12-18T12:59:02+00:00\", \"2020-12-21T13:00:12+00:00\", \"2020-12-21T13:32:58+00:00\", \"2020-12-22T18:08:55+00:00\", \"2020-12-23T15:34:29+00:00\", \"2020-12-26T16:25:41+00:00\", \"2020-12-27T23:02:26+00:00\", \"2020-12-28T23:55:31+00:00\", \"2020-12-29T00:26:18+00:00\", \"2020-12-31T20:28:25+00:00\", \"2020-12-31T21:01:20+00:00\", \"2021-01-01T23:55:19+00:00\", \"2021-01-05T12:46:54+00:00\", \"2021-01-13T17:15:21+00:00\", \"2021-01-14T23:23:06+00:00\", \"2021-01-16T00:37:33+00:00\", \"2021-01-21T22:44:05+00:00\", \"2021-01-26T00:25:07+00:00\", \"2021-01-27T17:52:16+00:00\", \"2021-01-28T23:54:23+00:00\", \"2021-01-30T18:25:54+00:00\", \"2021-01-31T22:19:41+00:00\", \"2021-01-31T22:53:31+00:00\", \"2021-02-05T22:45:45+00:00\", \"2021-02-10T22:43:33+00:00\", \"2021-02-12T23:33:46+00:00\", \"2021-02-17T23:00:10+00:00\", \"2021-02-18T22:25:03+00:00\", \"2021-02-20T22:52:07+00:00\", \"2021-03-02T22:26:02+00:00\", \"2021-03-04T23:08:37+00:00\", \"2021-03-11T22:17:21+00:00\", \"2021-03-16T22:13:14+00:00\", \"2021-03-19T12:04:38+00:00\", \"2021-03-25T22:51:52+00:00\", \"2021-03-28T23:27:59+00:00\", \"2021-04-02T21:11:59+00:00\", \"2021-04-09T22:07:07+00:00\", \"2021-04-12T23:26:00+00:00\", \"2021-04-14T23:25:14+00:00\", \"2021-04-15T22:30:12+00:00\", \"2021-04-19T16:31:47+00:00\", \"2021-04-21T22:08:56+00:00\", \"2021-04-29T23:31:12+00:00\", \"2021-05-09T16:21:42+00:00\", \"2021-05-16T22:36:17+00:00\", \"2021-05-29T19:38:33+00:00\", \"2021-06-02T20:03:53+00:00\", \"2021-06-03T16:42:24+00:00\", \"2021-06-08T23:49:16+00:00\", \"2021-06-09T00:20:05+00:00\", \"2021-06-10T22:33:46+00:00\", \"2021-06-20T15:38:18+00:00\", \"2021-06-24T17:09:22+00:00\", \"2021-06-29T18:46:59+00:00\", \"2021-07-28T00:08:15+00:00\", \"2021-07-30T15:20:46+00:00\", \"2021-07-30T15:52:22+00:00\", \"2021-08-06T23:09:11+00:00\", \"2021-08-06T23:39:59+00:00\", \"2021-08-07T00:10:28+00:00\", \"2021-08-11T21:47:55+00:00\", \"2021-08-11T22:18:26+00:00\", \"2021-08-16T16:44:37+00:00\", \"2021-08-19T18:52:22+00:00\", \"2021-09-01T20:54:01+00:00\", \"2021-09-08T15:04:19+00:00\", \"2021-09-21T16:50:07+00:00\", \"2021-09-21T17:21:28+00:00\", \"2021-10-12T22:16:29+00:00\", \"2021-10-15T21:57:28+00:00\", \"2021-10-15T22:28:38+00:00\", \"2021-10-24T23:16:02+00:00\", \"2021-10-29T20:29:32+00:00\", \"2021-10-29T21:00:20+00:00\", \"2021-11-09T23:03:40+00:00\", \"2021-11-10T22:39:02+00:00\", \"2021-11-11T23:08:39+00:00\", \"2021-11-18T23:06:54+00:00\", \"2021-11-19T21:55:19+00:00\", \"2021-11-19T22:27:56+00:00\", \"2021-11-24T21:15:43+00:00\", \"2021-11-24T21:47:48+00:00\", \"2021-12-02T22:25:50+00:00\", \"2021-12-04T17:55:24+00:00\", \"2021-12-08T22:21:21+00:00\", \"2021-12-08T23:10:51+00:00\", \"2021-12-17T21:39:33+00:00\", \"2021-12-21T22:56:45+00:00\", \"2021-12-21T23:27:58+00:00\", \"2021-12-29T21:12:36+00:00\"], \"xaxis\": \"x\", \"y\": [314.23000848236177, 314.55598770979435, 315.8906511021416, 316.72221898864524, 317.59354348330834, 320.51547353995807, 322.95627866181945, 323.7444670550355, 324.133582290714, 325.70112703033783, 326.3211960541476, 326.7068416652911, 327.90848032456427, 330.5920016171347, 330.88752263217503, 332.00116753585945, 332.49924290078366, 333.1263703354996, 335.65499301144376, 335.6633239020062, 336.31723832262463, 337.0197849924303, 337.3601356057374, 338.3932257049564, 338.40100957620757, 338.80759735286154, 339.1108699685595, 340.13355965545173, 340.559407131144, 340.90390379836754, 340.91099067838684, 341.84516774033335, 341.8526555123104, 342.2189153103137, 343.36290799484163, 345.9428786792497, 346.3297239897101, 346.6519348733059, 348.4322459933856, 349.61930515526467, 350.1128189387567, 350.4662459786023, 350.96022451501454, 351.2798892912093, 351.28631317499344, 352.61370446436126, 353.84942294654905, 354.3193373691762, 355.37195044891206, 355.529140450174, 355.48598518137584, 355.0177510461232, 354.7578193512964, 353.9213592813324, 353.8880756583778, 353.7270881871281, 353.2561498575519, 352.7951844251753, 352.23618054950924, 351.25865858577913, 350.8941266935251, 350.6907187886046, 350.5834261249652, 350.24115440904797, 350.0756248121783, 349.5742153089155, 349.338835512794, 348.7632145902368, 348.3137040145995, 348.07440397239196, 348.0752446973274, 347.8759252581797, 347.8736933946279, 347.8556492291038, 347.94189287402975, 347.8342187057168, 347.8465263019325, 348.84122659434786, 348.98694349591364, 348.98814320834515, 349.3780661489593, 349.3791884405897, 349.3802991209747, 349.63615975021617, 349.63726318807466, 349.8858392170758, 350.0478124078134, 350.75097309202476, 351.1278299378149, 351.886208083035, 351.8875027422482, 353.19773611706677, 353.3900582366522, 353.391458579901, 353.9840052781086, 354.31088195584954, 354.3123228320567, 355.0695164676048, 355.1376059044213, 355.20846115753085, 355.6985289713938, 355.76561359301303, 355.76721411231665, 356.1185857503913, 356.12017413400355, 356.69589733725104, 356.8267819051318, 357.13014255528014, 357.132640635851, 357.7850655806495, 358.0827304848024, 358.0843248843282, 358.66733239295], \"yaxis\": \"y\"}, {\"hovertemplate\": \"duration=20.0<br>dateTimePointer=%{x}<br>output=%{y}<extra></extra>\", \"legendgroup\": \"20.0\", \"marker\": {\"color\": \"#EF553B\", \"symbol\": \"circle\"}, \"mode\": \"markers\", \"name\": \"20.0\", \"orientation\": \"v\", \"showlegend\": true, \"type\": \"scatter\", \"x\": [\"2020-10-21T16:49:17+00:00\", \"2020-11-01T15:06:51+00:00\", \"2020-11-24T12:48:14+00:00\", \"2020-11-24T13:11:24+00:00\", \"2020-11-30T12:30:44+00:00\", \"2020-12-03T12:36:47+00:00\", \"2020-12-17T14:00:29+00:00\", \"2021-01-10T22:01:55+00:00\", \"2021-01-10T22:30:07+00:00\", \"2021-01-14T23:58:08+00:00\", \"2021-01-17T23:42:06+00:00\", \"2021-01-23T18:37:08+00:00\", \"2021-01-28T23:31:31+00:00\", \"2021-01-29T17:58:46+00:00\", \"2021-02-03T00:43:04+00:00\", \"2021-02-20T23:24:54+00:00\", \"2021-03-01T22:39:53+00:00\", \"2021-03-10T17:52:35+00:00\", \"2021-03-10T18:12:59+00:00\", \"2021-03-23T21:18:15+00:00\", \"2021-03-23T21:39:30+00:00\", \"2021-04-02T21:43:19+00:00\", \"2021-04-15T22:09:41+00:00\", \"2021-04-21T22:41:09+00:00\", \"2021-06-10T22:12:33+00:00\", \"2021-07-08T01:57:13+00:00\", \"2021-07-08T02:18:35+00:00\", \"2021-07-27T23:47:02+00:00\", \"2021-08-11T21:26:30+00:00\", \"2021-09-16T16:55:19+00:00\", \"2021-10-24T23:50:52+00:00\", \"2021-11-02T21:11:31+00:00\", \"2021-11-02T21:32:44+00:00\", \"2021-11-10T22:16:43+00:00\", \"2021-11-15T21:52:45+00:00\", \"2021-11-17T23:20:26+00:00\", \"2021-11-18T22:44:34+00:00\", \"2021-12-02T22:04:33+00:00\", \"2021-12-06T23:22:49+00:00\", \"2021-12-22T23:30:49+00:00\"], \"xaxis\": \"x\", \"y\": [174.0, 192.0, 201.0, 233.0, 185.0, 267.0, 194.0, 266.0, 225.0, 246.0, 310.0, 226.0, 227.0, 241.0, 232.0, 247.0, 223.0, 261.0, 254.0, 264.0, 262.0, 228.0, 216.0, 252.0, 207.0, 194.0, 229.0, 223.0, 239.0, 216.0, 252.0, 233.0, 260.0, 201.0, 218.0, 210.0, 240.0, 254.0, 229.0, 259.0], \"yaxis\": \"y\"}, {\"hovertemplate\": \"<b>LOWESS trendline</b><br><br>duration=20.0<br>dateTimePointer=%{x}<br>output=%{y} <b>(trend)</b><extra></extra>\", \"legendgroup\": \"20.0\", \"marker\": {\"color\": \"#EF553B\", \"symbol\": \"circle\"}, \"mode\": \"lines\", \"name\": \"20.0\", \"showlegend\": false, \"type\": \"scatter\", \"x\": [\"2020-10-21T16:49:17+00:00\", \"2020-11-01T15:06:51+00:00\", \"2020-11-24T12:48:14+00:00\", \"2020-11-24T13:11:24+00:00\", \"2020-11-30T12:30:44+00:00\", \"2020-12-03T12:36:47+00:00\", \"2020-12-17T14:00:29+00:00\", \"2021-01-10T22:01:55+00:00\", \"2021-01-10T22:30:07+00:00\", \"2021-01-14T23:58:08+00:00\", \"2021-01-17T23:42:06+00:00\", \"2021-01-23T18:37:08+00:00\", \"2021-01-28T23:31:31+00:00\", \"2021-01-29T17:58:46+00:00\", \"2021-02-03T00:43:04+00:00\", \"2021-02-20T23:24:54+00:00\", \"2021-03-01T22:39:53+00:00\", \"2021-03-10T17:52:35+00:00\", \"2021-03-10T18:12:59+00:00\", \"2021-03-23T21:18:15+00:00\", \"2021-03-23T21:39:30+00:00\", \"2021-04-02T21:43:19+00:00\", \"2021-04-15T22:09:41+00:00\", \"2021-04-21T22:41:09+00:00\", \"2021-06-10T22:12:33+00:00\", \"2021-07-08T01:57:13+00:00\", \"2021-07-08T02:18:35+00:00\", \"2021-07-27T23:47:02+00:00\", \"2021-08-11T21:26:30+00:00\", \"2021-09-16T16:55:19+00:00\", \"2021-10-24T23:50:52+00:00\", \"2021-11-02T21:11:31+00:00\", \"2021-11-02T21:32:44+00:00\", \"2021-11-10T22:16:43+00:00\", \"2021-11-15T21:52:45+00:00\", \"2021-11-17T23:20:26+00:00\", \"2021-11-18T22:44:34+00:00\", \"2021-12-02T22:04:33+00:00\", \"2021-12-06T23:22:49+00:00\", \"2021-12-22T23:30:49+00:00\"], \"xaxis\": \"x\", \"y\": [197.0173975319704, 201.29220443301477, 209.9715461877743, 209.9775204502194, 212.1840801713415, 213.28585686249025, 218.36952285771056, 226.87133339203993, 226.87801238342118, 228.2565038679557, 229.26185598515073, 231.1813650443335, 232.86646240279987, 233.11128342573386, 234.45005330695966, 239.2901602367378, 240.89842555144187, 241.0500612017127, 241.048384127616, 239.93109072175733, 239.93005981877212, 237.65219687438062, 234.70635588239108, 233.8554985503428, 227.8746198402225, 227.83682897391003, 227.83834357472153, 228.44383324059984, 228.8977814078423, 230.2810085916096, 232.59568123213398, 233.23507232616709, 233.23615842385638, 233.8397077308373, 234.22475301090088, 234.3861538537098, 234.46295170977592, 235.59462592519827, 235.93423068348693, 237.32455236813493], \"yaxis\": \"y\"}, {\"hovertemplate\": \"duration=45.0<br>dateTimePointer=%{x}<br>output=%{y}<extra></extra>\", \"legendgroup\": \"45.0\", \"marker\": {\"color\": \"#00cc96\", \"symbol\": \"circle\"}, \"mode\": \"markers\", \"name\": \"45.0\", \"orientation\": \"v\", \"showlegend\": true, \"type\": \"scatter\", \"x\": [\"2020-10-29T21:42:19+00:00\", \"2020-11-10T23:24:55+00:00\", \"2020-11-23T12:47:48+00:00\", \"2020-11-26T12:58:22+00:00\", \"2020-12-05T18:26:01+00:00\", \"2020-12-08T12:41:41+00:00\", \"2020-12-09T12:32:42+00:00\", \"2020-12-19T18:26:05+00:00\", \"2020-12-23T14:46:57+00:00\", \"2020-12-26T17:00:49+00:00\", \"2021-01-02T18:19:21+00:00\", \"2021-01-04T12:28:14+00:00\", \"2021-01-06T12:50:25+00:00\", \"2021-01-09T18:46:32+00:00\", \"2021-01-12T12:51:16+00:00\", \"2021-01-19T22:53:27+00:00\", \"2021-01-21T00:02:35+00:00\", \"2021-01-24T23:02:13+00:00\", \"2021-02-04T23:28:20+00:00\", \"2021-02-06T18:26:01+00:00\", \"2021-02-09T00:21:26+00:00\", \"2021-02-14T20:47:57+00:00\", \"2021-02-16T12:36:59+00:00\", \"2021-02-23T00:09:52+00:00\", \"2021-02-23T23:27:47+00:00\", \"2021-02-28T18:30:16+00:00\", \"2021-03-14T21:53:15+00:00\", \"2021-03-21T17:58:26+00:00\", \"2021-04-06T22:24:46+00:00\", \"2021-04-23T22:59:46+00:00\", \"2021-04-27T22:13:08+00:00\", \"2021-05-05T22:10:31+00:00\", \"2021-05-10T23:26:36+00:00\", \"2021-05-18T22:26:07+00:00\", \"2021-06-14T18:40:17+00:00\", \"2021-06-20T16:11:32+00:00\", \"2021-08-09T01:45:26+00:00\", \"2021-09-24T21:54:57+00:00\", \"2021-09-29T22:16:50+00:00\", \"2021-10-06T21:47:52+00:00\", \"2021-11-06T14:57:23+00:00\", \"2021-11-09T22:16:55+00:00\", \"2021-11-14T20:21:07+00:00\", \"2021-11-15T22:15:45+00:00\", \"2021-11-22T17:40:53+00:00\", \"2021-11-29T22:30:03+00:00\", \"2021-12-04T18:26:14+00:00\", \"2021-12-05T17:36:19+00:00\", \"2021-12-13T23:17:16+00:00\", \"2021-12-14T22:20:15+00:00\", \"2021-12-27T16:25:16+00:00\"], \"xaxis\": \"x\", \"y\": [460.0, 545.0, 509.0, 521.0, 578.0, 486.0, 505.0, 572.0, 484.0, 477.0, 541.0, 508.0, 511.0, 586.0, 515.0, 520.0, 602.0, 531.0, 532.0, 567.0, 566.0, 537.0, 477.0, 495.0, 522.0, 542.0, 512.0, 510.0, 382.0, 444.0, 460.0, 520.0, 502.0, 455.0, 485.0, 448.0, 527.0, 535.0, 585.0, 547.0, 510.0, 513.0, 569.0, 534.0, 574.0, 552.0, 598.0, 547.0, 621.0, 531.0, 500.0], \"yaxis\": \"y\"}, {\"hovertemplate\": \"<b>LOWESS trendline</b><br><br>duration=45.0<br>dateTimePointer=%{x}<br>output=%{y} <b>(trend)</b><extra></extra>\", \"legendgroup\": \"45.0\", \"marker\": {\"color\": \"#00cc96\", \"symbol\": \"circle\"}, \"mode\": \"lines\", \"name\": \"45.0\", \"showlegend\": false, \"type\": \"scatter\", \"x\": [\"2020-10-29T21:42:19+00:00\", \"2020-11-10T23:24:55+00:00\", \"2020-11-23T12:47:48+00:00\", \"2020-11-26T12:58:22+00:00\", \"2020-12-05T18:26:01+00:00\", \"2020-12-08T12:41:41+00:00\", \"2020-12-09T12:32:42+00:00\", \"2020-12-19T18:26:05+00:00\", \"2020-12-23T14:46:57+00:00\", \"2020-12-26T17:00:49+00:00\", \"2021-01-02T18:19:21+00:00\", \"2021-01-04T12:28:14+00:00\", \"2021-01-06T12:50:25+00:00\", \"2021-01-09T18:46:32+00:00\", \"2021-01-12T12:51:16+00:00\", \"2021-01-19T22:53:27+00:00\", \"2021-01-21T00:02:35+00:00\", \"2021-01-24T23:02:13+00:00\", \"2021-02-04T23:28:20+00:00\", \"2021-02-06T18:26:01+00:00\", \"2021-02-09T00:21:26+00:00\", \"2021-02-14T20:47:57+00:00\", \"2021-02-16T12:36:59+00:00\", \"2021-02-23T00:09:52+00:00\", \"2021-02-23T23:27:47+00:00\", \"2021-02-28T18:30:16+00:00\", \"2021-03-14T21:53:15+00:00\", \"2021-03-21T17:58:26+00:00\", \"2021-04-06T22:24:46+00:00\", \"2021-04-23T22:59:46+00:00\", \"2021-04-27T22:13:08+00:00\", \"2021-05-05T22:10:31+00:00\", \"2021-05-10T23:26:36+00:00\", \"2021-05-18T22:26:07+00:00\", \"2021-06-14T18:40:17+00:00\", \"2021-06-20T16:11:32+00:00\", \"2021-08-09T01:45:26+00:00\", \"2021-09-24T21:54:57+00:00\", \"2021-09-29T22:16:50+00:00\", \"2021-10-06T21:47:52+00:00\", \"2021-11-06T14:57:23+00:00\", \"2021-11-09T22:16:55+00:00\", \"2021-11-14T20:21:07+00:00\", \"2021-11-15T22:15:45+00:00\", \"2021-11-22T17:40:53+00:00\", \"2021-11-29T22:30:03+00:00\", \"2021-12-04T18:26:14+00:00\", \"2021-12-05T17:36:19+00:00\", \"2021-12-13T23:17:16+00:00\", \"2021-12-14T22:20:15+00:00\", \"2021-12-27T16:25:16+00:00\"], \"xaxis\": \"x\", \"y\": [513.7099020227342, 515.972599282763, 518.1298226695347, 518.6154465935117, 520.0240297719319, 520.419842103304, 520.5591068192268, 521.8842562256506, 522.3230388843937, 522.6477529724685, 523.2799655042878, 523.4110641928082, 523.5470341377039, 523.730894327118, 523.8494476067257, 523.964167849838, 523.9523856150713, 523.8343208849362, 522.7790247435123, 522.49988837389, 521.5533681101773, 518.4333343910779, 517.5726153103565, 514.7449822111763, 514.4279014279333, 512.4690482956327, 506.1456402704337, 503.0336505970325, 495.54255856293094, 490.7277379852557, 489.75063671948897, 487.39299180503855, 487.3273256327309, 490.42922662154064, 498.73119908715904, 501.4368499779703, 515.5459973182284, 531.0647862822474, 532.7769522916033, 535.1708580067266, 545.7715145784462, 546.9119140871826, 548.6076705933568, 548.979543910163, 551.3227723082157, 553.7965281094775, 555.4532637499084, 555.7840429318314, 558.6017269294825, 558.9296495297402, 563.2680407229118], \"yaxis\": \"y\"}, {\"hovertemplate\": \"duration=10.0<br>dateTimePointer=%{x}<br>output=%{y}<extra></extra>\", \"legendgroup\": \"10.0\", \"marker\": {\"color\": \"#ab63fa\", \"symbol\": \"circle\"}, \"mode\": \"markers\", \"name\": \"10.0\", \"orientation\": \"v\", \"showlegend\": true, \"type\": \"scatter\", \"x\": [\"2020-11-10T00:17:07+00:00\", \"2020-11-16T22:44:04+00:00\", \"2020-12-01T12:25:43+00:00\", \"2021-01-30T18:06:10+00:00\", \"2021-12-19T17:15:49+00:00\"], \"xaxis\": \"x\", \"y\": [60.0, 77.0, 76.0, 81.0, 3.0], \"yaxis\": \"y\"}, {\"hovertemplate\": \"<b>LOWESS trendline</b><br><br>duration=10.0<br>dateTimePointer=%{x}<br>output=%{y} <b>(trend)</b><extra></extra>\", \"legendgroup\": \"10.0\", \"marker\": {\"color\": \"#ab63fa\", \"symbol\": \"circle\"}, \"mode\": \"lines\", \"name\": \"10.0\", \"showlegend\": false, \"type\": \"scatter\", \"x\": [\"2020-11-10T00:17:07+00:00\", \"2020-11-16T22:44:04+00:00\", \"2020-12-01T12:25:43+00:00\", \"2021-01-30T18:06:10+00:00\", \"2021-12-19T17:15:49+00:00\"], \"xaxis\": \"x\", \"y\": [60.0, 77.0, 76.0, 80.99999999999947, 3.0000000000002744], \"yaxis\": \"y\"}, {\"hovertemplate\": \"duration=15.0<br>dateTimePointer=%{x}<br>output=%{y}<extra></extra>\", \"legendgroup\": \"15.0\", \"marker\": {\"color\": \"#FFA15A\", \"symbol\": \"circle\"}, \"mode\": \"markers\", \"name\": \"15.0\", \"orientation\": \"v\", \"showlegend\": true, \"type\": \"scatter\", \"x\": [\"2020-11-14T20:53:50+00:00\", \"2020-11-22T15:25:37+00:00\", \"2020-12-01T12:54:51+00:00\", \"2020-12-13T15:46:26+00:00\", \"2021-01-16T01:10:33+00:00\", \"2021-02-05T00:17:09+00:00\", \"2021-02-17T22:40:21+00:00\", \"2021-05-16T23:10:36+00:00\", \"2021-06-03T17:12:55+00:00\", \"2021-06-24T17:40:44+00:00\", \"2021-08-16T17:16:02+00:00\", \"2021-08-19T19:23:36+00:00\", \"2021-12-06T23:44:03+00:00\", \"2021-12-08T22:54:13+00:00\"], \"xaxis\": \"x\", \"y\": [141.0, 188.0, 184.0, 153.0, 148.0, 138.0, 168.0, 174.0, 173.0, 154.0, 169.0, 198.0, 190.0, 203.0], \"yaxis\": \"y\"}, {\"hovertemplate\": \"<b>LOWESS trendline</b><br><br>duration=15.0<br>dateTimePointer=%{x}<br>output=%{y} <b>(trend)</b><extra></extra>\", \"legendgroup\": \"15.0\", \"marker\": {\"color\": \"#FFA15A\", \"symbol\": \"circle\"}, \"mode\": \"lines\", \"name\": \"15.0\", \"showlegend\": false, \"type\": \"scatter\", \"x\": [\"2020-11-14T20:53:50+00:00\", \"2020-11-22T15:25:37+00:00\", \"2020-12-01T12:54:51+00:00\", \"2020-12-13T15:46:26+00:00\", \"2021-01-16T01:10:33+00:00\", \"2021-02-05T00:17:09+00:00\", \"2021-02-17T22:40:21+00:00\", \"2021-05-16T23:10:36+00:00\", \"2021-06-03T17:12:55+00:00\", \"2021-06-24T17:40:44+00:00\", \"2021-08-16T17:16:02+00:00\", \"2021-08-19T19:23:36+00:00\", \"2021-12-06T23:44:03+00:00\", \"2021-12-08T22:54:13+00:00\"], \"xaxis\": \"x\", \"y\": [167.20380408394897, 165.77534408485326, 164.19458084044535, 162.1554633664342, 157.09786057803922, 154.38859366952948, 154.26795517057053, 166.7977804373068, 169.38257456458396, 172.36795152640326, 179.69297153006315, 180.1491590914436, 196.85911513241456, 197.16228079107213], \"yaxis\": \"y\"}, {\"hovertemplate\": \"duration=60.0<br>dateTimePointer=%{x}<br>output=%{y}<extra></extra>\", \"legendgroup\": \"60.0\", \"marker\": {\"color\": \"#19d3f3\", \"symbol\": \"circle\"}, \"mode\": \"markers\", \"name\": \"60.0\", \"orientation\": \"v\", \"showlegend\": true, \"type\": \"scatter\", \"x\": [\"2021-02-26T22:52:56+00:00\", \"2021-03-27T17:26:55+00:00\", \"2021-04-11T21:35:46+00:00\", \"2021-04-25T22:40:29+00:00\", \"2021-05-15T17:19:27+00:00\"], \"xaxis\": \"x\", \"y\": [695.0, 697.0, 708.0, 685.0, 720.0], \"yaxis\": \"y\"}, {\"hovertemplate\": \"<b>LOWESS trendline</b><br><br>duration=60.0<br>dateTimePointer=%{x}<br>output=%{y} <b>(trend)</b><extra></extra>\", \"legendgroup\": \"60.0\", \"marker\": {\"color\": \"#19d3f3\", \"symbol\": \"circle\"}, \"mode\": \"lines\", \"name\": \"60.0\", \"showlegend\": false, \"type\": \"scatter\", \"x\": [\"2021-02-26T22:52:56+00:00\", \"2021-03-27T17:26:55+00:00\", \"2021-04-11T21:35:46+00:00\", \"2021-04-25T22:40:29+00:00\", \"2021-05-15T17:19:27+00:00\"], \"xaxis\": \"x\", \"y\": [695.0000000000088, 697.0000000001025, 707.9999999999886, 684.999999999885, 720.0000000000942], \"yaxis\": \"y\"}],                        {\"legend\": {\"title\": {\"text\": \"duration\"}, \"tracegroupgap\": 0}, \"margin\": {\"t\": 60}, \"template\": {\"data\": {\"bar\": [{\"error_x\": {\"color\": \"#2a3f5f\"}, \"error_y\": {\"color\": \"#2a3f5f\"}, \"marker\": {\"line\": {\"color\": \"#E5ECF6\", \"width\": 0.5}}, \"type\": \"bar\"}], \"barpolar\": [{\"marker\": {\"line\": {\"color\": \"#E5ECF6\", \"width\": 0.5}}, \"type\": \"barpolar\"}], \"carpet\": [{\"aaxis\": {\"endlinecolor\": \"#2a3f5f\", \"gridcolor\": \"white\", \"linecolor\": \"white\", \"minorgridcolor\": \"white\", \"startlinecolor\": \"#2a3f5f\"}, \"baxis\": {\"endlinecolor\": \"#2a3f5f\", \"gridcolor\": \"white\", \"linecolor\": \"white\", \"minorgridcolor\": \"white\", \"startlinecolor\": \"#2a3f5f\"}, \"type\": \"carpet\"}], \"choropleth\": [{\"colorbar\": {\"outlinewidth\": 0, \"ticks\": \"\"}, \"type\": \"choropleth\"}], \"contour\": [{\"colorbar\": {\"outlinewidth\": 0, \"ticks\": \"\"}, \"colorscale\": [[0.0, \"#0d0887\"], [0.1111111111111111, \"#46039f\"], [0.2222222222222222, \"#7201a8\"], [0.3333333333333333, \"#9c179e\"], [0.4444444444444444, \"#bd3786\"], [0.5555555555555556, \"#d8576b\"], [0.6666666666666666, \"#ed7953\"], [0.7777777777777778, \"#fb9f3a\"], [0.8888888888888888, \"#fdca26\"], [1.0, \"#f0f921\"]], \"type\": \"contour\"}], \"contourcarpet\": [{\"colorbar\": {\"outlinewidth\": 0, \"ticks\": \"\"}, \"type\": \"contourcarpet\"}], \"heatmap\": [{\"colorbar\": {\"outlinewidth\": 0, \"ticks\": \"\"}, \"colorscale\": [[0.0, \"#0d0887\"], [0.1111111111111111, \"#46039f\"], [0.2222222222222222, \"#7201a8\"], [0.3333333333333333, \"#9c179e\"], [0.4444444444444444, \"#bd3786\"], [0.5555555555555556, \"#d8576b\"], [0.6666666666666666, \"#ed7953\"], [0.7777777777777778, \"#fb9f3a\"], [0.8888888888888888, \"#fdca26\"], [1.0, \"#f0f921\"]], \"type\": \"heatmap\"}], \"heatmapgl\": [{\"colorbar\": {\"outlinewidth\": 0, \"ticks\": \"\"}, \"colorscale\": [[0.0, \"#0d0887\"], [0.1111111111111111, \"#46039f\"], [0.2222222222222222, \"#7201a8\"], [0.3333333333333333, \"#9c179e\"], [0.4444444444444444, \"#bd3786\"], [0.5555555555555556, \"#d8576b\"], [0.6666666666666666, \"#ed7953\"], [0.7777777777777778, \"#fb9f3a\"], [0.8888888888888888, \"#fdca26\"], [1.0, \"#f0f921\"]], \"type\": \"heatmapgl\"}], \"histogram\": [{\"marker\": {\"colorbar\": {\"outlinewidth\": 0, \"ticks\": \"\"}}, \"type\": \"histogram\"}], \"histogram2d\": [{\"colorbar\": {\"outlinewidth\": 0, \"ticks\": \"\"}, \"colorscale\": [[0.0, \"#0d0887\"], [0.1111111111111111, \"#46039f\"], [0.2222222222222222, \"#7201a8\"], [0.3333333333333333, \"#9c179e\"], [0.4444444444444444, \"#bd3786\"], [0.5555555555555556, \"#d8576b\"], [0.6666666666666666, \"#ed7953\"], [0.7777777777777778, \"#fb9f3a\"], [0.8888888888888888, \"#fdca26\"], [1.0, \"#f0f921\"]], \"type\": \"histogram2d\"}], \"histogram2dcontour\": [{\"colorbar\": {\"outlinewidth\": 0, \"ticks\": \"\"}, \"colorscale\": [[0.0, \"#0d0887\"], [0.1111111111111111, \"#46039f\"], [0.2222222222222222, \"#7201a8\"], [0.3333333333333333, \"#9c179e\"], [0.4444444444444444, \"#bd3786\"], [0.5555555555555556, \"#d8576b\"], [0.6666666666666666, \"#ed7953\"], [0.7777777777777778, \"#fb9f3a\"], [0.8888888888888888, \"#fdca26\"], [1.0, \"#f0f921\"]], \"type\": \"histogram2dcontour\"}], \"mesh3d\": [{\"colorbar\": {\"outlinewidth\": 0, \"ticks\": \"\"}, \"type\": \"mesh3d\"}], \"parcoords\": [{\"line\": {\"colorbar\": {\"outlinewidth\": 0, \"ticks\": \"\"}}, \"type\": \"parcoords\"}], \"pie\": [{\"automargin\": true, \"type\": \"pie\"}], \"scatter\": [{\"marker\": {\"colorbar\": {\"outlinewidth\": 0, \"ticks\": \"\"}}, \"type\": \"scatter\"}], \"scatter3d\": [{\"line\": {\"colorbar\": {\"outlinewidth\": 0, \"ticks\": \"\"}}, \"marker\": {\"colorbar\": {\"outlinewidth\": 0, \"ticks\": \"\"}}, \"type\": \"scatter3d\"}], \"scattercarpet\": [{\"marker\": {\"colorbar\": {\"outlinewidth\": 0, \"ticks\": \"\"}}, \"type\": \"scattercarpet\"}], \"scattergeo\": [{\"marker\": {\"colorbar\": {\"outlinewidth\": 0, \"ticks\": \"\"}}, \"type\": \"scattergeo\"}], \"scattergl\": [{\"marker\": {\"colorbar\": {\"outlinewidth\": 0, \"ticks\": \"\"}}, \"type\": \"scattergl\"}], \"scattermapbox\": [{\"marker\": {\"colorbar\": {\"outlinewidth\": 0, \"ticks\": \"\"}}, \"type\": \"scattermapbox\"}], \"scatterpolar\": [{\"marker\": {\"colorbar\": {\"outlinewidth\": 0, \"ticks\": \"\"}}, \"type\": \"scatterpolar\"}], \"scatterpolargl\": [{\"marker\": {\"colorbar\": {\"outlinewidth\": 0, \"ticks\": \"\"}}, \"type\": \"scatterpolargl\"}], \"scatterternary\": [{\"marker\": {\"colorbar\": {\"outlinewidth\": 0, \"ticks\": \"\"}}, \"type\": \"scatterternary\"}], \"surface\": [{\"colorbar\": {\"outlinewidth\": 0, \"ticks\": \"\"}, \"colorscale\": [[0.0, \"#0d0887\"], [0.1111111111111111, \"#46039f\"], [0.2222222222222222, \"#7201a8\"], [0.3333333333333333, \"#9c179e\"], [0.4444444444444444, \"#bd3786\"], [0.5555555555555556, \"#d8576b\"], [0.6666666666666666, \"#ed7953\"], [0.7777777777777778, \"#fb9f3a\"], [0.8888888888888888, \"#fdca26\"], [1.0, \"#f0f921\"]], \"type\": \"surface\"}], \"table\": [{\"cells\": {\"fill\": {\"color\": \"#EBF0F8\"}, \"line\": {\"color\": \"white\"}}, \"header\": {\"fill\": {\"color\": \"#C8D4E3\"}, \"line\": {\"color\": \"white\"}}, \"type\": \"table\"}]}, \"layout\": {\"annotationdefaults\": {\"arrowcolor\": \"#2a3f5f\", \"arrowhead\": 0, \"arrowwidth\": 1}, \"autotypenumbers\": \"strict\", \"coloraxis\": {\"colorbar\": {\"outlinewidth\": 0, \"ticks\": \"\"}}, \"colorscale\": {\"diverging\": [[0, \"#8e0152\"], [0.1, \"#c51b7d\"], [0.2, \"#de77ae\"], [0.3, \"#f1b6da\"], [0.4, \"#fde0ef\"], [0.5, \"#f7f7f7\"], [0.6, \"#e6f5d0\"], [0.7, \"#b8e186\"], [0.8, \"#7fbc41\"], [0.9, \"#4d9221\"], [1, \"#276419\"]], \"sequential\": [[0.0, \"#0d0887\"], [0.1111111111111111, \"#46039f\"], [0.2222222222222222, \"#7201a8\"], [0.3333333333333333, \"#9c179e\"], [0.4444444444444444, \"#bd3786\"], [0.5555555555555556, \"#d8576b\"], [0.6666666666666666, \"#ed7953\"], [0.7777777777777778, \"#fb9f3a\"], [0.8888888888888888, \"#fdca26\"], [1.0, \"#f0f921\"]], \"sequentialminus\": [[0.0, \"#0d0887\"], [0.1111111111111111, \"#46039f\"], [0.2222222222222222, \"#7201a8\"], [0.3333333333333333, \"#9c179e\"], [0.4444444444444444, \"#bd3786\"], [0.5555555555555556, \"#d8576b\"], [0.6666666666666666, \"#ed7953\"], [0.7777777777777778, \"#fb9f3a\"], [0.8888888888888888, \"#fdca26\"], [1.0, \"#f0f921\"]]}, \"colorway\": [\"#636efa\", \"#EF553B\", \"#00cc96\", \"#ab63fa\", \"#FFA15A\", \"#19d3f3\", \"#FF6692\", \"#B6E880\", \"#FF97FF\", \"#FECB52\"], \"font\": {\"color\": \"#2a3f5f\"}, \"geo\": {\"bgcolor\": \"white\", \"lakecolor\": \"white\", \"landcolor\": \"#E5ECF6\", \"showlakes\": true, \"showland\": true, \"subunitcolor\": \"white\"}, \"hoverlabel\": {\"align\": \"left\"}, \"hovermode\": \"closest\", \"mapbox\": {\"style\": \"light\"}, \"paper_bgcolor\": \"white\", \"plot_bgcolor\": \"#E5ECF6\", \"polar\": {\"angularaxis\": {\"gridcolor\": \"white\", \"linecolor\": \"white\", \"ticks\": \"\"}, \"bgcolor\": \"#E5ECF6\", \"radialaxis\": {\"gridcolor\": \"white\", \"linecolor\": \"white\", \"ticks\": \"\"}}, \"scene\": {\"xaxis\": {\"backgroundcolor\": \"#E5ECF6\", \"gridcolor\": \"white\", \"gridwidth\": 2, \"linecolor\": \"white\", \"showbackground\": true, \"ticks\": \"\", \"zerolinecolor\": \"white\"}, \"yaxis\": {\"backgroundcolor\": \"#E5ECF6\", \"gridcolor\": \"white\", \"gridwidth\": 2, \"linecolor\": \"white\", \"showbackground\": true, \"ticks\": \"\", \"zerolinecolor\": \"white\"}, \"zaxis\": {\"backgroundcolor\": \"#E5ECF6\", \"gridcolor\": \"white\", \"gridwidth\": 2, \"linecolor\": \"white\", \"showbackground\": true, \"ticks\": \"\", \"zerolinecolor\": \"white\"}}, \"shapedefaults\": {\"line\": {\"color\": \"#2a3f5f\"}}, \"ternary\": {\"aaxis\": {\"gridcolor\": \"white\", \"linecolor\": \"white\", \"ticks\": \"\"}, \"baxis\": {\"gridcolor\": \"white\", \"linecolor\": \"white\", \"ticks\": \"\"}, \"bgcolor\": \"#E5ECF6\", \"caxis\": {\"gridcolor\": \"white\", \"linecolor\": \"white\", \"ticks\": \"\"}}, \"title\": {\"x\": 0.05}, \"xaxis\": {\"automargin\": true, \"gridcolor\": \"white\", \"linecolor\": \"white\", \"ticks\": \"\", \"title\": {\"standoff\": 15}, \"zerolinecolor\": \"white\", \"zerolinewidth\": 2}, \"yaxis\": {\"automargin\": true, \"gridcolor\": \"white\", \"linecolor\": \"white\", \"ticks\": \"\", \"title\": {\"standoff\": 15}, \"zerolinecolor\": \"white\", \"zerolinewidth\": 2}}}, \"xaxis\": {\"anchor\": \"y\", \"domain\": [0.0, 1.0], \"title\": {\"text\": \"dateTimePointer\"}}, \"yaxis\": {\"anchor\": \"x\", \"domain\": [0.0, 1.0], \"title\": {\"text\": \"output\"}}},                        {\"responsive\": true}                    ).then(function(){\n                            \nvar gd = document.getElementById('8beedc4e-e6fa-4aa6-b113-26183dd25b6a');\nvar x = new MutationObserver(function (mutations, observer) {{\n        var display = window.getComputedStyle(gd).display;\n        if (!display || display === 'none') {{\n            console.log([gd, 'removed!']);\n            Plotly.purge(gd);\n            observer.disconnect();\n        }}\n}});\n\n// Listen for the removal of the full notebook cells\nvar notebookContainer = gd.closest('#notebook-container');\nif (notebookContainer) {{\n    x.observe(notebookContainer, {childList: true});\n}}\n\n// Listen for the clearing of the current output cell\nvar outputEl = gd.closest('.output');\nif (outputEl) {{\n    x.observe(outputEl, {childList: true});\n}}\n\n                        })                };                });            </script>        </div>"
     },
     "metadata": {},
     "output_type": "display_data"
    }
   ],
   "source": [
    "import plotly.express as px\n",
    "import plotly.graph_objects as go\n",
    "fig1 = px.scatter(sampleClassDF, x=\"dateTimePointer\", y='output',\n",
    "                 trendline=\"lowess\",color=\"duration\")\n",
    "fig1.show()"
   ],
   "metadata": {
    "collapsed": false,
    "pycharm": {
     "name": "#%%\n"
    }
   }
  },
  {
   "cell_type": "code",
   "execution_count": 316,
   "outputs": [
    {
     "data": {
      "application/vnd.plotly.v1+json": {
       "config": {
        "plotlyServerURL": "https://plot.ly"
       },
       "data": [
        {
         "hovertemplate": "duration=30.0<br>dateTimePointer=%{x}<br>averageOutput=%{y}<extra></extra>",
         "legendgroup": "30.0",
         "marker": {
          "color": "#636efa",
          "symbol": "circle"
         },
         "mode": "markers",
         "name": "30.0",
         "orientation": "v",
         "showlegend": true,
         "type": "scatter",
         "x": [
          "2020-10-19T22:04:39+00:00",
          "2020-10-20T16:26:32+00:00",
          "2020-10-23T20:02:50+00:00",
          "2020-10-25T19:29:59+00:00",
          "2020-10-27T21:30:58+00:00",
          "2020-11-03T23:33:18+00:00",
          "2020-11-10T00:29:38+00:00",
          "2020-11-11T23:53:59+00:00",
          "2020-11-12T23:25:00+00:00",
          "2020-11-16T22:56:31+00:00",
          "2020-11-18T13:05:19+00:00",
          "2020-11-19T12:55:12+00:00",
          "2020-11-22T15:42:56+00:00",
          "2020-11-29T17:51:58+00:00",
          "2020-11-30T12:52:53+00:00",
          "2020-12-03T13:03:36+00:00",
          "2020-12-04T21:36:55+00:00",
          "2020-12-06T14:51:11+00:00",
          "2020-12-13T16:03:36+00:00",
          "2020-12-13T16:37:32+00:00",
          "2020-12-15T13:11:24+00:00",
          "2020-12-17T13:27:18+00:00",
          "2020-12-18T12:59:02+00:00",
          "2020-12-21T13:00:12+00:00",
          "2020-12-21T13:32:58+00:00",
          "2020-12-22T18:08:55+00:00",
          "2020-12-23T15:34:29+00:00",
          "2020-12-26T16:25:41+00:00",
          "2020-12-27T23:02:26+00:00",
          "2020-12-28T23:55:31+00:00",
          "2020-12-29T00:26:18+00:00",
          "2020-12-31T20:28:25+00:00",
          "2020-12-31T21:01:20+00:00",
          "2021-01-01T23:55:19+00:00",
          "2021-01-05T12:46:54+00:00",
          "2021-01-13T17:15:21+00:00",
          "2021-01-14T23:23:06+00:00",
          "2021-01-16T00:37:33+00:00",
          "2021-01-21T22:44:05+00:00",
          "2021-01-26T00:25:07+00:00",
          "2021-01-27T17:52:16+00:00",
          "2021-01-28T23:54:23+00:00",
          "2021-01-30T18:25:54+00:00",
          "2021-01-31T22:19:41+00:00",
          "2021-01-31T22:53:31+00:00",
          "2021-02-05T22:45:45+00:00",
          "2021-02-10T22:43:33+00:00",
          "2021-02-12T23:33:46+00:00",
          "2021-02-17T00:23:13+00:00",
          "2021-02-17T23:00:10+00:00",
          "2021-02-18T22:25:03+00:00",
          "2021-02-20T22:52:07+00:00",
          "2021-03-02T22:26:02+00:00",
          "2021-03-04T23:08:37+00:00",
          "2021-03-11T22:17:21+00:00",
          "2021-03-16T22:13:14+00:00",
          "2021-03-19T12:04:38+00:00",
          "2021-03-25T22:51:52+00:00",
          "2021-03-28T23:27:59+00:00",
          "2021-04-02T21:11:59+00:00",
          "2021-04-09T22:07:07+00:00",
          "2021-04-12T23:26:00+00:00",
          "2021-04-14T23:25:14+00:00",
          "2021-04-15T22:30:12+00:00",
          "2021-04-19T16:31:47+00:00",
          "2021-04-21T22:08:56+00:00",
          "2021-04-29T23:31:12+00:00",
          "2021-05-09T16:21:42+00:00",
          "2021-05-16T22:36:17+00:00",
          "2021-05-29T19:38:33+00:00",
          "2021-06-02T20:03:53+00:00",
          "2021-06-03T16:42:24+00:00",
          "2021-06-08T23:49:16+00:00",
          "2021-06-09T00:20:05+00:00",
          "2021-06-10T22:33:46+00:00",
          "2021-06-20T15:38:18+00:00",
          "2021-06-24T17:09:22+00:00",
          "2021-06-29T18:46:39+00:00",
          "2021-06-29T18:46:59+00:00",
          "2021-07-28T00:08:15+00:00",
          "2021-07-30T15:20:46+00:00",
          "2021-07-30T15:52:22+00:00",
          "2021-08-06T23:09:11+00:00",
          "2021-08-06T23:39:59+00:00",
          "2021-08-07T00:10:28+00:00",
          "2021-08-11T21:47:55+00:00",
          "2021-08-11T22:18:26+00:00",
          "2021-08-16T16:44:37+00:00",
          "2021-08-19T18:52:22+00:00",
          "2021-09-01T20:54:01+00:00",
          "2021-09-08T15:04:19+00:00",
          "2021-09-21T16:50:07+00:00",
          "2021-09-21T17:21:28+00:00",
          "2021-10-12T22:16:29+00:00",
          "2021-10-15T21:57:28+00:00",
          "2021-10-15T22:28:38+00:00",
          "2021-10-24T23:16:02+00:00",
          "2021-10-29T20:29:32+00:00",
          "2021-10-29T21:00:20+00:00",
          "2021-11-09T23:03:40+00:00",
          "2021-11-10T22:39:02+00:00",
          "2021-11-11T23:08:39+00:00",
          "2021-11-18T23:06:54+00:00",
          "2021-11-19T21:55:19+00:00",
          "2021-11-19T22:27:56+00:00",
          "2021-11-24T21:15:43+00:00",
          "2021-11-24T21:47:48+00:00",
          "2021-12-02T22:25:50+00:00",
          "2021-12-04T17:55:24+00:00",
          "2021-12-08T22:21:21+00:00",
          "2021-12-08T23:10:51+00:00",
          "2021-12-17T21:39:33+00:00",
          "2021-12-21T22:56:45+00:00",
          "2021-12-21T23:27:58+00:00",
          "2021-12-29T21:12:36+00:00"
         ],
         "xaxis": "x",
         "y": [
          137.0,
          161.0,
          170.0,
          178.0,
          160.0,
          185.0,
          198.0,
          167.0,
          178.0,
          182.0,
          178.0,
          182.0,
          175.0,
          167.0,
          202.0,
          156.0,
          204.0,
          167.0,
          215.0,
          172.0,
          157.0,
          193.0,
          162.0,
          186.0,
          167.0,
          217.0,
          173.0,
          187.0,
          202.0,
          198.0,
          198.0,
          201.0,
          206.0,
          217.0,
          185.0,
          219.0,
          219.0,
          228.0,
          206.0,
          208.0,
          211.0,
          216.0,
          210.0,
          181.0,
          208.0,
          186.0,
          197.0,
          208.0,
          null,
          215.0,
          198.0,
          202.0,
          201.0,
          215.0,
          188.0,
          188.0,
          178.0,
          210.0,
          183.0,
          186.0,
          213.0,
          197.0,
          204.0,
          207.0,
          197.0,
          197.0,
          198.0,
          199.0,
          180.0,
          176.0,
          154.0,
          185.0,
          177.0,
          196.0,
          195.0,
          180.0,
          183.0,
          null,
          191.0,
          186.0,
          189.0,
          187.0,
          187.0,
          201.0,
          178.0,
          209.0,
          186.0,
          203.0,
          209.0,
          197.0,
          203.0,
          194.0,
          175.0,
          216.0,
          195.0,
          188.0,
          205.0,
          206.0,
          183.0,
          184.0,
          196.0,
          198.0,
          214.0,
          201.0,
          219.0,
          189.0,
          185.0,
          160.0,
          201.0,
          197.0,
          197.0,
          198.0,
          196.0,
          204.0,
          192.0
         ],
         "yaxis": "y"
        },
        {
         "hovertemplate": "<b>LOWESS trendline</b><br><br>duration=30.0<br>dateTimePointer=%{x}<br>averageOutput=%{y} <b>(trend)</b><extra></extra>",
         "legendgroup": "30.0",
         "marker": {
          "color": "#636efa",
          "symbol": "circle"
         },
         "mode": "lines",
         "name": "30.0",
         "showlegend": false,
         "type": "scatter",
         "x": [
          "2020-10-19T22:04:39+00:00",
          "2020-10-20T16:26:32+00:00",
          "2020-10-23T20:02:50+00:00",
          "2020-10-25T19:29:59+00:00",
          "2020-10-27T21:30:58+00:00",
          "2020-11-03T23:33:18+00:00",
          "2020-11-10T00:29:38+00:00",
          "2020-11-11T23:53:59+00:00",
          "2020-11-12T23:25:00+00:00",
          "2020-11-16T22:56:31+00:00",
          "2020-11-18T13:05:19+00:00",
          "2020-11-19T12:55:12+00:00",
          "2020-11-22T15:42:56+00:00",
          "2020-11-29T17:51:58+00:00",
          "2020-11-30T12:52:53+00:00",
          "2020-12-03T13:03:36+00:00",
          "2020-12-04T21:36:55+00:00",
          "2020-12-06T14:51:11+00:00",
          "2020-12-13T16:03:36+00:00",
          "2020-12-13T16:37:32+00:00",
          "2020-12-15T13:11:24+00:00",
          "2020-12-17T13:27:18+00:00",
          "2020-12-18T12:59:02+00:00",
          "2020-12-21T13:00:12+00:00",
          "2020-12-21T13:32:58+00:00",
          "2020-12-22T18:08:55+00:00",
          "2020-12-23T15:34:29+00:00",
          "2020-12-26T16:25:41+00:00",
          "2020-12-27T23:02:26+00:00",
          "2020-12-28T23:55:31+00:00",
          "2020-12-29T00:26:18+00:00",
          "2020-12-31T20:28:25+00:00",
          "2020-12-31T21:01:20+00:00",
          "2021-01-01T23:55:19+00:00",
          "2021-01-05T12:46:54+00:00",
          "2021-01-13T17:15:21+00:00",
          "2021-01-14T23:23:06+00:00",
          "2021-01-16T00:37:33+00:00",
          "2021-01-21T22:44:05+00:00",
          "2021-01-26T00:25:07+00:00",
          "2021-01-27T17:52:16+00:00",
          "2021-01-28T23:54:23+00:00",
          "2021-01-30T18:25:54+00:00",
          "2021-01-31T22:19:41+00:00",
          "2021-01-31T22:53:31+00:00",
          "2021-02-05T22:45:45+00:00",
          "2021-02-10T22:43:33+00:00",
          "2021-02-12T23:33:46+00:00",
          "2021-02-17T23:00:10+00:00",
          "2021-02-18T22:25:03+00:00",
          "2021-02-20T22:52:07+00:00",
          "2021-03-02T22:26:02+00:00",
          "2021-03-04T23:08:37+00:00",
          "2021-03-11T22:17:21+00:00",
          "2021-03-16T22:13:14+00:00",
          "2021-03-19T12:04:38+00:00",
          "2021-03-25T22:51:52+00:00",
          "2021-03-28T23:27:59+00:00",
          "2021-04-02T21:11:59+00:00",
          "2021-04-09T22:07:07+00:00",
          "2021-04-12T23:26:00+00:00",
          "2021-04-14T23:25:14+00:00",
          "2021-04-15T22:30:12+00:00",
          "2021-04-19T16:31:47+00:00",
          "2021-04-21T22:08:56+00:00",
          "2021-04-29T23:31:12+00:00",
          "2021-05-09T16:21:42+00:00",
          "2021-05-16T22:36:17+00:00",
          "2021-05-29T19:38:33+00:00",
          "2021-06-02T20:03:53+00:00",
          "2021-06-03T16:42:24+00:00",
          "2021-06-08T23:49:16+00:00",
          "2021-06-09T00:20:05+00:00",
          "2021-06-10T22:33:46+00:00",
          "2021-06-20T15:38:18+00:00",
          "2021-06-24T17:09:22+00:00",
          "2021-06-29T18:46:59+00:00",
          "2021-07-28T00:08:15+00:00",
          "2021-07-30T15:20:46+00:00",
          "2021-07-30T15:52:22+00:00",
          "2021-08-06T23:09:11+00:00",
          "2021-08-06T23:39:59+00:00",
          "2021-08-07T00:10:28+00:00",
          "2021-08-11T21:47:55+00:00",
          "2021-08-11T22:18:26+00:00",
          "2021-08-16T16:44:37+00:00",
          "2021-08-19T18:52:22+00:00",
          "2021-09-01T20:54:01+00:00",
          "2021-09-08T15:04:19+00:00",
          "2021-09-21T16:50:07+00:00",
          "2021-09-21T17:21:28+00:00",
          "2021-10-12T22:16:29+00:00",
          "2021-10-15T21:57:28+00:00",
          "2021-10-15T22:28:38+00:00",
          "2021-10-24T23:16:02+00:00",
          "2021-10-29T20:29:32+00:00",
          "2021-10-29T21:00:20+00:00",
          "2021-11-09T23:03:40+00:00",
          "2021-11-10T22:39:02+00:00",
          "2021-11-11T23:08:39+00:00",
          "2021-11-18T23:06:54+00:00",
          "2021-11-19T21:55:19+00:00",
          "2021-11-19T22:27:56+00:00",
          "2021-11-24T21:15:43+00:00",
          "2021-11-24T21:47:48+00:00",
          "2021-12-02T22:25:50+00:00",
          "2021-12-04T17:55:24+00:00",
          "2021-12-08T22:21:21+00:00",
          "2021-12-08T23:10:51+00:00",
          "2021-12-17T21:39:33+00:00",
          "2021-12-21T22:56:45+00:00",
          "2021-12-21T23:27:58+00:00",
          "2021-12-29T21:12:36+00:00"
         ],
         "xaxis": "x",
         "y": [
          174.38754860087366,
          174.57254010819298,
          175.32990623991694,
          175.8017484358237,
          176.29611662366938,
          177.95368137797618,
          179.33794423800956,
          179.78486861871897,
          180.00549125106355,
          180.89415068826227,
          181.2456214473641,
          181.4641990543203,
          182.14518603538733,
          183.6654901520028,
          183.83286788122695,
          184.46352899159447,
          184.74554434732735,
          185.10058765667296,
          186.5316333601935,
          186.53634668661866,
          186.90627672897105,
          187.3036457712051,
          187.49612379573136,
          188.08024604358184,
          188.08464643663905,
          188.31448422396954,
          188.48589979411207,
          189.06381287396013,
          189.30439251955477,
          189.4989847391374,
          189.502987552827,
          190.0305275666831,
          190.0347551494684,
          190.2415277276686,
          190.8871450015099,
          192.34170293352742,
          192.5595962721623,
          192.7410363903419,
          193.74262856534378,
          194.40934936256372,
          194.68619262855904,
          194.88430650081258,
          195.16097832175845,
          195.3398619756464,
          195.34345540728654,
          196.08464478275337,
          196.77161555535196,
          197.03185464512413,
          197.612295344579,
          197.696777985508,
          197.64712198953012,
          197.24928969341045,
          197.07293127587195,
          196.51545191463492,
          196.46095423092166,
          196.34949196041703,
          196.0367355461228,
          195.7517432440819,
          195.40514060217714,
          194.81848394214168,
          194.60609955403405,
          194.4817992915324,
          194.41597798151776,
          194.21615875205114,
          194.12063754399367,
          193.82968240030954,
          193.70458071301024,
          193.36133293750788,
          193.1046350190202,
          192.9627170703263,
          192.96375303690056,
          192.84441662283814,
          192.84307565818597,
          192.83120996982254,
          192.86321979688677,
          192.78952846753657,
          192.77774648911551,
          193.16133552832403,
          193.2250339699795,
          193.22555914253132,
          193.3972664954908,
          193.39776426655072,
          193.39825691050623,
          193.5123798305386,
          193.51287484104094,
          193.62502223182173,
          193.69876386544584,
          194.0241174623636,
          194.20123337343963,
          194.56142560655132,
          194.56204365363268,
          195.1906220347878,
          195.2832060407171,
          195.28388030438413,
          195.56926494668073,
          195.72666673834232,
          195.72736038067495,
          196.09146285399925,
          196.12415147762277,
          196.15815696802815,
          196.39303734779355,
          196.4251449091604,
          196.42591080136305,
          196.59388637278025,
          196.594644919346,
          196.86905958762011,
          196.9312883432974,
          197.07530311311453,
          197.07648783496646,
          197.38529641385188,
          197.5258220182518,
          197.52657415669205,
          197.80121399652168
         ],
         "yaxis": "y"
        },
        {
         "hovertemplate": "duration=20.0<br>dateTimePointer=%{x}<br>averageOutput=%{y}<extra></extra>",
         "legendgroup": "20.0",
         "marker": {
          "color": "#EF553B",
          "symbol": "circle"
         },
         "mode": "markers",
         "name": "20.0",
         "orientation": "v",
         "showlegend": true,
         "type": "scatter",
         "x": [
          "2020-10-21T16:49:17+00:00",
          "2020-11-01T15:06:51+00:00",
          "2020-11-24T12:48:14+00:00",
          "2020-11-24T13:11:24+00:00",
          "2020-11-30T12:30:44+00:00",
          "2020-12-03T12:36:47+00:00",
          "2020-12-17T14:00:29+00:00",
          "2021-01-10T22:01:55+00:00",
          "2021-01-10T22:30:07+00:00",
          "2021-01-14T23:58:08+00:00",
          "2021-01-17T23:42:06+00:00",
          "2021-01-23T18:37:08+00:00",
          "2021-01-28T23:31:31+00:00",
          "2021-01-29T17:58:46+00:00",
          "2021-02-03T00:43:04+00:00",
          "2021-02-20T23:24:54+00:00",
          "2021-03-01T22:39:53+00:00",
          "2021-03-10T17:52:35+00:00",
          "2021-03-10T18:12:59+00:00",
          "2021-03-23T21:18:15+00:00",
          "2021-03-23T21:39:30+00:00",
          "2021-04-02T21:43:19+00:00",
          "2021-04-15T22:09:41+00:00",
          "2021-04-21T22:41:09+00:00",
          "2021-06-10T22:12:33+00:00",
          "2021-07-08T01:57:13+00:00",
          "2021-07-08T02:18:35+00:00",
          "2021-07-27T23:47:02+00:00",
          "2021-08-11T21:26:30+00:00",
          "2021-09-16T16:55:19+00:00",
          "2021-10-24T23:50:52+00:00",
          "2021-11-02T21:11:31+00:00",
          "2021-11-02T21:32:44+00:00",
          "2021-11-10T22:16:43+00:00",
          "2021-11-15T21:52:45+00:00",
          "2021-11-17T23:20:26+00:00",
          "2021-11-18T22:44:34+00:00",
          "2021-12-02T22:04:33+00:00",
          "2021-12-06T23:22:49+00:00",
          "2021-12-22T23:30:49+00:00"
         ],
         "xaxis": "x",
         "y": [
          145.0,
          167.0,
          167.0,
          194.0,
          155.0,
          222.0,
          162.0,
          222.0,
          188.0,
          205.0,
          258.0,
          189.0,
          189.0,
          201.0,
          194.0,
          206.0,
          186.0,
          218.0,
          211.0,
          220.0,
          218.0,
          190.0,
          180.0,
          210.0,
          173.0,
          198.0,
          190.0,
          186.0,
          199.0,
          180.0,
          210.0,
          194.0,
          217.0,
          167.0,
          182.0,
          175.0,
          200.0,
          211.0,
          191.0,
          216.0
         ],
         "yaxis": "y"
        },
        {
         "hovertemplate": "<b>LOWESS trendline</b><br><br>duration=20.0<br>dateTimePointer=%{x}<br>averageOutput=%{y} <b>(trend)</b><extra></extra>",
         "legendgroup": "20.0",
         "marker": {
          "color": "#EF553B",
          "symbol": "circle"
         },
         "mode": "lines",
         "name": "20.0",
         "showlegend": false,
         "type": "scatter",
         "x": [
          "2020-10-21T16:49:17+00:00",
          "2020-11-01T15:06:51+00:00",
          "2020-11-24T12:48:14+00:00",
          "2020-11-24T13:11:24+00:00",
          "2020-11-30T12:30:44+00:00",
          "2020-12-03T12:36:47+00:00",
          "2020-12-17T14:00:29+00:00",
          "2021-01-10T22:01:55+00:00",
          "2021-01-10T22:30:07+00:00",
          "2021-01-14T23:58:08+00:00",
          "2021-01-17T23:42:06+00:00",
          "2021-01-23T18:37:08+00:00",
          "2021-01-28T23:31:31+00:00",
          "2021-01-29T17:58:46+00:00",
          "2021-02-03T00:43:04+00:00",
          "2021-02-20T23:24:54+00:00",
          "2021-03-01T22:39:53+00:00",
          "2021-03-10T17:52:35+00:00",
          "2021-03-10T18:12:59+00:00",
          "2021-03-23T21:18:15+00:00",
          "2021-03-23T21:39:30+00:00",
          "2021-04-02T21:43:19+00:00",
          "2021-04-15T22:09:41+00:00",
          "2021-04-21T22:41:09+00:00",
          "2021-06-10T22:12:33+00:00",
          "2021-07-08T01:57:13+00:00",
          "2021-07-08T02:18:35+00:00",
          "2021-07-27T23:47:02+00:00",
          "2021-08-11T21:26:30+00:00",
          "2021-09-16T16:55:19+00:00",
          "2021-10-24T23:50:52+00:00",
          "2021-11-02T21:11:31+00:00",
          "2021-11-02T21:32:44+00:00",
          "2021-11-10T22:16:43+00:00",
          "2021-11-15T21:52:45+00:00",
          "2021-11-17T23:20:26+00:00",
          "2021-11-18T22:44:34+00:00",
          "2021-12-02T22:04:33+00:00",
          "2021-12-06T23:22:49+00:00",
          "2021-12-22T23:30:49+00:00"
         ],
         "xaxis": "x",
         "y": [
          165.51474602626857,
          168.9223483119706,
          175.85724466276622,
          175.86202374348778,
          177.62745298542924,
          178.50915519783211,
          182.57842890655346,
          189.3856682189158,
          189.3910173223324,
          190.49514334875218,
          191.3005814314378,
          192.83911515508356,
          194.19118391928635,
          194.38779283808603,
          195.46405997195552,
          199.39766878537907,
          200.7546936603156,
          200.98062666267728,
          200.9796522618467,
          200.4489673868405,
          200.44844240413727,
          199.35173845603413,
          197.9823057573993,
          197.56018667133318,
          193.87379249797658,
          193.28952660514963,
          193.29002517362076,
          193.30548321381556,
          193.4208652500044,
          193.89916145435865,
          194.86046399893954,
          195.13855746136127,
          195.13903270318937,
          195.40427550972527,
          195.57443436431498,
          195.6459532451545,
          195.68002521536494,
          196.18623756511533,
          196.34000626803865,
          196.97991513935426
         ],
         "yaxis": "y"
        },
        {
         "hovertemplate": "duration=45.0<br>dateTimePointer=%{x}<br>averageOutput=%{y}<extra></extra>",
         "legendgroup": "45.0",
         "marker": {
          "color": "#00cc96",
          "symbol": "circle"
         },
         "mode": "markers",
         "name": "45.0",
         "orientation": "v",
         "showlegend": true,
         "type": "scatter",
         "x": [
          "2020-10-29T21:42:19+00:00",
          "2020-11-10T23:24:55+00:00",
          "2020-11-23T12:47:48+00:00",
          "2020-11-26T12:58:22+00:00",
          "2020-12-05T18:26:01+00:00",
          "2020-12-08T12:41:41+00:00",
          "2020-12-09T12:32:42+00:00",
          "2020-12-19T18:26:05+00:00",
          "2020-12-23T14:46:57+00:00",
          "2020-12-26T17:00:49+00:00",
          "2021-01-02T18:19:21+00:00",
          "2021-01-04T12:28:14+00:00",
          "2021-01-06T12:50:25+00:00",
          "2021-01-09T18:46:32+00:00",
          "2021-01-12T12:51:16+00:00",
          "2021-01-19T22:53:27+00:00",
          "2021-01-21T00:02:35+00:00",
          "2021-01-24T23:02:13+00:00",
          "2021-02-04T23:28:20+00:00",
          "2021-02-06T18:26:01+00:00",
          "2021-02-09T00:21:26+00:00",
          "2021-02-14T20:47:57+00:00",
          "2021-02-16T12:36:59+00:00",
          "2021-02-23T00:09:52+00:00",
          "2021-02-23T23:27:47+00:00",
          "2021-02-28T18:30:16+00:00",
          "2021-03-14T21:53:15+00:00",
          "2021-03-21T17:58:26+00:00",
          "2021-04-06T22:24:46+00:00",
          "2021-04-23T22:59:46+00:00",
          "2021-04-27T22:13:08+00:00",
          "2021-05-05T22:10:31+00:00",
          "2021-05-10T23:26:36+00:00",
          "2021-05-18T22:26:07+00:00",
          "2021-06-14T18:40:17+00:00",
          "2021-06-20T16:11:32+00:00",
          "2021-08-09T01:45:26+00:00",
          "2021-09-24T21:54:57+00:00",
          "2021-09-29T22:16:50+00:00",
          "2021-10-06T21:47:52+00:00",
          "2021-11-06T14:57:23+00:00",
          "2021-11-09T22:16:55+00:00",
          "2021-11-14T20:21:07+00:00",
          "2021-11-15T22:15:45+00:00",
          "2021-11-22T17:40:53+00:00",
          "2021-11-29T22:30:03+00:00",
          "2021-12-04T18:26:14+00:00",
          "2021-12-05T17:36:19+00:00",
          "2021-12-13T23:17:16+00:00",
          "2021-12-14T22:20:15+00:00",
          "2021-12-27T16:25:16+00:00"
         ],
         "xaxis": "x",
         "y": [
          174.0,
          202.0,
          188.0,
          193.0,
          214.0,
          180.0,
          187.0,
          212.0,
          179.0,
          177.0,
          200.0,
          188.0,
          189.0,
          217.0,
          191.0,
          201.0,
          223.0,
          197.0,
          197.0,
          210.0,
          210.0,
          199.0,
          177.0,
          183.0,
          193.0,
          201.0,
          190.0,
          189.0,
          142.0,
          165.0,
          172.0,
          193.0,
          186.0,
          169.0,
          186.0,
          166.0,
          195.0,
          198.0,
          217.0,
          203.0,
          189.0,
          190.0,
          211.0,
          198.0,
          212.0,
          204.0,
          222.0,
          203.0,
          230.0,
          197.0,
          185.0
         ],
         "yaxis": "y"
        },
        {
         "hovertemplate": "<b>LOWESS trendline</b><br><br>duration=45.0<br>dateTimePointer=%{x}<br>averageOutput=%{y} <b>(trend)</b><extra></extra>",
         "legendgroup": "45.0",
         "marker": {
          "color": "#00cc96",
          "symbol": "circle"
         },
         "mode": "lines",
         "name": "45.0",
         "showlegend": false,
         "type": "scatter",
         "x": [
          "2020-10-29T21:42:19+00:00",
          "2020-11-10T23:24:55+00:00",
          "2020-11-23T12:47:48+00:00",
          "2020-11-26T12:58:22+00:00",
          "2020-12-05T18:26:01+00:00",
          "2020-12-08T12:41:41+00:00",
          "2020-12-09T12:32:42+00:00",
          "2020-12-19T18:26:05+00:00",
          "2020-12-23T14:46:57+00:00",
          "2020-12-26T17:00:49+00:00",
          "2021-01-02T18:19:21+00:00",
          "2021-01-04T12:28:14+00:00",
          "2021-01-06T12:50:25+00:00",
          "2021-01-09T18:46:32+00:00",
          "2021-01-12T12:51:16+00:00",
          "2021-01-19T22:53:27+00:00",
          "2021-01-21T00:02:35+00:00",
          "2021-01-24T23:02:13+00:00",
          "2021-02-04T23:28:20+00:00",
          "2021-02-06T18:26:01+00:00",
          "2021-02-09T00:21:26+00:00",
          "2021-02-14T20:47:57+00:00",
          "2021-02-16T12:36:59+00:00",
          "2021-02-23T00:09:52+00:00",
          "2021-02-23T23:27:47+00:00",
          "2021-02-28T18:30:16+00:00",
          "2021-03-14T21:53:15+00:00",
          "2021-03-21T17:58:26+00:00",
          "2021-04-06T22:24:46+00:00",
          "2021-04-23T22:59:46+00:00",
          "2021-04-27T22:13:08+00:00",
          "2021-05-05T22:10:31+00:00",
          "2021-05-10T23:26:36+00:00",
          "2021-05-18T22:26:07+00:00",
          "2021-06-14T18:40:17+00:00",
          "2021-06-20T16:11:32+00:00",
          "2021-08-09T01:45:26+00:00",
          "2021-09-24T21:54:57+00:00",
          "2021-09-29T22:16:50+00:00",
          "2021-10-06T21:47:52+00:00",
          "2021-11-06T14:57:23+00:00",
          "2021-11-09T22:16:55+00:00",
          "2021-11-14T20:21:07+00:00",
          "2021-11-15T22:15:45+00:00",
          "2021-11-22T17:40:53+00:00",
          "2021-11-29T22:30:03+00:00",
          "2021-12-04T18:26:14+00:00",
          "2021-12-05T17:36:19+00:00",
          "2021-12-13T23:17:16+00:00",
          "2021-12-14T22:20:15+00:00",
          "2021-12-27T16:25:16+00:00"
         ],
         "xaxis": "x",
         "y": [
          190.57796569020246,
          191.43513518695377,
          192.25607913150031,
          192.44112193327214,
          192.97795800371608,
          193.12881992235265,
          193.18190421850315,
          193.68754587255822,
          193.85555550979117,
          193.98037323275386,
          194.22608366389454,
          194.27793890826015,
          194.33238891049686,
          194.40794022141705,
          194.45923928700583,
          194.52868707361836,
          194.52919514612003,
          194.50666758425513,
          194.19558655662388,
          194.10639298946856,
          193.77649392247451,
          192.6632133777246,
          192.35295072529672,
          191.3359493015789,
          191.22366892070883,
          190.51719957936334,
          188.25834374352007,
          187.20752936447064,
          184.68780167921983,
          183.08583219277722,
          182.75345073842888,
          181.94709600375367,
          181.93172145963348,
          183.01728224247324,
          185.91805846039566,
          186.84641081993934,
          191.74782258532812,
          197.17822043234847,
          197.77588132670374,
          198.61111267888054,
          202.30470772682918,
          202.70162580291512,
          203.29170563195294,
          203.4210890786527,
          204.23621615845565,
          205.0965316372934,
          205.6726088220684,
          205.78761944441578,
          206.76723105194154,
          206.88122871739984,
          208.38920283872375
         ],
         "yaxis": "y"
        },
        {
         "hovertemplate": "duration=10.0<br>dateTimePointer=%{x}<br>averageOutput=%{y}<extra></extra>",
         "legendgroup": "10.0",
         "marker": {
          "color": "#ab63fa",
          "symbol": "circle"
         },
         "mode": "markers",
         "name": "10.0",
         "orientation": "v",
         "showlegend": true,
         "type": "scatter",
         "x": [
          "2020-11-10T00:17:07+00:00",
          "2020-11-16T22:44:04+00:00",
          "2020-12-01T12:25:43+00:00",
          "2021-01-30T18:06:10+00:00",
          "2021-12-19T17:15:49+00:00"
         ],
         "xaxis": "x",
         "y": [
          100.0,
          128.0,
          126.0,
          136.0,
          86.0
         ],
         "yaxis": "y"
        },
        {
         "hovertemplate": "<b>LOWESS trendline</b><br><br>duration=10.0<br>dateTimePointer=%{x}<br>averageOutput=%{y} <b>(trend)</b><extra></extra>",
         "legendgroup": "10.0",
         "marker": {
          "color": "#ab63fa",
          "symbol": "circle"
         },
         "mode": "lines",
         "name": "10.0",
         "showlegend": false,
         "type": "scatter",
         "x": [
          "2020-11-10T00:17:07+00:00",
          "2020-11-16T22:44:04+00:00",
          "2020-12-01T12:25:43+00:00",
          "2021-01-30T18:06:10+00:00",
          "2021-12-19T17:15:49+00:00"
         ],
         "xaxis": "x",
         "y": [
          100.0,
          128.0,
          126.0,
          135.9999999999991,
          85.99999999999983
         ],
         "yaxis": "y"
        },
        {
         "hovertemplate": "duration=15.0<br>dateTimePointer=%{x}<br>averageOutput=%{y}<extra></extra>",
         "legendgroup": "15.0",
         "marker": {
          "color": "#FFA15A",
          "symbol": "circle"
         },
         "mode": "markers",
         "name": "15.0",
         "orientation": "v",
         "showlegend": true,
         "type": "scatter",
         "x": [
          "2020-11-14T20:53:50+00:00",
          "2020-11-22T15:25:37+00:00",
          "2020-12-01T12:54:51+00:00",
          "2020-12-13T15:46:26+00:00",
          "2021-01-16T01:10:33+00:00",
          "2021-02-05T00:17:09+00:00",
          "2021-02-17T22:40:21+00:00",
          "2021-05-16T23:10:36+00:00",
          "2021-06-03T17:12:55+00:00",
          "2021-06-24T17:40:44+00:00",
          "2021-08-16T17:16:02+00:00",
          "2021-08-19T19:23:36+00:00",
          "2021-12-06T23:44:03+00:00",
          "2021-12-08T22:54:13+00:00"
         ],
         "xaxis": "x",
         "y": [
          156.0,
          208.0,
          205.0,
          171.0,
          165.0,
          154.0,
          187.0,
          193.0,
          192.0,
          171.0,
          188.0,
          220.0,
          211.0,
          225.0
         ],
         "yaxis": "y"
        },
        {
         "hovertemplate": "<b>LOWESS trendline</b><br><br>duration=15.0<br>dateTimePointer=%{x}<br>averageOutput=%{y} <b>(trend)</b><extra></extra>",
         "legendgroup": "15.0",
         "marker": {
          "color": "#FFA15A",
          "symbol": "circle"
         },
         "mode": "lines",
         "name": "15.0",
         "showlegend": false,
         "type": "scatter",
         "x": [
          "2020-11-14T20:53:50+00:00",
          "2020-11-22T15:25:37+00:00",
          "2020-12-01T12:54:51+00:00",
          "2020-12-13T15:46:26+00:00",
          "2021-01-16T01:10:33+00:00",
          "2021-02-05T00:17:09+00:00",
          "2021-02-17T22:40:21+00:00",
          "2021-05-16T23:10:36+00:00",
          "2021-06-03T17:12:55+00:00",
          "2021-06-24T17:40:44+00:00",
          "2021-08-16T17:16:02+00:00",
          "2021-08-19T19:23:36+00:00",
          "2021-12-06T23:44:03+00:00",
          "2021-12-08T22:54:13+00:00"
         ],
         "xaxis": "x",
         "y": [
          185.8724974542792,
          184.3350833450311,
          182.6333970967983,
          180.43926537456807,
          174.9969167223694,
          172.04305382682006,
          171.8544842480254,
          185.34387817020985,
          188.1900688120353,
          191.44123762912704,
          199.5294349246074,
          200.03194505838403,
          218.46378460831107,
          218.7977196160906
         ],
         "yaxis": "y"
        },
        {
         "hovertemplate": "duration=60.0<br>dateTimePointer=%{x}<br>averageOutput=%{y}<extra></extra>",
         "legendgroup": "60.0",
         "marker": {
          "color": "#19d3f3",
          "symbol": "circle"
         },
         "mode": "markers",
         "name": "60.0",
         "orientation": "v",
         "showlegend": true,
         "type": "scatter",
         "x": [
          "2021-02-26T22:52:56+00:00",
          "2021-03-27T17:26:55+00:00",
          "2021-04-11T21:35:46+00:00",
          "2021-04-25T22:40:29+00:00",
          "2021-05-15T17:19:27+00:00"
         ],
         "xaxis": "x",
         "y": [
          193.0,
          194.0,
          197.0,
          190.0,
          200.0
         ],
         "yaxis": "y"
        },
        {
         "hovertemplate": "<b>LOWESS trendline</b><br><br>duration=60.0<br>dateTimePointer=%{x}<br>averageOutput=%{y} <b>(trend)</b><extra></extra>",
         "legendgroup": "60.0",
         "marker": {
          "color": "#19d3f3",
          "symbol": "circle"
         },
         "mode": "lines",
         "name": "60.0",
         "showlegend": false,
         "type": "scatter",
         "x": [
          "2021-02-26T22:52:56+00:00",
          "2021-03-27T17:26:55+00:00",
          "2021-04-11T21:35:46+00:00",
          "2021-04-25T22:40:29+00:00",
          "2021-05-15T17:19:27+00:00"
         ],
         "xaxis": "x",
         "y": [
          192.9999999999902,
          193.99999999999162,
          197.00000000002058,
          190.00000000000824,
          199.99999999999739
         ],
         "yaxis": "y"
        }
       ],
       "layout": {
        "legend": {
         "title": {
          "text": "duration"
         },
         "tracegroupgap": 0
        },
        "margin": {
         "t": 60
        },
        "template": {
         "data": {
          "bar": [
           {
            "error_x": {
             "color": "#2a3f5f"
            },
            "error_y": {
             "color": "#2a3f5f"
            },
            "marker": {
             "line": {
              "color": "#E5ECF6",
              "width": 0.5
             }
            },
            "type": "bar"
           }
          ],
          "barpolar": [
           {
            "marker": {
             "line": {
              "color": "#E5ECF6",
              "width": 0.5
             }
            },
            "type": "barpolar"
           }
          ],
          "carpet": [
           {
            "aaxis": {
             "endlinecolor": "#2a3f5f",
             "gridcolor": "white",
             "linecolor": "white",
             "minorgridcolor": "white",
             "startlinecolor": "#2a3f5f"
            },
            "baxis": {
             "endlinecolor": "#2a3f5f",
             "gridcolor": "white",
             "linecolor": "white",
             "minorgridcolor": "white",
             "startlinecolor": "#2a3f5f"
            },
            "type": "carpet"
           }
          ],
          "choropleth": [
           {
            "colorbar": {
             "outlinewidth": 0,
             "ticks": ""
            },
            "type": "choropleth"
           }
          ],
          "contour": [
           {
            "colorbar": {
             "outlinewidth": 0,
             "ticks": ""
            },
            "colorscale": [
             [
              0.0,
              "#0d0887"
             ],
             [
              0.1111111111111111,
              "#46039f"
             ],
             [
              0.2222222222222222,
              "#7201a8"
             ],
             [
              0.3333333333333333,
              "#9c179e"
             ],
             [
              0.4444444444444444,
              "#bd3786"
             ],
             [
              0.5555555555555556,
              "#d8576b"
             ],
             [
              0.6666666666666666,
              "#ed7953"
             ],
             [
              0.7777777777777778,
              "#fb9f3a"
             ],
             [
              0.8888888888888888,
              "#fdca26"
             ],
             [
              1.0,
              "#f0f921"
             ]
            ],
            "type": "contour"
           }
          ],
          "contourcarpet": [
           {
            "colorbar": {
             "outlinewidth": 0,
             "ticks": ""
            },
            "type": "contourcarpet"
           }
          ],
          "heatmap": [
           {
            "colorbar": {
             "outlinewidth": 0,
             "ticks": ""
            },
            "colorscale": [
             [
              0.0,
              "#0d0887"
             ],
             [
              0.1111111111111111,
              "#46039f"
             ],
             [
              0.2222222222222222,
              "#7201a8"
             ],
             [
              0.3333333333333333,
              "#9c179e"
             ],
             [
              0.4444444444444444,
              "#bd3786"
             ],
             [
              0.5555555555555556,
              "#d8576b"
             ],
             [
              0.6666666666666666,
              "#ed7953"
             ],
             [
              0.7777777777777778,
              "#fb9f3a"
             ],
             [
              0.8888888888888888,
              "#fdca26"
             ],
             [
              1.0,
              "#f0f921"
             ]
            ],
            "type": "heatmap"
           }
          ],
          "heatmapgl": [
           {
            "colorbar": {
             "outlinewidth": 0,
             "ticks": ""
            },
            "colorscale": [
             [
              0.0,
              "#0d0887"
             ],
             [
              0.1111111111111111,
              "#46039f"
             ],
             [
              0.2222222222222222,
              "#7201a8"
             ],
             [
              0.3333333333333333,
              "#9c179e"
             ],
             [
              0.4444444444444444,
              "#bd3786"
             ],
             [
              0.5555555555555556,
              "#d8576b"
             ],
             [
              0.6666666666666666,
              "#ed7953"
             ],
             [
              0.7777777777777778,
              "#fb9f3a"
             ],
             [
              0.8888888888888888,
              "#fdca26"
             ],
             [
              1.0,
              "#f0f921"
             ]
            ],
            "type": "heatmapgl"
           }
          ],
          "histogram": [
           {
            "marker": {
             "colorbar": {
              "outlinewidth": 0,
              "ticks": ""
             }
            },
            "type": "histogram"
           }
          ],
          "histogram2d": [
           {
            "colorbar": {
             "outlinewidth": 0,
             "ticks": ""
            },
            "colorscale": [
             [
              0.0,
              "#0d0887"
             ],
             [
              0.1111111111111111,
              "#46039f"
             ],
             [
              0.2222222222222222,
              "#7201a8"
             ],
             [
              0.3333333333333333,
              "#9c179e"
             ],
             [
              0.4444444444444444,
              "#bd3786"
             ],
             [
              0.5555555555555556,
              "#d8576b"
             ],
             [
              0.6666666666666666,
              "#ed7953"
             ],
             [
              0.7777777777777778,
              "#fb9f3a"
             ],
             [
              0.8888888888888888,
              "#fdca26"
             ],
             [
              1.0,
              "#f0f921"
             ]
            ],
            "type": "histogram2d"
           }
          ],
          "histogram2dcontour": [
           {
            "colorbar": {
             "outlinewidth": 0,
             "ticks": ""
            },
            "colorscale": [
             [
              0.0,
              "#0d0887"
             ],
             [
              0.1111111111111111,
              "#46039f"
             ],
             [
              0.2222222222222222,
              "#7201a8"
             ],
             [
              0.3333333333333333,
              "#9c179e"
             ],
             [
              0.4444444444444444,
              "#bd3786"
             ],
             [
              0.5555555555555556,
              "#d8576b"
             ],
             [
              0.6666666666666666,
              "#ed7953"
             ],
             [
              0.7777777777777778,
              "#fb9f3a"
             ],
             [
              0.8888888888888888,
              "#fdca26"
             ],
             [
              1.0,
              "#f0f921"
             ]
            ],
            "type": "histogram2dcontour"
           }
          ],
          "mesh3d": [
           {
            "colorbar": {
             "outlinewidth": 0,
             "ticks": ""
            },
            "type": "mesh3d"
           }
          ],
          "parcoords": [
           {
            "line": {
             "colorbar": {
              "outlinewidth": 0,
              "ticks": ""
             }
            },
            "type": "parcoords"
           }
          ],
          "pie": [
           {
            "automargin": true,
            "type": "pie"
           }
          ],
          "scatter": [
           {
            "marker": {
             "colorbar": {
              "outlinewidth": 0,
              "ticks": ""
             }
            },
            "type": "scatter"
           }
          ],
          "scatter3d": [
           {
            "line": {
             "colorbar": {
              "outlinewidth": 0,
              "ticks": ""
             }
            },
            "marker": {
             "colorbar": {
              "outlinewidth": 0,
              "ticks": ""
             }
            },
            "type": "scatter3d"
           }
          ],
          "scattercarpet": [
           {
            "marker": {
             "colorbar": {
              "outlinewidth": 0,
              "ticks": ""
             }
            },
            "type": "scattercarpet"
           }
          ],
          "scattergeo": [
           {
            "marker": {
             "colorbar": {
              "outlinewidth": 0,
              "ticks": ""
             }
            },
            "type": "scattergeo"
           }
          ],
          "scattergl": [
           {
            "marker": {
             "colorbar": {
              "outlinewidth": 0,
              "ticks": ""
             }
            },
            "type": "scattergl"
           }
          ],
          "scattermapbox": [
           {
            "marker": {
             "colorbar": {
              "outlinewidth": 0,
              "ticks": ""
             }
            },
            "type": "scattermapbox"
           }
          ],
          "scatterpolar": [
           {
            "marker": {
             "colorbar": {
              "outlinewidth": 0,
              "ticks": ""
             }
            },
            "type": "scatterpolar"
           }
          ],
          "scatterpolargl": [
           {
            "marker": {
             "colorbar": {
              "outlinewidth": 0,
              "ticks": ""
             }
            },
            "type": "scatterpolargl"
           }
          ],
          "scatterternary": [
           {
            "marker": {
             "colorbar": {
              "outlinewidth": 0,
              "ticks": ""
             }
            },
            "type": "scatterternary"
           }
          ],
          "surface": [
           {
            "colorbar": {
             "outlinewidth": 0,
             "ticks": ""
            },
            "colorscale": [
             [
              0.0,
              "#0d0887"
             ],
             [
              0.1111111111111111,
              "#46039f"
             ],
             [
              0.2222222222222222,
              "#7201a8"
             ],
             [
              0.3333333333333333,
              "#9c179e"
             ],
             [
              0.4444444444444444,
              "#bd3786"
             ],
             [
              0.5555555555555556,
              "#d8576b"
             ],
             [
              0.6666666666666666,
              "#ed7953"
             ],
             [
              0.7777777777777778,
              "#fb9f3a"
             ],
             [
              0.8888888888888888,
              "#fdca26"
             ],
             [
              1.0,
              "#f0f921"
             ]
            ],
            "type": "surface"
           }
          ],
          "table": [
           {
            "cells": {
             "fill": {
              "color": "#EBF0F8"
             },
             "line": {
              "color": "white"
             }
            },
            "header": {
             "fill": {
              "color": "#C8D4E3"
             },
             "line": {
              "color": "white"
             }
            },
            "type": "table"
           }
          ]
         },
         "layout": {
          "annotationdefaults": {
           "arrowcolor": "#2a3f5f",
           "arrowhead": 0,
           "arrowwidth": 1
          },
          "autotypenumbers": "strict",
          "coloraxis": {
           "colorbar": {
            "outlinewidth": 0,
            "ticks": ""
           }
          },
          "colorscale": {
           "diverging": [
            [
             0,
             "#8e0152"
            ],
            [
             0.1,
             "#c51b7d"
            ],
            [
             0.2,
             "#de77ae"
            ],
            [
             0.3,
             "#f1b6da"
            ],
            [
             0.4,
             "#fde0ef"
            ],
            [
             0.5,
             "#f7f7f7"
            ],
            [
             0.6,
             "#e6f5d0"
            ],
            [
             0.7,
             "#b8e186"
            ],
            [
             0.8,
             "#7fbc41"
            ],
            [
             0.9,
             "#4d9221"
            ],
            [
             1,
             "#276419"
            ]
           ],
           "sequential": [
            [
             0.0,
             "#0d0887"
            ],
            [
             0.1111111111111111,
             "#46039f"
            ],
            [
             0.2222222222222222,
             "#7201a8"
            ],
            [
             0.3333333333333333,
             "#9c179e"
            ],
            [
             0.4444444444444444,
             "#bd3786"
            ],
            [
             0.5555555555555556,
             "#d8576b"
            ],
            [
             0.6666666666666666,
             "#ed7953"
            ],
            [
             0.7777777777777778,
             "#fb9f3a"
            ],
            [
             0.8888888888888888,
             "#fdca26"
            ],
            [
             1.0,
             "#f0f921"
            ]
           ],
           "sequentialminus": [
            [
             0.0,
             "#0d0887"
            ],
            [
             0.1111111111111111,
             "#46039f"
            ],
            [
             0.2222222222222222,
             "#7201a8"
            ],
            [
             0.3333333333333333,
             "#9c179e"
            ],
            [
             0.4444444444444444,
             "#bd3786"
            ],
            [
             0.5555555555555556,
             "#d8576b"
            ],
            [
             0.6666666666666666,
             "#ed7953"
            ],
            [
             0.7777777777777778,
             "#fb9f3a"
            ],
            [
             0.8888888888888888,
             "#fdca26"
            ],
            [
             1.0,
             "#f0f921"
            ]
           ]
          },
          "colorway": [
           "#636efa",
           "#EF553B",
           "#00cc96",
           "#ab63fa",
           "#FFA15A",
           "#19d3f3",
           "#FF6692",
           "#B6E880",
           "#FF97FF",
           "#FECB52"
          ],
          "font": {
           "color": "#2a3f5f"
          },
          "geo": {
           "bgcolor": "white",
           "lakecolor": "white",
           "landcolor": "#E5ECF6",
           "showlakes": true,
           "showland": true,
           "subunitcolor": "white"
          },
          "hoverlabel": {
           "align": "left"
          },
          "hovermode": "closest",
          "mapbox": {
           "style": "light"
          },
          "paper_bgcolor": "white",
          "plot_bgcolor": "#E5ECF6",
          "polar": {
           "angularaxis": {
            "gridcolor": "white",
            "linecolor": "white",
            "ticks": ""
           },
           "bgcolor": "#E5ECF6",
           "radialaxis": {
            "gridcolor": "white",
            "linecolor": "white",
            "ticks": ""
           }
          },
          "scene": {
           "xaxis": {
            "backgroundcolor": "#E5ECF6",
            "gridcolor": "white",
            "gridwidth": 2,
            "linecolor": "white",
            "showbackground": true,
            "ticks": "",
            "zerolinecolor": "white"
           },
           "yaxis": {
            "backgroundcolor": "#E5ECF6",
            "gridcolor": "white",
            "gridwidth": 2,
            "linecolor": "white",
            "showbackground": true,
            "ticks": "",
            "zerolinecolor": "white"
           },
           "zaxis": {
            "backgroundcolor": "#E5ECF6",
            "gridcolor": "white",
            "gridwidth": 2,
            "linecolor": "white",
            "showbackground": true,
            "ticks": "",
            "zerolinecolor": "white"
           }
          },
          "shapedefaults": {
           "line": {
            "color": "#2a3f5f"
           }
          },
          "ternary": {
           "aaxis": {
            "gridcolor": "white",
            "linecolor": "white",
            "ticks": ""
           },
           "baxis": {
            "gridcolor": "white",
            "linecolor": "white",
            "ticks": ""
           },
           "bgcolor": "#E5ECF6",
           "caxis": {
            "gridcolor": "white",
            "linecolor": "white",
            "ticks": ""
           }
          },
          "title": {
           "x": 0.05
          },
          "xaxis": {
           "automargin": true,
           "gridcolor": "white",
           "linecolor": "white",
           "ticks": "",
           "title": {
            "standoff": 15
           },
           "zerolinecolor": "white",
           "zerolinewidth": 2
          },
          "yaxis": {
           "automargin": true,
           "gridcolor": "white",
           "linecolor": "white",
           "ticks": "",
           "title": {
            "standoff": 15
           },
           "zerolinecolor": "white",
           "zerolinewidth": 2
          }
         }
        },
        "xaxis": {
         "anchor": "y",
         "domain": [
          0.0,
          1.0
         ],
         "title": {
          "text": "dateTimePointer"
         }
        },
        "yaxis": {
         "anchor": "x",
         "domain": [
          0.0,
          1.0
         ],
         "title": {
          "text": "averageOutput"
         }
        }
       }
      },
      "text/html": "<div>                            <div id=\"69894d7d-4921-4cec-946a-3f8fdd73e8a2\" class=\"plotly-graph-div\" style=\"height:525px; width:100%;\"></div>            <script type=\"text/javascript\">                require([\"plotly\"], function(Plotly) {                    window.PLOTLYENV=window.PLOTLYENV || {};                                    if (document.getElementById(\"69894d7d-4921-4cec-946a-3f8fdd73e8a2\")) {                    Plotly.newPlot(                        \"69894d7d-4921-4cec-946a-3f8fdd73e8a2\",                        [{\"hovertemplate\": \"duration=30.0<br>dateTimePointer=%{x}<br>averageOutput=%{y}<extra></extra>\", \"legendgroup\": \"30.0\", \"marker\": {\"color\": \"#636efa\", \"symbol\": \"circle\"}, \"mode\": \"markers\", \"name\": \"30.0\", \"orientation\": \"v\", \"showlegend\": true, \"type\": \"scatter\", \"x\": [\"2020-10-19T22:04:39+00:00\", \"2020-10-20T16:26:32+00:00\", \"2020-10-23T20:02:50+00:00\", \"2020-10-25T19:29:59+00:00\", \"2020-10-27T21:30:58+00:00\", \"2020-11-03T23:33:18+00:00\", \"2020-11-10T00:29:38+00:00\", \"2020-11-11T23:53:59+00:00\", \"2020-11-12T23:25:00+00:00\", \"2020-11-16T22:56:31+00:00\", \"2020-11-18T13:05:19+00:00\", \"2020-11-19T12:55:12+00:00\", \"2020-11-22T15:42:56+00:00\", \"2020-11-29T17:51:58+00:00\", \"2020-11-30T12:52:53+00:00\", \"2020-12-03T13:03:36+00:00\", \"2020-12-04T21:36:55+00:00\", \"2020-12-06T14:51:11+00:00\", \"2020-12-13T16:03:36+00:00\", \"2020-12-13T16:37:32+00:00\", \"2020-12-15T13:11:24+00:00\", \"2020-12-17T13:27:18+00:00\", \"2020-12-18T12:59:02+00:00\", \"2020-12-21T13:00:12+00:00\", \"2020-12-21T13:32:58+00:00\", \"2020-12-22T18:08:55+00:00\", \"2020-12-23T15:34:29+00:00\", \"2020-12-26T16:25:41+00:00\", \"2020-12-27T23:02:26+00:00\", \"2020-12-28T23:55:31+00:00\", \"2020-12-29T00:26:18+00:00\", \"2020-12-31T20:28:25+00:00\", \"2020-12-31T21:01:20+00:00\", \"2021-01-01T23:55:19+00:00\", \"2021-01-05T12:46:54+00:00\", \"2021-01-13T17:15:21+00:00\", \"2021-01-14T23:23:06+00:00\", \"2021-01-16T00:37:33+00:00\", \"2021-01-21T22:44:05+00:00\", \"2021-01-26T00:25:07+00:00\", \"2021-01-27T17:52:16+00:00\", \"2021-01-28T23:54:23+00:00\", \"2021-01-30T18:25:54+00:00\", \"2021-01-31T22:19:41+00:00\", \"2021-01-31T22:53:31+00:00\", \"2021-02-05T22:45:45+00:00\", \"2021-02-10T22:43:33+00:00\", \"2021-02-12T23:33:46+00:00\", \"2021-02-17T00:23:13+00:00\", \"2021-02-17T23:00:10+00:00\", \"2021-02-18T22:25:03+00:00\", \"2021-02-20T22:52:07+00:00\", \"2021-03-02T22:26:02+00:00\", \"2021-03-04T23:08:37+00:00\", \"2021-03-11T22:17:21+00:00\", \"2021-03-16T22:13:14+00:00\", \"2021-03-19T12:04:38+00:00\", \"2021-03-25T22:51:52+00:00\", \"2021-03-28T23:27:59+00:00\", \"2021-04-02T21:11:59+00:00\", \"2021-04-09T22:07:07+00:00\", \"2021-04-12T23:26:00+00:00\", \"2021-04-14T23:25:14+00:00\", \"2021-04-15T22:30:12+00:00\", \"2021-04-19T16:31:47+00:00\", \"2021-04-21T22:08:56+00:00\", \"2021-04-29T23:31:12+00:00\", \"2021-05-09T16:21:42+00:00\", \"2021-05-16T22:36:17+00:00\", \"2021-05-29T19:38:33+00:00\", \"2021-06-02T20:03:53+00:00\", \"2021-06-03T16:42:24+00:00\", \"2021-06-08T23:49:16+00:00\", \"2021-06-09T00:20:05+00:00\", \"2021-06-10T22:33:46+00:00\", \"2021-06-20T15:38:18+00:00\", \"2021-06-24T17:09:22+00:00\", \"2021-06-29T18:46:39+00:00\", \"2021-06-29T18:46:59+00:00\", \"2021-07-28T00:08:15+00:00\", \"2021-07-30T15:20:46+00:00\", \"2021-07-30T15:52:22+00:00\", \"2021-08-06T23:09:11+00:00\", \"2021-08-06T23:39:59+00:00\", \"2021-08-07T00:10:28+00:00\", \"2021-08-11T21:47:55+00:00\", \"2021-08-11T22:18:26+00:00\", \"2021-08-16T16:44:37+00:00\", \"2021-08-19T18:52:22+00:00\", \"2021-09-01T20:54:01+00:00\", \"2021-09-08T15:04:19+00:00\", \"2021-09-21T16:50:07+00:00\", \"2021-09-21T17:21:28+00:00\", \"2021-10-12T22:16:29+00:00\", \"2021-10-15T21:57:28+00:00\", \"2021-10-15T22:28:38+00:00\", \"2021-10-24T23:16:02+00:00\", \"2021-10-29T20:29:32+00:00\", \"2021-10-29T21:00:20+00:00\", \"2021-11-09T23:03:40+00:00\", \"2021-11-10T22:39:02+00:00\", \"2021-11-11T23:08:39+00:00\", \"2021-11-18T23:06:54+00:00\", \"2021-11-19T21:55:19+00:00\", \"2021-11-19T22:27:56+00:00\", \"2021-11-24T21:15:43+00:00\", \"2021-11-24T21:47:48+00:00\", \"2021-12-02T22:25:50+00:00\", \"2021-12-04T17:55:24+00:00\", \"2021-12-08T22:21:21+00:00\", \"2021-12-08T23:10:51+00:00\", \"2021-12-17T21:39:33+00:00\", \"2021-12-21T22:56:45+00:00\", \"2021-12-21T23:27:58+00:00\", \"2021-12-29T21:12:36+00:00\"], \"xaxis\": \"x\", \"y\": [137.0, 161.0, 170.0, 178.0, 160.0, 185.0, 198.0, 167.0, 178.0, 182.0, 178.0, 182.0, 175.0, 167.0, 202.0, 156.0, 204.0, 167.0, 215.0, 172.0, 157.0, 193.0, 162.0, 186.0, 167.0, 217.0, 173.0, 187.0, 202.0, 198.0, 198.0, 201.0, 206.0, 217.0, 185.0, 219.0, 219.0, 228.0, 206.0, 208.0, 211.0, 216.0, 210.0, 181.0, 208.0, 186.0, 197.0, 208.0, null, 215.0, 198.0, 202.0, 201.0, 215.0, 188.0, 188.0, 178.0, 210.0, 183.0, 186.0, 213.0, 197.0, 204.0, 207.0, 197.0, 197.0, 198.0, 199.0, 180.0, 176.0, 154.0, 185.0, 177.0, 196.0, 195.0, 180.0, 183.0, null, 191.0, 186.0, 189.0, 187.0, 187.0, 201.0, 178.0, 209.0, 186.0, 203.0, 209.0, 197.0, 203.0, 194.0, 175.0, 216.0, 195.0, 188.0, 205.0, 206.0, 183.0, 184.0, 196.0, 198.0, 214.0, 201.0, 219.0, 189.0, 185.0, 160.0, 201.0, 197.0, 197.0, 198.0, 196.0, 204.0, 192.0], \"yaxis\": \"y\"}, {\"hovertemplate\": \"<b>LOWESS trendline</b><br><br>duration=30.0<br>dateTimePointer=%{x}<br>averageOutput=%{y} <b>(trend)</b><extra></extra>\", \"legendgroup\": \"30.0\", \"marker\": {\"color\": \"#636efa\", \"symbol\": \"circle\"}, \"mode\": \"lines\", \"name\": \"30.0\", \"showlegend\": false, \"type\": \"scatter\", \"x\": [\"2020-10-19T22:04:39+00:00\", \"2020-10-20T16:26:32+00:00\", \"2020-10-23T20:02:50+00:00\", \"2020-10-25T19:29:59+00:00\", \"2020-10-27T21:30:58+00:00\", \"2020-11-03T23:33:18+00:00\", \"2020-11-10T00:29:38+00:00\", \"2020-11-11T23:53:59+00:00\", \"2020-11-12T23:25:00+00:00\", \"2020-11-16T22:56:31+00:00\", \"2020-11-18T13:05:19+00:00\", \"2020-11-19T12:55:12+00:00\", \"2020-11-22T15:42:56+00:00\", \"2020-11-29T17:51:58+00:00\", \"2020-11-30T12:52:53+00:00\", \"2020-12-03T13:03:36+00:00\", \"2020-12-04T21:36:55+00:00\", \"2020-12-06T14:51:11+00:00\", \"2020-12-13T16:03:36+00:00\", \"2020-12-13T16:37:32+00:00\", \"2020-12-15T13:11:24+00:00\", \"2020-12-17T13:27:18+00:00\", \"2020-12-18T12:59:02+00:00\", \"2020-12-21T13:00:12+00:00\", \"2020-12-21T13:32:58+00:00\", \"2020-12-22T18:08:55+00:00\", \"2020-12-23T15:34:29+00:00\", \"2020-12-26T16:25:41+00:00\", \"2020-12-27T23:02:26+00:00\", \"2020-12-28T23:55:31+00:00\", \"2020-12-29T00:26:18+00:00\", \"2020-12-31T20:28:25+00:00\", \"2020-12-31T21:01:20+00:00\", \"2021-01-01T23:55:19+00:00\", \"2021-01-05T12:46:54+00:00\", \"2021-01-13T17:15:21+00:00\", \"2021-01-14T23:23:06+00:00\", \"2021-01-16T00:37:33+00:00\", \"2021-01-21T22:44:05+00:00\", \"2021-01-26T00:25:07+00:00\", \"2021-01-27T17:52:16+00:00\", \"2021-01-28T23:54:23+00:00\", \"2021-01-30T18:25:54+00:00\", \"2021-01-31T22:19:41+00:00\", \"2021-01-31T22:53:31+00:00\", \"2021-02-05T22:45:45+00:00\", \"2021-02-10T22:43:33+00:00\", \"2021-02-12T23:33:46+00:00\", \"2021-02-17T23:00:10+00:00\", \"2021-02-18T22:25:03+00:00\", \"2021-02-20T22:52:07+00:00\", \"2021-03-02T22:26:02+00:00\", \"2021-03-04T23:08:37+00:00\", \"2021-03-11T22:17:21+00:00\", \"2021-03-16T22:13:14+00:00\", \"2021-03-19T12:04:38+00:00\", \"2021-03-25T22:51:52+00:00\", \"2021-03-28T23:27:59+00:00\", \"2021-04-02T21:11:59+00:00\", \"2021-04-09T22:07:07+00:00\", \"2021-04-12T23:26:00+00:00\", \"2021-04-14T23:25:14+00:00\", \"2021-04-15T22:30:12+00:00\", \"2021-04-19T16:31:47+00:00\", \"2021-04-21T22:08:56+00:00\", \"2021-04-29T23:31:12+00:00\", \"2021-05-09T16:21:42+00:00\", \"2021-05-16T22:36:17+00:00\", \"2021-05-29T19:38:33+00:00\", \"2021-06-02T20:03:53+00:00\", \"2021-06-03T16:42:24+00:00\", \"2021-06-08T23:49:16+00:00\", \"2021-06-09T00:20:05+00:00\", \"2021-06-10T22:33:46+00:00\", \"2021-06-20T15:38:18+00:00\", \"2021-06-24T17:09:22+00:00\", \"2021-06-29T18:46:59+00:00\", \"2021-07-28T00:08:15+00:00\", \"2021-07-30T15:20:46+00:00\", \"2021-07-30T15:52:22+00:00\", \"2021-08-06T23:09:11+00:00\", \"2021-08-06T23:39:59+00:00\", \"2021-08-07T00:10:28+00:00\", \"2021-08-11T21:47:55+00:00\", \"2021-08-11T22:18:26+00:00\", \"2021-08-16T16:44:37+00:00\", \"2021-08-19T18:52:22+00:00\", \"2021-09-01T20:54:01+00:00\", \"2021-09-08T15:04:19+00:00\", \"2021-09-21T16:50:07+00:00\", \"2021-09-21T17:21:28+00:00\", \"2021-10-12T22:16:29+00:00\", \"2021-10-15T21:57:28+00:00\", \"2021-10-15T22:28:38+00:00\", \"2021-10-24T23:16:02+00:00\", \"2021-10-29T20:29:32+00:00\", \"2021-10-29T21:00:20+00:00\", \"2021-11-09T23:03:40+00:00\", \"2021-11-10T22:39:02+00:00\", \"2021-11-11T23:08:39+00:00\", \"2021-11-18T23:06:54+00:00\", \"2021-11-19T21:55:19+00:00\", \"2021-11-19T22:27:56+00:00\", \"2021-11-24T21:15:43+00:00\", \"2021-11-24T21:47:48+00:00\", \"2021-12-02T22:25:50+00:00\", \"2021-12-04T17:55:24+00:00\", \"2021-12-08T22:21:21+00:00\", \"2021-12-08T23:10:51+00:00\", \"2021-12-17T21:39:33+00:00\", \"2021-12-21T22:56:45+00:00\", \"2021-12-21T23:27:58+00:00\", \"2021-12-29T21:12:36+00:00\"], \"xaxis\": \"x\", \"y\": [174.38754860087366, 174.57254010819298, 175.32990623991694, 175.8017484358237, 176.29611662366938, 177.95368137797618, 179.33794423800956, 179.78486861871897, 180.00549125106355, 180.89415068826227, 181.2456214473641, 181.4641990543203, 182.14518603538733, 183.6654901520028, 183.83286788122695, 184.46352899159447, 184.74554434732735, 185.10058765667296, 186.5316333601935, 186.53634668661866, 186.90627672897105, 187.3036457712051, 187.49612379573136, 188.08024604358184, 188.08464643663905, 188.31448422396954, 188.48589979411207, 189.06381287396013, 189.30439251955477, 189.4989847391374, 189.502987552827, 190.0305275666831, 190.0347551494684, 190.2415277276686, 190.8871450015099, 192.34170293352742, 192.5595962721623, 192.7410363903419, 193.74262856534378, 194.40934936256372, 194.68619262855904, 194.88430650081258, 195.16097832175845, 195.3398619756464, 195.34345540728654, 196.08464478275337, 196.77161555535196, 197.03185464512413, 197.612295344579, 197.696777985508, 197.64712198953012, 197.24928969341045, 197.07293127587195, 196.51545191463492, 196.46095423092166, 196.34949196041703, 196.0367355461228, 195.7517432440819, 195.40514060217714, 194.81848394214168, 194.60609955403405, 194.4817992915324, 194.41597798151776, 194.21615875205114, 194.12063754399367, 193.82968240030954, 193.70458071301024, 193.36133293750788, 193.1046350190202, 192.9627170703263, 192.96375303690056, 192.84441662283814, 192.84307565818597, 192.83120996982254, 192.86321979688677, 192.78952846753657, 192.77774648911551, 193.16133552832403, 193.2250339699795, 193.22555914253132, 193.3972664954908, 193.39776426655072, 193.39825691050623, 193.5123798305386, 193.51287484104094, 193.62502223182173, 193.69876386544584, 194.0241174623636, 194.20123337343963, 194.56142560655132, 194.56204365363268, 195.1906220347878, 195.2832060407171, 195.28388030438413, 195.56926494668073, 195.72666673834232, 195.72736038067495, 196.09146285399925, 196.12415147762277, 196.15815696802815, 196.39303734779355, 196.4251449091604, 196.42591080136305, 196.59388637278025, 196.594644919346, 196.86905958762011, 196.9312883432974, 197.07530311311453, 197.07648783496646, 197.38529641385188, 197.5258220182518, 197.52657415669205, 197.80121399652168], \"yaxis\": \"y\"}, {\"hovertemplate\": \"duration=20.0<br>dateTimePointer=%{x}<br>averageOutput=%{y}<extra></extra>\", \"legendgroup\": \"20.0\", \"marker\": {\"color\": \"#EF553B\", \"symbol\": \"circle\"}, \"mode\": \"markers\", \"name\": \"20.0\", \"orientation\": \"v\", \"showlegend\": true, \"type\": \"scatter\", \"x\": [\"2020-10-21T16:49:17+00:00\", \"2020-11-01T15:06:51+00:00\", \"2020-11-24T12:48:14+00:00\", \"2020-11-24T13:11:24+00:00\", \"2020-11-30T12:30:44+00:00\", \"2020-12-03T12:36:47+00:00\", \"2020-12-17T14:00:29+00:00\", \"2021-01-10T22:01:55+00:00\", \"2021-01-10T22:30:07+00:00\", \"2021-01-14T23:58:08+00:00\", \"2021-01-17T23:42:06+00:00\", \"2021-01-23T18:37:08+00:00\", \"2021-01-28T23:31:31+00:00\", \"2021-01-29T17:58:46+00:00\", \"2021-02-03T00:43:04+00:00\", \"2021-02-20T23:24:54+00:00\", \"2021-03-01T22:39:53+00:00\", \"2021-03-10T17:52:35+00:00\", \"2021-03-10T18:12:59+00:00\", \"2021-03-23T21:18:15+00:00\", \"2021-03-23T21:39:30+00:00\", \"2021-04-02T21:43:19+00:00\", \"2021-04-15T22:09:41+00:00\", \"2021-04-21T22:41:09+00:00\", \"2021-06-10T22:12:33+00:00\", \"2021-07-08T01:57:13+00:00\", \"2021-07-08T02:18:35+00:00\", \"2021-07-27T23:47:02+00:00\", \"2021-08-11T21:26:30+00:00\", \"2021-09-16T16:55:19+00:00\", \"2021-10-24T23:50:52+00:00\", \"2021-11-02T21:11:31+00:00\", \"2021-11-02T21:32:44+00:00\", \"2021-11-10T22:16:43+00:00\", \"2021-11-15T21:52:45+00:00\", \"2021-11-17T23:20:26+00:00\", \"2021-11-18T22:44:34+00:00\", \"2021-12-02T22:04:33+00:00\", \"2021-12-06T23:22:49+00:00\", \"2021-12-22T23:30:49+00:00\"], \"xaxis\": \"x\", \"y\": [145.0, 167.0, 167.0, 194.0, 155.0, 222.0, 162.0, 222.0, 188.0, 205.0, 258.0, 189.0, 189.0, 201.0, 194.0, 206.0, 186.0, 218.0, 211.0, 220.0, 218.0, 190.0, 180.0, 210.0, 173.0, 198.0, 190.0, 186.0, 199.0, 180.0, 210.0, 194.0, 217.0, 167.0, 182.0, 175.0, 200.0, 211.0, 191.0, 216.0], \"yaxis\": \"y\"}, {\"hovertemplate\": \"<b>LOWESS trendline</b><br><br>duration=20.0<br>dateTimePointer=%{x}<br>averageOutput=%{y} <b>(trend)</b><extra></extra>\", \"legendgroup\": \"20.0\", \"marker\": {\"color\": \"#EF553B\", \"symbol\": \"circle\"}, \"mode\": \"lines\", \"name\": \"20.0\", \"showlegend\": false, \"type\": \"scatter\", \"x\": [\"2020-10-21T16:49:17+00:00\", \"2020-11-01T15:06:51+00:00\", \"2020-11-24T12:48:14+00:00\", \"2020-11-24T13:11:24+00:00\", \"2020-11-30T12:30:44+00:00\", \"2020-12-03T12:36:47+00:00\", \"2020-12-17T14:00:29+00:00\", \"2021-01-10T22:01:55+00:00\", \"2021-01-10T22:30:07+00:00\", \"2021-01-14T23:58:08+00:00\", \"2021-01-17T23:42:06+00:00\", \"2021-01-23T18:37:08+00:00\", \"2021-01-28T23:31:31+00:00\", \"2021-01-29T17:58:46+00:00\", \"2021-02-03T00:43:04+00:00\", \"2021-02-20T23:24:54+00:00\", \"2021-03-01T22:39:53+00:00\", \"2021-03-10T17:52:35+00:00\", \"2021-03-10T18:12:59+00:00\", \"2021-03-23T21:18:15+00:00\", \"2021-03-23T21:39:30+00:00\", \"2021-04-02T21:43:19+00:00\", \"2021-04-15T22:09:41+00:00\", \"2021-04-21T22:41:09+00:00\", \"2021-06-10T22:12:33+00:00\", \"2021-07-08T01:57:13+00:00\", \"2021-07-08T02:18:35+00:00\", \"2021-07-27T23:47:02+00:00\", \"2021-08-11T21:26:30+00:00\", \"2021-09-16T16:55:19+00:00\", \"2021-10-24T23:50:52+00:00\", \"2021-11-02T21:11:31+00:00\", \"2021-11-02T21:32:44+00:00\", \"2021-11-10T22:16:43+00:00\", \"2021-11-15T21:52:45+00:00\", \"2021-11-17T23:20:26+00:00\", \"2021-11-18T22:44:34+00:00\", \"2021-12-02T22:04:33+00:00\", \"2021-12-06T23:22:49+00:00\", \"2021-12-22T23:30:49+00:00\"], \"xaxis\": \"x\", \"y\": [165.51474602626857, 168.9223483119706, 175.85724466276622, 175.86202374348778, 177.62745298542924, 178.50915519783211, 182.57842890655346, 189.3856682189158, 189.3910173223324, 190.49514334875218, 191.3005814314378, 192.83911515508356, 194.19118391928635, 194.38779283808603, 195.46405997195552, 199.39766878537907, 200.7546936603156, 200.98062666267728, 200.9796522618467, 200.4489673868405, 200.44844240413727, 199.35173845603413, 197.9823057573993, 197.56018667133318, 193.87379249797658, 193.28952660514963, 193.29002517362076, 193.30548321381556, 193.4208652500044, 193.89916145435865, 194.86046399893954, 195.13855746136127, 195.13903270318937, 195.40427550972527, 195.57443436431498, 195.6459532451545, 195.68002521536494, 196.18623756511533, 196.34000626803865, 196.97991513935426], \"yaxis\": \"y\"}, {\"hovertemplate\": \"duration=45.0<br>dateTimePointer=%{x}<br>averageOutput=%{y}<extra></extra>\", \"legendgroup\": \"45.0\", \"marker\": {\"color\": \"#00cc96\", \"symbol\": \"circle\"}, \"mode\": \"markers\", \"name\": \"45.0\", \"orientation\": \"v\", \"showlegend\": true, \"type\": \"scatter\", \"x\": [\"2020-10-29T21:42:19+00:00\", \"2020-11-10T23:24:55+00:00\", \"2020-11-23T12:47:48+00:00\", \"2020-11-26T12:58:22+00:00\", \"2020-12-05T18:26:01+00:00\", \"2020-12-08T12:41:41+00:00\", \"2020-12-09T12:32:42+00:00\", \"2020-12-19T18:26:05+00:00\", \"2020-12-23T14:46:57+00:00\", \"2020-12-26T17:00:49+00:00\", \"2021-01-02T18:19:21+00:00\", \"2021-01-04T12:28:14+00:00\", \"2021-01-06T12:50:25+00:00\", \"2021-01-09T18:46:32+00:00\", \"2021-01-12T12:51:16+00:00\", \"2021-01-19T22:53:27+00:00\", \"2021-01-21T00:02:35+00:00\", \"2021-01-24T23:02:13+00:00\", \"2021-02-04T23:28:20+00:00\", \"2021-02-06T18:26:01+00:00\", \"2021-02-09T00:21:26+00:00\", \"2021-02-14T20:47:57+00:00\", \"2021-02-16T12:36:59+00:00\", \"2021-02-23T00:09:52+00:00\", \"2021-02-23T23:27:47+00:00\", \"2021-02-28T18:30:16+00:00\", \"2021-03-14T21:53:15+00:00\", \"2021-03-21T17:58:26+00:00\", \"2021-04-06T22:24:46+00:00\", \"2021-04-23T22:59:46+00:00\", \"2021-04-27T22:13:08+00:00\", \"2021-05-05T22:10:31+00:00\", \"2021-05-10T23:26:36+00:00\", \"2021-05-18T22:26:07+00:00\", \"2021-06-14T18:40:17+00:00\", \"2021-06-20T16:11:32+00:00\", \"2021-08-09T01:45:26+00:00\", \"2021-09-24T21:54:57+00:00\", \"2021-09-29T22:16:50+00:00\", \"2021-10-06T21:47:52+00:00\", \"2021-11-06T14:57:23+00:00\", \"2021-11-09T22:16:55+00:00\", \"2021-11-14T20:21:07+00:00\", \"2021-11-15T22:15:45+00:00\", \"2021-11-22T17:40:53+00:00\", \"2021-11-29T22:30:03+00:00\", \"2021-12-04T18:26:14+00:00\", \"2021-12-05T17:36:19+00:00\", \"2021-12-13T23:17:16+00:00\", \"2021-12-14T22:20:15+00:00\", \"2021-12-27T16:25:16+00:00\"], \"xaxis\": \"x\", \"y\": [174.0, 202.0, 188.0, 193.0, 214.0, 180.0, 187.0, 212.0, 179.0, 177.0, 200.0, 188.0, 189.0, 217.0, 191.0, 201.0, 223.0, 197.0, 197.0, 210.0, 210.0, 199.0, 177.0, 183.0, 193.0, 201.0, 190.0, 189.0, 142.0, 165.0, 172.0, 193.0, 186.0, 169.0, 186.0, 166.0, 195.0, 198.0, 217.0, 203.0, 189.0, 190.0, 211.0, 198.0, 212.0, 204.0, 222.0, 203.0, 230.0, 197.0, 185.0], \"yaxis\": \"y\"}, {\"hovertemplate\": \"<b>LOWESS trendline</b><br><br>duration=45.0<br>dateTimePointer=%{x}<br>averageOutput=%{y} <b>(trend)</b><extra></extra>\", \"legendgroup\": \"45.0\", \"marker\": {\"color\": \"#00cc96\", \"symbol\": \"circle\"}, \"mode\": \"lines\", \"name\": \"45.0\", \"showlegend\": false, \"type\": \"scatter\", \"x\": [\"2020-10-29T21:42:19+00:00\", \"2020-11-10T23:24:55+00:00\", \"2020-11-23T12:47:48+00:00\", \"2020-11-26T12:58:22+00:00\", \"2020-12-05T18:26:01+00:00\", \"2020-12-08T12:41:41+00:00\", \"2020-12-09T12:32:42+00:00\", \"2020-12-19T18:26:05+00:00\", \"2020-12-23T14:46:57+00:00\", \"2020-12-26T17:00:49+00:00\", \"2021-01-02T18:19:21+00:00\", \"2021-01-04T12:28:14+00:00\", \"2021-01-06T12:50:25+00:00\", \"2021-01-09T18:46:32+00:00\", \"2021-01-12T12:51:16+00:00\", \"2021-01-19T22:53:27+00:00\", \"2021-01-21T00:02:35+00:00\", \"2021-01-24T23:02:13+00:00\", \"2021-02-04T23:28:20+00:00\", \"2021-02-06T18:26:01+00:00\", \"2021-02-09T00:21:26+00:00\", \"2021-02-14T20:47:57+00:00\", \"2021-02-16T12:36:59+00:00\", \"2021-02-23T00:09:52+00:00\", \"2021-02-23T23:27:47+00:00\", \"2021-02-28T18:30:16+00:00\", \"2021-03-14T21:53:15+00:00\", \"2021-03-21T17:58:26+00:00\", \"2021-04-06T22:24:46+00:00\", \"2021-04-23T22:59:46+00:00\", \"2021-04-27T22:13:08+00:00\", \"2021-05-05T22:10:31+00:00\", \"2021-05-10T23:26:36+00:00\", \"2021-05-18T22:26:07+00:00\", \"2021-06-14T18:40:17+00:00\", \"2021-06-20T16:11:32+00:00\", \"2021-08-09T01:45:26+00:00\", \"2021-09-24T21:54:57+00:00\", \"2021-09-29T22:16:50+00:00\", \"2021-10-06T21:47:52+00:00\", \"2021-11-06T14:57:23+00:00\", \"2021-11-09T22:16:55+00:00\", \"2021-11-14T20:21:07+00:00\", \"2021-11-15T22:15:45+00:00\", \"2021-11-22T17:40:53+00:00\", \"2021-11-29T22:30:03+00:00\", \"2021-12-04T18:26:14+00:00\", \"2021-12-05T17:36:19+00:00\", \"2021-12-13T23:17:16+00:00\", \"2021-12-14T22:20:15+00:00\", \"2021-12-27T16:25:16+00:00\"], \"xaxis\": \"x\", \"y\": [190.57796569020246, 191.43513518695377, 192.25607913150031, 192.44112193327214, 192.97795800371608, 193.12881992235265, 193.18190421850315, 193.68754587255822, 193.85555550979117, 193.98037323275386, 194.22608366389454, 194.27793890826015, 194.33238891049686, 194.40794022141705, 194.45923928700583, 194.52868707361836, 194.52919514612003, 194.50666758425513, 194.19558655662388, 194.10639298946856, 193.77649392247451, 192.6632133777246, 192.35295072529672, 191.3359493015789, 191.22366892070883, 190.51719957936334, 188.25834374352007, 187.20752936447064, 184.68780167921983, 183.08583219277722, 182.75345073842888, 181.94709600375367, 181.93172145963348, 183.01728224247324, 185.91805846039566, 186.84641081993934, 191.74782258532812, 197.17822043234847, 197.77588132670374, 198.61111267888054, 202.30470772682918, 202.70162580291512, 203.29170563195294, 203.4210890786527, 204.23621615845565, 205.0965316372934, 205.6726088220684, 205.78761944441578, 206.76723105194154, 206.88122871739984, 208.38920283872375], \"yaxis\": \"y\"}, {\"hovertemplate\": \"duration=10.0<br>dateTimePointer=%{x}<br>averageOutput=%{y}<extra></extra>\", \"legendgroup\": \"10.0\", \"marker\": {\"color\": \"#ab63fa\", \"symbol\": \"circle\"}, \"mode\": \"markers\", \"name\": \"10.0\", \"orientation\": \"v\", \"showlegend\": true, \"type\": \"scatter\", \"x\": [\"2020-11-10T00:17:07+00:00\", \"2020-11-16T22:44:04+00:00\", \"2020-12-01T12:25:43+00:00\", \"2021-01-30T18:06:10+00:00\", \"2021-12-19T17:15:49+00:00\"], \"xaxis\": \"x\", \"y\": [100.0, 128.0, 126.0, 136.0, 86.0], \"yaxis\": \"y\"}, {\"hovertemplate\": \"<b>LOWESS trendline</b><br><br>duration=10.0<br>dateTimePointer=%{x}<br>averageOutput=%{y} <b>(trend)</b><extra></extra>\", \"legendgroup\": \"10.0\", \"marker\": {\"color\": \"#ab63fa\", \"symbol\": \"circle\"}, \"mode\": \"lines\", \"name\": \"10.0\", \"showlegend\": false, \"type\": \"scatter\", \"x\": [\"2020-11-10T00:17:07+00:00\", \"2020-11-16T22:44:04+00:00\", \"2020-12-01T12:25:43+00:00\", \"2021-01-30T18:06:10+00:00\", \"2021-12-19T17:15:49+00:00\"], \"xaxis\": \"x\", \"y\": [100.0, 128.0, 126.0, 135.9999999999991, 85.99999999999983], \"yaxis\": \"y\"}, {\"hovertemplate\": \"duration=15.0<br>dateTimePointer=%{x}<br>averageOutput=%{y}<extra></extra>\", \"legendgroup\": \"15.0\", \"marker\": {\"color\": \"#FFA15A\", \"symbol\": \"circle\"}, \"mode\": \"markers\", \"name\": \"15.0\", \"orientation\": \"v\", \"showlegend\": true, \"type\": \"scatter\", \"x\": [\"2020-11-14T20:53:50+00:00\", \"2020-11-22T15:25:37+00:00\", \"2020-12-01T12:54:51+00:00\", \"2020-12-13T15:46:26+00:00\", \"2021-01-16T01:10:33+00:00\", \"2021-02-05T00:17:09+00:00\", \"2021-02-17T22:40:21+00:00\", \"2021-05-16T23:10:36+00:00\", \"2021-06-03T17:12:55+00:00\", \"2021-06-24T17:40:44+00:00\", \"2021-08-16T17:16:02+00:00\", \"2021-08-19T19:23:36+00:00\", \"2021-12-06T23:44:03+00:00\", \"2021-12-08T22:54:13+00:00\"], \"xaxis\": \"x\", \"y\": [156.0, 208.0, 205.0, 171.0, 165.0, 154.0, 187.0, 193.0, 192.0, 171.0, 188.0, 220.0, 211.0, 225.0], \"yaxis\": \"y\"}, {\"hovertemplate\": \"<b>LOWESS trendline</b><br><br>duration=15.0<br>dateTimePointer=%{x}<br>averageOutput=%{y} <b>(trend)</b><extra></extra>\", \"legendgroup\": \"15.0\", \"marker\": {\"color\": \"#FFA15A\", \"symbol\": \"circle\"}, \"mode\": \"lines\", \"name\": \"15.0\", \"showlegend\": false, \"type\": \"scatter\", \"x\": [\"2020-11-14T20:53:50+00:00\", \"2020-11-22T15:25:37+00:00\", \"2020-12-01T12:54:51+00:00\", \"2020-12-13T15:46:26+00:00\", \"2021-01-16T01:10:33+00:00\", \"2021-02-05T00:17:09+00:00\", \"2021-02-17T22:40:21+00:00\", \"2021-05-16T23:10:36+00:00\", \"2021-06-03T17:12:55+00:00\", \"2021-06-24T17:40:44+00:00\", \"2021-08-16T17:16:02+00:00\", \"2021-08-19T19:23:36+00:00\", \"2021-12-06T23:44:03+00:00\", \"2021-12-08T22:54:13+00:00\"], \"xaxis\": \"x\", \"y\": [185.8724974542792, 184.3350833450311, 182.6333970967983, 180.43926537456807, 174.9969167223694, 172.04305382682006, 171.8544842480254, 185.34387817020985, 188.1900688120353, 191.44123762912704, 199.5294349246074, 200.03194505838403, 218.46378460831107, 218.7977196160906], \"yaxis\": \"y\"}, {\"hovertemplate\": \"duration=60.0<br>dateTimePointer=%{x}<br>averageOutput=%{y}<extra></extra>\", \"legendgroup\": \"60.0\", \"marker\": {\"color\": \"#19d3f3\", \"symbol\": \"circle\"}, \"mode\": \"markers\", \"name\": \"60.0\", \"orientation\": \"v\", \"showlegend\": true, \"type\": \"scatter\", \"x\": [\"2021-02-26T22:52:56+00:00\", \"2021-03-27T17:26:55+00:00\", \"2021-04-11T21:35:46+00:00\", \"2021-04-25T22:40:29+00:00\", \"2021-05-15T17:19:27+00:00\"], \"xaxis\": \"x\", \"y\": [193.0, 194.0, 197.0, 190.0, 200.0], \"yaxis\": \"y\"}, {\"hovertemplate\": \"<b>LOWESS trendline</b><br><br>duration=60.0<br>dateTimePointer=%{x}<br>averageOutput=%{y} <b>(trend)</b><extra></extra>\", \"legendgroup\": \"60.0\", \"marker\": {\"color\": \"#19d3f3\", \"symbol\": \"circle\"}, \"mode\": \"lines\", \"name\": \"60.0\", \"showlegend\": false, \"type\": \"scatter\", \"x\": [\"2021-02-26T22:52:56+00:00\", \"2021-03-27T17:26:55+00:00\", \"2021-04-11T21:35:46+00:00\", \"2021-04-25T22:40:29+00:00\", \"2021-05-15T17:19:27+00:00\"], \"xaxis\": \"x\", \"y\": [192.9999999999902, 193.99999999999162, 197.00000000002058, 190.00000000000824, 199.99999999999739], \"yaxis\": \"y\"}],                        {\"legend\": {\"title\": {\"text\": \"duration\"}, \"tracegroupgap\": 0}, \"margin\": {\"t\": 60}, \"template\": {\"data\": {\"bar\": [{\"error_x\": {\"color\": \"#2a3f5f\"}, \"error_y\": {\"color\": \"#2a3f5f\"}, \"marker\": {\"line\": {\"color\": \"#E5ECF6\", \"width\": 0.5}}, \"type\": \"bar\"}], \"barpolar\": [{\"marker\": {\"line\": {\"color\": \"#E5ECF6\", \"width\": 0.5}}, \"type\": \"barpolar\"}], \"carpet\": [{\"aaxis\": {\"endlinecolor\": \"#2a3f5f\", \"gridcolor\": \"white\", \"linecolor\": \"white\", \"minorgridcolor\": \"white\", \"startlinecolor\": \"#2a3f5f\"}, \"baxis\": {\"endlinecolor\": \"#2a3f5f\", \"gridcolor\": \"white\", \"linecolor\": \"white\", \"minorgridcolor\": \"white\", \"startlinecolor\": \"#2a3f5f\"}, \"type\": \"carpet\"}], \"choropleth\": [{\"colorbar\": {\"outlinewidth\": 0, \"ticks\": \"\"}, \"type\": \"choropleth\"}], \"contour\": [{\"colorbar\": {\"outlinewidth\": 0, \"ticks\": \"\"}, \"colorscale\": [[0.0, \"#0d0887\"], [0.1111111111111111, \"#46039f\"], [0.2222222222222222, \"#7201a8\"], [0.3333333333333333, \"#9c179e\"], [0.4444444444444444, \"#bd3786\"], [0.5555555555555556, \"#d8576b\"], [0.6666666666666666, \"#ed7953\"], [0.7777777777777778, \"#fb9f3a\"], [0.8888888888888888, \"#fdca26\"], [1.0, \"#f0f921\"]], \"type\": \"contour\"}], \"contourcarpet\": [{\"colorbar\": {\"outlinewidth\": 0, \"ticks\": \"\"}, \"type\": \"contourcarpet\"}], \"heatmap\": [{\"colorbar\": {\"outlinewidth\": 0, \"ticks\": \"\"}, \"colorscale\": [[0.0, \"#0d0887\"], [0.1111111111111111, \"#46039f\"], [0.2222222222222222, \"#7201a8\"], [0.3333333333333333, \"#9c179e\"], [0.4444444444444444, \"#bd3786\"], [0.5555555555555556, \"#d8576b\"], [0.6666666666666666, \"#ed7953\"], [0.7777777777777778, \"#fb9f3a\"], [0.8888888888888888, \"#fdca26\"], [1.0, \"#f0f921\"]], \"type\": \"heatmap\"}], \"heatmapgl\": [{\"colorbar\": {\"outlinewidth\": 0, \"ticks\": \"\"}, \"colorscale\": [[0.0, \"#0d0887\"], [0.1111111111111111, \"#46039f\"], [0.2222222222222222, \"#7201a8\"], [0.3333333333333333, \"#9c179e\"], [0.4444444444444444, \"#bd3786\"], [0.5555555555555556, \"#d8576b\"], [0.6666666666666666, \"#ed7953\"], [0.7777777777777778, \"#fb9f3a\"], [0.8888888888888888, \"#fdca26\"], [1.0, \"#f0f921\"]], \"type\": \"heatmapgl\"}], \"histogram\": [{\"marker\": {\"colorbar\": {\"outlinewidth\": 0, \"ticks\": \"\"}}, \"type\": \"histogram\"}], \"histogram2d\": [{\"colorbar\": {\"outlinewidth\": 0, \"ticks\": \"\"}, \"colorscale\": [[0.0, \"#0d0887\"], [0.1111111111111111, \"#46039f\"], [0.2222222222222222, \"#7201a8\"], [0.3333333333333333, \"#9c179e\"], [0.4444444444444444, \"#bd3786\"], [0.5555555555555556, \"#d8576b\"], [0.6666666666666666, \"#ed7953\"], [0.7777777777777778, \"#fb9f3a\"], [0.8888888888888888, \"#fdca26\"], [1.0, \"#f0f921\"]], \"type\": \"histogram2d\"}], \"histogram2dcontour\": [{\"colorbar\": {\"outlinewidth\": 0, \"ticks\": \"\"}, \"colorscale\": [[0.0, \"#0d0887\"], [0.1111111111111111, \"#46039f\"], [0.2222222222222222, \"#7201a8\"], [0.3333333333333333, \"#9c179e\"], [0.4444444444444444, \"#bd3786\"], [0.5555555555555556, \"#d8576b\"], [0.6666666666666666, \"#ed7953\"], [0.7777777777777778, \"#fb9f3a\"], [0.8888888888888888, \"#fdca26\"], [1.0, \"#f0f921\"]], \"type\": \"histogram2dcontour\"}], \"mesh3d\": [{\"colorbar\": {\"outlinewidth\": 0, \"ticks\": \"\"}, \"type\": \"mesh3d\"}], \"parcoords\": [{\"line\": {\"colorbar\": {\"outlinewidth\": 0, \"ticks\": \"\"}}, \"type\": \"parcoords\"}], \"pie\": [{\"automargin\": true, \"type\": \"pie\"}], \"scatter\": [{\"marker\": {\"colorbar\": {\"outlinewidth\": 0, \"ticks\": \"\"}}, \"type\": \"scatter\"}], \"scatter3d\": [{\"line\": {\"colorbar\": {\"outlinewidth\": 0, \"ticks\": \"\"}}, \"marker\": {\"colorbar\": {\"outlinewidth\": 0, \"ticks\": \"\"}}, \"type\": \"scatter3d\"}], \"scattercarpet\": [{\"marker\": {\"colorbar\": {\"outlinewidth\": 0, \"ticks\": \"\"}}, \"type\": \"scattercarpet\"}], \"scattergeo\": [{\"marker\": {\"colorbar\": {\"outlinewidth\": 0, \"ticks\": \"\"}}, \"type\": \"scattergeo\"}], \"scattergl\": [{\"marker\": {\"colorbar\": {\"outlinewidth\": 0, \"ticks\": \"\"}}, \"type\": \"scattergl\"}], \"scattermapbox\": [{\"marker\": {\"colorbar\": {\"outlinewidth\": 0, \"ticks\": \"\"}}, \"type\": \"scattermapbox\"}], \"scatterpolar\": [{\"marker\": {\"colorbar\": {\"outlinewidth\": 0, \"ticks\": \"\"}}, \"type\": \"scatterpolar\"}], \"scatterpolargl\": [{\"marker\": {\"colorbar\": {\"outlinewidth\": 0, \"ticks\": \"\"}}, \"type\": \"scatterpolargl\"}], \"scatterternary\": [{\"marker\": {\"colorbar\": {\"outlinewidth\": 0, \"ticks\": \"\"}}, \"type\": \"scatterternary\"}], \"surface\": [{\"colorbar\": {\"outlinewidth\": 0, \"ticks\": \"\"}, \"colorscale\": [[0.0, \"#0d0887\"], [0.1111111111111111, \"#46039f\"], [0.2222222222222222, \"#7201a8\"], [0.3333333333333333, \"#9c179e\"], [0.4444444444444444, \"#bd3786\"], [0.5555555555555556, \"#d8576b\"], [0.6666666666666666, \"#ed7953\"], [0.7777777777777778, \"#fb9f3a\"], [0.8888888888888888, \"#fdca26\"], [1.0, \"#f0f921\"]], \"type\": \"surface\"}], \"table\": [{\"cells\": {\"fill\": {\"color\": \"#EBF0F8\"}, \"line\": {\"color\": \"white\"}}, \"header\": {\"fill\": {\"color\": \"#C8D4E3\"}, \"line\": {\"color\": \"white\"}}, \"type\": \"table\"}]}, \"layout\": {\"annotationdefaults\": {\"arrowcolor\": \"#2a3f5f\", \"arrowhead\": 0, \"arrowwidth\": 1}, \"autotypenumbers\": \"strict\", \"coloraxis\": {\"colorbar\": {\"outlinewidth\": 0, \"ticks\": \"\"}}, \"colorscale\": {\"diverging\": [[0, \"#8e0152\"], [0.1, \"#c51b7d\"], [0.2, \"#de77ae\"], [0.3, \"#f1b6da\"], [0.4, \"#fde0ef\"], [0.5, \"#f7f7f7\"], [0.6, \"#e6f5d0\"], [0.7, \"#b8e186\"], [0.8, \"#7fbc41\"], [0.9, \"#4d9221\"], [1, \"#276419\"]], \"sequential\": [[0.0, \"#0d0887\"], [0.1111111111111111, \"#46039f\"], [0.2222222222222222, \"#7201a8\"], [0.3333333333333333, \"#9c179e\"], [0.4444444444444444, \"#bd3786\"], [0.5555555555555556, \"#d8576b\"], [0.6666666666666666, \"#ed7953\"], [0.7777777777777778, \"#fb9f3a\"], [0.8888888888888888, \"#fdca26\"], [1.0, \"#f0f921\"]], \"sequentialminus\": [[0.0, \"#0d0887\"], [0.1111111111111111, \"#46039f\"], [0.2222222222222222, \"#7201a8\"], [0.3333333333333333, \"#9c179e\"], [0.4444444444444444, \"#bd3786\"], [0.5555555555555556, \"#d8576b\"], [0.6666666666666666, \"#ed7953\"], [0.7777777777777778, \"#fb9f3a\"], [0.8888888888888888, \"#fdca26\"], [1.0, \"#f0f921\"]]}, \"colorway\": [\"#636efa\", \"#EF553B\", \"#00cc96\", \"#ab63fa\", \"#FFA15A\", \"#19d3f3\", \"#FF6692\", \"#B6E880\", \"#FF97FF\", \"#FECB52\"], \"font\": {\"color\": \"#2a3f5f\"}, \"geo\": {\"bgcolor\": \"white\", \"lakecolor\": \"white\", \"landcolor\": \"#E5ECF6\", \"showlakes\": true, \"showland\": true, \"subunitcolor\": \"white\"}, \"hoverlabel\": {\"align\": \"left\"}, \"hovermode\": \"closest\", \"mapbox\": {\"style\": \"light\"}, \"paper_bgcolor\": \"white\", \"plot_bgcolor\": \"#E5ECF6\", \"polar\": {\"angularaxis\": {\"gridcolor\": \"white\", \"linecolor\": \"white\", \"ticks\": \"\"}, \"bgcolor\": \"#E5ECF6\", \"radialaxis\": {\"gridcolor\": \"white\", \"linecolor\": \"white\", \"ticks\": \"\"}}, \"scene\": {\"xaxis\": {\"backgroundcolor\": \"#E5ECF6\", \"gridcolor\": \"white\", \"gridwidth\": 2, \"linecolor\": \"white\", \"showbackground\": true, \"ticks\": \"\", \"zerolinecolor\": \"white\"}, \"yaxis\": {\"backgroundcolor\": \"#E5ECF6\", \"gridcolor\": \"white\", \"gridwidth\": 2, \"linecolor\": \"white\", \"showbackground\": true, \"ticks\": \"\", \"zerolinecolor\": \"white\"}, \"zaxis\": {\"backgroundcolor\": \"#E5ECF6\", \"gridcolor\": \"white\", \"gridwidth\": 2, \"linecolor\": \"white\", \"showbackground\": true, \"ticks\": \"\", \"zerolinecolor\": \"white\"}}, \"shapedefaults\": {\"line\": {\"color\": \"#2a3f5f\"}}, \"ternary\": {\"aaxis\": {\"gridcolor\": \"white\", \"linecolor\": \"white\", \"ticks\": \"\"}, \"baxis\": {\"gridcolor\": \"white\", \"linecolor\": \"white\", \"ticks\": \"\"}, \"bgcolor\": \"#E5ECF6\", \"caxis\": {\"gridcolor\": \"white\", \"linecolor\": \"white\", \"ticks\": \"\"}}, \"title\": {\"x\": 0.05}, \"xaxis\": {\"automargin\": true, \"gridcolor\": \"white\", \"linecolor\": \"white\", \"ticks\": \"\", \"title\": {\"standoff\": 15}, \"zerolinecolor\": \"white\", \"zerolinewidth\": 2}, \"yaxis\": {\"automargin\": true, \"gridcolor\": \"white\", \"linecolor\": \"white\", \"ticks\": \"\", \"title\": {\"standoff\": 15}, \"zerolinecolor\": \"white\", \"zerolinewidth\": 2}}}, \"xaxis\": {\"anchor\": \"y\", \"domain\": [0.0, 1.0], \"title\": {\"text\": \"dateTimePointer\"}}, \"yaxis\": {\"anchor\": \"x\", \"domain\": [0.0, 1.0], \"title\": {\"text\": \"averageOutput\"}}},                        {\"responsive\": true}                    ).then(function(){\n                            \nvar gd = document.getElementById('69894d7d-4921-4cec-946a-3f8fdd73e8a2');\nvar x = new MutationObserver(function (mutations, observer) {{\n        var display = window.getComputedStyle(gd).display;\n        if (!display || display === 'none') {{\n            console.log([gd, 'removed!']);\n            Plotly.purge(gd);\n            observer.disconnect();\n        }}\n}});\n\n// Listen for the removal of the full notebook cells\nvar notebookContainer = gd.closest('#notebook-container');\nif (notebookContainer) {{\n    x.observe(notebookContainer, {childList: true});\n}}\n\n// Listen for the clearing of the current output cell\nvar outputEl = gd.closest('.output');\nif (outputEl) {{\n    x.observe(outputEl, {childList: true});\n}}\n\n                        })                };                });            </script>        </div>"
     },
     "metadata": {},
     "output_type": "display_data"
    }
   ],
   "source": [
    "fig2 = px.scatter(sampleClassDF, x=\"dateTimePointer\", y='averageOutput',\n",
    "                  trendline=\"lowess\",color=\"duration\")\n",
    "fig2.show()"
   ],
   "metadata": {
    "collapsed": false,
    "pycharm": {
     "name": "#%%\n"
    }
   }
  },
  {
   "cell_type": "markdown",
   "source": [
    "The graph above kind of works. But I see two problems:\n",
    "1. sometimes there are outliers - the 30 min class these shouldn't be graphed because clearly they are classes that I didn't really do. but I don't want to remove them without manually looking at them because there aren't that many instances. the best thing is just to manually delete the class on peloton account\n",
    "2. average output might not be that helpful. will probably want to look at total output or group all classes from a day together"
   ],
   "metadata": {
    "collapsed": false,
    "pycharm": {
     "name": "#%% md\n"
    }
   }
  },
  {
   "cell_type": "code",
   "execution_count": 327,
   "outputs": [
    {
     "name": "stderr",
     "output_type": "stream",
     "text": [
      "<ipython-input-327-1dcaae7f6c25>:3: FutureWarning:\n",
      "\n",
      "Indexing with multiple keys (implicitly converted to a tuple of keys) will be deprecated, use a list instead.\n",
      "\n"
     ]
    },
    {
     "data": {
      "application/vnd.plotly.v1+json": {
       "config": {
        "plotlyServerURL": "https://plot.ly"
       },
       "data": [
        {
         "hovertemplate": "dayStamp=%{x}<br>outputPerMin=%{y}<extra></extra>",
         "legendgroup": "",
         "marker": {
          "color": "#636efa",
          "symbol": "circle"
         },
         "mode": "markers",
         "name": "",
         "orientation": "v",
         "showlegend": false,
         "type": "scatter",
         "x": [
          "201019",
          "201020",
          "201021",
          "201023",
          "201025",
          "201027",
          "201029",
          "201101",
          "201103",
          "201109",
          "201110",
          "201111",
          "201112",
          "201114",
          "201116",
          "201118",
          "201119",
          "201122",
          "201123",
          "201124",
          "201126",
          "201129",
          "201130",
          "201201",
          "201203",
          "201204",
          "201205",
          "201206",
          "201208",
          "201209",
          "201213",
          "201215",
          "201217",
          "201218",
          "201219",
          "201221",
          "201222",
          "201223",
          "201226",
          "201227",
          "201228",
          "201231",
          "210101",
          "210102",
          "210104",
          "210105",
          "210106",
          "210109",
          "210110",
          "210112",
          "210113",
          "210114",
          "210115",
          "210117",
          "210119",
          "210120",
          "210121",
          "210123",
          "210124",
          "210125",
          "210127",
          "210128",
          "210129",
          "210130",
          "210131",
          "210202",
          "210204",
          "210205",
          "210206",
          "210208",
          "210210",
          "210212",
          "210214",
          "210216",
          "210217",
          "210218",
          "210220",
          "210222",
          "210223",
          "210226",
          "210228",
          "210301",
          "210302",
          "210304",
          "210310",
          "210311",
          "210314",
          "210316",
          "210319",
          "210321",
          "210323",
          "210325",
          "210327",
          "210328",
          "210402",
          "210406",
          "210409",
          "210411",
          "210412",
          "210414",
          "210415",
          "210419",
          "210421",
          "210423",
          "210425",
          "210427",
          "210429",
          "210505",
          "210509",
          "210510",
          "210515",
          "210516",
          "210518",
          "210529",
          "210602",
          "210603",
          "210608",
          "210610",
          "210614",
          "210620",
          "210624",
          "210629",
          "210707",
          "210727",
          "210730",
          "210806",
          "210808",
          "210811",
          "210816",
          "210819",
          "210901",
          "210908",
          "210916",
          "210921",
          "210924",
          "210929",
          "211006",
          "211012",
          "211015",
          "211024",
          "211029",
          "211102",
          "211106",
          "211109",
          "211110",
          "211111",
          "211114",
          "211115",
          "211117",
          "211118",
          "211119",
          "211122",
          "211124",
          "211129",
          "211202",
          "211204",
          "211205",
          "211206",
          "211208",
          "211213",
          "211214",
          "211217",
          "211219",
          "211221",
          "211222",
          "211227",
          "211229"
         ],
         "xaxis": "x",
         "y": [
          8.2,
          9.633333333333333,
          8.7,
          10.1,
          10.7,
          9.6,
          10.222222222222221,
          9.6,
          11.066666666666666,
          10.5,
          12.11111111111111,
          10.033333333333333,
          10.7,
          9.4,
          10.125,
          10.7,
          10.9,
          11.2,
          11.311111111111112,
          10.85,
          11.577777777777778,
          10.0,
          10.98,
          10.4,
          10.96,
          12.266666666666667,
          12.844444444444445,
          10.0,
          10.8,
          11.222222222222221,
          11.32,
          9.433333333333334,
          10.82,
          9.7,
          12.71111111111111,
          10.6,
          13.0,
          10.6,
          10.84,
          12.133333333333333,
          11.866666666666667,
          12.216666666666667,
          13.033333333333333,
          12.022222222222222,
          11.28888888888889,
          11.1,
          11.355555555555556,
          13.022222222222222,
          12.275,
          11.444444444444445,
          13.133333333333333,
          12.8,
          12.422222222222222,
          15.5,
          11.555555555555555,
          13.377777777777778,
          12.333333333333334,
          11.3,
          11.8,
          12.5,
          12.666666666666666,
          12.3,
          12.05,
          11.45,
          11.683333333333334,
          11.6,
          11.166666666666666,
          11.133333333333333,
          12.6,
          12.577777777777778,
          11.766666666666667,
          12.466666666666667,
          11.933333333333334,
          6.36,
          12.311111111111112,
          11.866666666666667,
          12.22,
          11.0,
          11.6,
          11.583333333333334,
          12.044444444444444,
          11.15,
          12.066666666666666,
          12.933333333333334,
          12.875,
          11.3,
          11.377777777777778,
          11.266666666666667,
          10.666666666666666,
          11.333333333333334,
          13.15,
          12.6,
          11.616666666666667,
          10.933333333333334,
          11.28,
          8.488888888888889,
          12.766666666666667,
          11.8,
          11.833333333333334,
          12.2,
          11.76,
          11.8,
          12.12,
          9.866666666666667,
          11.416666666666666,
          10.222222222222221,
          11.866666666666667,
          11.555555555555555,
          11.933333333333334,
          11.155555555555555,
          12.0,
          11.044444444444444,
          10.11111111111111,
          10.533333333333333,
          2.7333333333333334,
          11.244444444444444,
          11.183333333333334,
          11.18,
          10.777777777777779,
          10.28,
          10.755555555555556,
          5.733333333333333,
          10.575,
          11.18,
          11.283333333333333,
          11.322222222222223,
          11.71111111111111,
          11.85,
          11.866666666666667,
          12.755555555555556,
          11.8,
          12.2,
          10.8,
          11.083333333333334,
          11.88888888888889,
          13.0,
          12.155555555555555,
          13.0,
          11.483333333333333,
          12.42,
          11.666666666666666,
          12.325,
          11.333333333333334,
          11.466666666666667,
          11.08,
          11.866666666666667,
          12.644444444444444,
          11.569230769230769,
          10.5,
          12.5,
          12.633333333333333,
          12.755555555555556,
          11.233333333333333,
          12.266666666666667,
          8.52,
          12.813333333333333,
          12.155555555555555,
          11.971428571428572,
          12.173333333333334,
          13.8,
          11.8,
          11.9,
          0.3,
          12.033333333333333,
          12.95,
          11.11111111111111,
          11.533333333333333
         ],
         "yaxis": "y"
        },
        {
         "hovertemplate": "<b>LOWESS trendline</b><br><br>dayStamp=%{x}<br>outputPerMin=%{y} <b>(trend)</b><extra></extra>",
         "legendgroup": "",
         "marker": {
          "color": "#636efa",
          "symbol": "circle"
         },
         "mode": "lines",
         "name": "",
         "showlegend": false,
         "type": "scatter",
         "x": [
          "201019",
          "201020",
          "201021",
          "201023",
          "201025",
          "201027",
          "201029",
          "201101",
          "201103",
          "201109",
          "201110",
          "201111",
          "201112",
          "201114",
          "201116",
          "201118",
          "201119",
          "201122",
          "201123",
          "201124",
          "201126",
          "201129",
          "201130",
          "201201",
          "201203",
          "201204",
          "201205",
          "201206",
          "201208",
          "201209",
          "201213",
          "201215",
          "201217",
          "201218",
          "201219",
          "201221",
          "201222",
          "201223",
          "201226",
          "201227",
          "201228",
          "201231",
          "210101",
          "210102",
          "210104",
          "210105",
          "210106",
          "210109",
          "210110",
          "210112",
          "210113",
          "210114",
          "210115",
          "210117",
          "210119",
          "210120",
          "210121",
          "210123",
          "210124",
          "210125",
          "210127",
          "210128",
          "210129",
          "210130",
          "210131",
          "210202",
          "210204",
          "210205",
          "210206",
          "210208",
          "210210",
          "210212",
          "210214",
          "210216",
          "210217",
          "210218",
          "210220",
          "210222",
          "210223",
          "210226",
          "210228",
          "210301",
          "210302",
          "210304",
          "210310",
          "210311",
          "210314",
          "210316",
          "210319",
          "210321",
          "210323",
          "210325",
          "210327",
          "210328",
          "210402",
          "210406",
          "210409",
          "210411",
          "210412",
          "210414",
          "210415",
          "210419",
          "210421",
          "210423",
          "210425",
          "210427",
          "210429",
          "210505",
          "210509",
          "210510",
          "210515",
          "210516",
          "210518",
          "210529",
          "210602",
          "210603",
          "210608",
          "210610",
          "210614",
          "210620",
          "210624",
          "210629",
          "210707",
          "210727",
          "210730",
          "210806",
          "210808",
          "210811",
          "210816",
          "210819",
          "210901",
          "210908",
          "210916",
          "210921",
          "210924",
          "210929",
          "211006",
          "211012",
          "211015",
          "211024",
          "211029",
          "211102",
          "211106",
          "211109",
          "211110",
          "211111",
          "211114",
          "211115",
          "211117",
          "211118",
          "211119",
          "211122",
          "211124",
          "211129",
          "211202",
          "211204",
          "211205",
          "211206",
          "211208",
          "211213",
          "211214",
          "211217",
          "211219",
          "211221",
          "211222",
          "211227",
          "211229"
         ],
         "xaxis": "x",
         "y": [
          10.6783815434821,
          10.678737302316666,
          10.679092940805662,
          10.679803856892967,
          10.680514292008485,
          10.68122424642048,
          10.6819337203972,
          10.707157208588022,
          10.70784910609612,
          10.709921981974654,
          10.710267050908113,
          10.710612002685167,
          10.710956837344176,
          10.711646155446044,
          10.712335005502846,
          10.713023387812305,
          10.713367403656619,
          10.714398750397612,
          10.714742299173125,
          10.715085731275934,
          10.715772245606038,
          10.716801142953152,
          10.717143875770844,
          10.741182460294915,
          10.741851229830086,
          10.742185443857602,
          10.742519544105123,
          10.742853530608443,
          10.743521162518597,
          10.743854807994381,
          10.745188254161427,
          10.745854296278658,
          10.746519884774692,
          10.746852509002078,
          10.747185019923908,
          10.747849702002235,
          10.748181873226564,
          10.74851393128553,
          10.749509426813567,
          10.74984103255384,
          10.750172525297073,
          10.751166325873264,
          12.05973815867625,
          12.058258414930334,
          12.055301254972399,
          12.053823843799703,
          12.052347215915162,
          12.047922075327135,
          12.046448625193868,
          12.043504145449392,
          12.042033123456447,
          12.04056291877643,
          12.039093534923289,
          12.036157240596756,
          12.033224260307609,
          12.031759019044197,
          12.03029461389138,
          12.027368319841901,
          12.02590643446809,
          12.024445393104324,
          12.02152585204467,
          12.020067356675431,
          12.01860971368018,
          12.0171529244553,
          12.015696990336545,
          11.91465417957745,
          11.91187892131593,
          11.910492852889124,
          11.90910782986642,
          11.906340936740094,
          11.903578273199406,
          11.900819867433452,
          11.898065747145797,
          11.895315937953232,
          11.893942657832532,
          11.892570464836833,
          11.889829351632278,
          11.88709262078451,
          11.885725905459918,
          11.88163239841379,
          11.878908961726557,
          11.78283469149229,
          11.781567670836955,
          11.779037965498654,
          11.771483897149597,
          11.770230045796898,
          11.766477424950883,
          11.763983165551231,
          11.760253102761428,
          11.75777400636804,
          11.755301055141864,
          11.752834299959444,
          11.750373786969709,
          11.74914588432186,
          11.663095931147957,
          11.65874475130512,
          11.655503830199475,
          11.653354050150945,
          11.652282435609871,
          11.650145796754032,
          11.64908078756466,
          11.644842979351086,
          11.642737504440337,
          11.640641049495308,
          11.638553661405517,
          11.636475393986505,
          11.634406307013137,
          11.563271247435699,
          11.559968485047179,
          11.559150189398443,
          11.555103335005711,
          11.554302923615499,
          11.552711094336663,
          11.544172497312378,
          11.49800420975953,
          11.4975281594969,
          11.495224924578677,
          11.49433841324559,
          11.495117308109908,
          11.501831687493635,
          11.506992425267455,
          11.513591728394704,
          11.594418993971008,
          11.61509717080661,
          11.618029048637917,
          11.684049195933852,
          11.685694629608458,
          11.688162083762204,
          11.692274296970314,
          11.694742496936954,
          11.763782057524224,
          11.769882236620845,
          11.776899843967035,
          11.781310858323247,
          11.783966754548846,
          11.788408852083329,
          11.85925037398808,
          11.86495480319865,
          11.867816443740782,
          11.876438247794548,
          11.881251537823562,
          11.953206283824565,
          11.957229217998453,
          11.960251201824258,
          11.961259429168113,
          11.962268103497252,
          11.965296801671643,
          11.966307257568443,
          11.96832949895648,
          11.969341282981107,
          11.970353509006017,
          11.97339283364323,
          11.975421244997497,
          11.98049987778869,
          12.055795593016345,
          12.057886465269636,
          12.058932421027452,
          12.059978721155632,
          12.062072347210623,
          12.067312310476716,
          12.06836129904236,
          12.07151021404804,
          12.073611089398932,
          12.075713221139146,
          12.076764752312485,
          12.08202695093369,
          12.08413389299024
         ],
         "yaxis": "y"
        }
       ],
       "layout": {
        "legend": {
         "tracegroupgap": 0
        },
        "margin": {
         "t": 60
        },
        "template": {
         "data": {
          "bar": [
           {
            "error_x": {
             "color": "#2a3f5f"
            },
            "error_y": {
             "color": "#2a3f5f"
            },
            "marker": {
             "line": {
              "color": "#E5ECF6",
              "width": 0.5
             }
            },
            "type": "bar"
           }
          ],
          "barpolar": [
           {
            "marker": {
             "line": {
              "color": "#E5ECF6",
              "width": 0.5
             }
            },
            "type": "barpolar"
           }
          ],
          "carpet": [
           {
            "aaxis": {
             "endlinecolor": "#2a3f5f",
             "gridcolor": "white",
             "linecolor": "white",
             "minorgridcolor": "white",
             "startlinecolor": "#2a3f5f"
            },
            "baxis": {
             "endlinecolor": "#2a3f5f",
             "gridcolor": "white",
             "linecolor": "white",
             "minorgridcolor": "white",
             "startlinecolor": "#2a3f5f"
            },
            "type": "carpet"
           }
          ],
          "choropleth": [
           {
            "colorbar": {
             "outlinewidth": 0,
             "ticks": ""
            },
            "type": "choropleth"
           }
          ],
          "contour": [
           {
            "colorbar": {
             "outlinewidth": 0,
             "ticks": ""
            },
            "colorscale": [
             [
              0.0,
              "#0d0887"
             ],
             [
              0.1111111111111111,
              "#46039f"
             ],
             [
              0.2222222222222222,
              "#7201a8"
             ],
             [
              0.3333333333333333,
              "#9c179e"
             ],
             [
              0.4444444444444444,
              "#bd3786"
             ],
             [
              0.5555555555555556,
              "#d8576b"
             ],
             [
              0.6666666666666666,
              "#ed7953"
             ],
             [
              0.7777777777777778,
              "#fb9f3a"
             ],
             [
              0.8888888888888888,
              "#fdca26"
             ],
             [
              1.0,
              "#f0f921"
             ]
            ],
            "type": "contour"
           }
          ],
          "contourcarpet": [
           {
            "colorbar": {
             "outlinewidth": 0,
             "ticks": ""
            },
            "type": "contourcarpet"
           }
          ],
          "heatmap": [
           {
            "colorbar": {
             "outlinewidth": 0,
             "ticks": ""
            },
            "colorscale": [
             [
              0.0,
              "#0d0887"
             ],
             [
              0.1111111111111111,
              "#46039f"
             ],
             [
              0.2222222222222222,
              "#7201a8"
             ],
             [
              0.3333333333333333,
              "#9c179e"
             ],
             [
              0.4444444444444444,
              "#bd3786"
             ],
             [
              0.5555555555555556,
              "#d8576b"
             ],
             [
              0.6666666666666666,
              "#ed7953"
             ],
             [
              0.7777777777777778,
              "#fb9f3a"
             ],
             [
              0.8888888888888888,
              "#fdca26"
             ],
             [
              1.0,
              "#f0f921"
             ]
            ],
            "type": "heatmap"
           }
          ],
          "heatmapgl": [
           {
            "colorbar": {
             "outlinewidth": 0,
             "ticks": ""
            },
            "colorscale": [
             [
              0.0,
              "#0d0887"
             ],
             [
              0.1111111111111111,
              "#46039f"
             ],
             [
              0.2222222222222222,
              "#7201a8"
             ],
             [
              0.3333333333333333,
              "#9c179e"
             ],
             [
              0.4444444444444444,
              "#bd3786"
             ],
             [
              0.5555555555555556,
              "#d8576b"
             ],
             [
              0.6666666666666666,
              "#ed7953"
             ],
             [
              0.7777777777777778,
              "#fb9f3a"
             ],
             [
              0.8888888888888888,
              "#fdca26"
             ],
             [
              1.0,
              "#f0f921"
             ]
            ],
            "type": "heatmapgl"
           }
          ],
          "histogram": [
           {
            "marker": {
             "colorbar": {
              "outlinewidth": 0,
              "ticks": ""
             }
            },
            "type": "histogram"
           }
          ],
          "histogram2d": [
           {
            "colorbar": {
             "outlinewidth": 0,
             "ticks": ""
            },
            "colorscale": [
             [
              0.0,
              "#0d0887"
             ],
             [
              0.1111111111111111,
              "#46039f"
             ],
             [
              0.2222222222222222,
              "#7201a8"
             ],
             [
              0.3333333333333333,
              "#9c179e"
             ],
             [
              0.4444444444444444,
              "#bd3786"
             ],
             [
              0.5555555555555556,
              "#d8576b"
             ],
             [
              0.6666666666666666,
              "#ed7953"
             ],
             [
              0.7777777777777778,
              "#fb9f3a"
             ],
             [
              0.8888888888888888,
              "#fdca26"
             ],
             [
              1.0,
              "#f0f921"
             ]
            ],
            "type": "histogram2d"
           }
          ],
          "histogram2dcontour": [
           {
            "colorbar": {
             "outlinewidth": 0,
             "ticks": ""
            },
            "colorscale": [
             [
              0.0,
              "#0d0887"
             ],
             [
              0.1111111111111111,
              "#46039f"
             ],
             [
              0.2222222222222222,
              "#7201a8"
             ],
             [
              0.3333333333333333,
              "#9c179e"
             ],
             [
              0.4444444444444444,
              "#bd3786"
             ],
             [
              0.5555555555555556,
              "#d8576b"
             ],
             [
              0.6666666666666666,
              "#ed7953"
             ],
             [
              0.7777777777777778,
              "#fb9f3a"
             ],
             [
              0.8888888888888888,
              "#fdca26"
             ],
             [
              1.0,
              "#f0f921"
             ]
            ],
            "type": "histogram2dcontour"
           }
          ],
          "mesh3d": [
           {
            "colorbar": {
             "outlinewidth": 0,
             "ticks": ""
            },
            "type": "mesh3d"
           }
          ],
          "parcoords": [
           {
            "line": {
             "colorbar": {
              "outlinewidth": 0,
              "ticks": ""
             }
            },
            "type": "parcoords"
           }
          ],
          "pie": [
           {
            "automargin": true,
            "type": "pie"
           }
          ],
          "scatter": [
           {
            "marker": {
             "colorbar": {
              "outlinewidth": 0,
              "ticks": ""
             }
            },
            "type": "scatter"
           }
          ],
          "scatter3d": [
           {
            "line": {
             "colorbar": {
              "outlinewidth": 0,
              "ticks": ""
             }
            },
            "marker": {
             "colorbar": {
              "outlinewidth": 0,
              "ticks": ""
             }
            },
            "type": "scatter3d"
           }
          ],
          "scattercarpet": [
           {
            "marker": {
             "colorbar": {
              "outlinewidth": 0,
              "ticks": ""
             }
            },
            "type": "scattercarpet"
           }
          ],
          "scattergeo": [
           {
            "marker": {
             "colorbar": {
              "outlinewidth": 0,
              "ticks": ""
             }
            },
            "type": "scattergeo"
           }
          ],
          "scattergl": [
           {
            "marker": {
             "colorbar": {
              "outlinewidth": 0,
              "ticks": ""
             }
            },
            "type": "scattergl"
           }
          ],
          "scattermapbox": [
           {
            "marker": {
             "colorbar": {
              "outlinewidth": 0,
              "ticks": ""
             }
            },
            "type": "scattermapbox"
           }
          ],
          "scatterpolar": [
           {
            "marker": {
             "colorbar": {
              "outlinewidth": 0,
              "ticks": ""
             }
            },
            "type": "scatterpolar"
           }
          ],
          "scatterpolargl": [
           {
            "marker": {
             "colorbar": {
              "outlinewidth": 0,
              "ticks": ""
             }
            },
            "type": "scatterpolargl"
           }
          ],
          "scatterternary": [
           {
            "marker": {
             "colorbar": {
              "outlinewidth": 0,
              "ticks": ""
             }
            },
            "type": "scatterternary"
           }
          ],
          "surface": [
           {
            "colorbar": {
             "outlinewidth": 0,
             "ticks": ""
            },
            "colorscale": [
             [
              0.0,
              "#0d0887"
             ],
             [
              0.1111111111111111,
              "#46039f"
             ],
             [
              0.2222222222222222,
              "#7201a8"
             ],
             [
              0.3333333333333333,
              "#9c179e"
             ],
             [
              0.4444444444444444,
              "#bd3786"
             ],
             [
              0.5555555555555556,
              "#d8576b"
             ],
             [
              0.6666666666666666,
              "#ed7953"
             ],
             [
              0.7777777777777778,
              "#fb9f3a"
             ],
             [
              0.8888888888888888,
              "#fdca26"
             ],
             [
              1.0,
              "#f0f921"
             ]
            ],
            "type": "surface"
           }
          ],
          "table": [
           {
            "cells": {
             "fill": {
              "color": "#EBF0F8"
             },
             "line": {
              "color": "white"
             }
            },
            "header": {
             "fill": {
              "color": "#C8D4E3"
             },
             "line": {
              "color": "white"
             }
            },
            "type": "table"
           }
          ]
         },
         "layout": {
          "annotationdefaults": {
           "arrowcolor": "#2a3f5f",
           "arrowhead": 0,
           "arrowwidth": 1
          },
          "autotypenumbers": "strict",
          "coloraxis": {
           "colorbar": {
            "outlinewidth": 0,
            "ticks": ""
           }
          },
          "colorscale": {
           "diverging": [
            [
             0,
             "#8e0152"
            ],
            [
             0.1,
             "#c51b7d"
            ],
            [
             0.2,
             "#de77ae"
            ],
            [
             0.3,
             "#f1b6da"
            ],
            [
             0.4,
             "#fde0ef"
            ],
            [
             0.5,
             "#f7f7f7"
            ],
            [
             0.6,
             "#e6f5d0"
            ],
            [
             0.7,
             "#b8e186"
            ],
            [
             0.8,
             "#7fbc41"
            ],
            [
             0.9,
             "#4d9221"
            ],
            [
             1,
             "#276419"
            ]
           ],
           "sequential": [
            [
             0.0,
             "#0d0887"
            ],
            [
             0.1111111111111111,
             "#46039f"
            ],
            [
             0.2222222222222222,
             "#7201a8"
            ],
            [
             0.3333333333333333,
             "#9c179e"
            ],
            [
             0.4444444444444444,
             "#bd3786"
            ],
            [
             0.5555555555555556,
             "#d8576b"
            ],
            [
             0.6666666666666666,
             "#ed7953"
            ],
            [
             0.7777777777777778,
             "#fb9f3a"
            ],
            [
             0.8888888888888888,
             "#fdca26"
            ],
            [
             1.0,
             "#f0f921"
            ]
           ],
           "sequentialminus": [
            [
             0.0,
             "#0d0887"
            ],
            [
             0.1111111111111111,
             "#46039f"
            ],
            [
             0.2222222222222222,
             "#7201a8"
            ],
            [
             0.3333333333333333,
             "#9c179e"
            ],
            [
             0.4444444444444444,
             "#bd3786"
            ],
            [
             0.5555555555555556,
             "#d8576b"
            ],
            [
             0.6666666666666666,
             "#ed7953"
            ],
            [
             0.7777777777777778,
             "#fb9f3a"
            ],
            [
             0.8888888888888888,
             "#fdca26"
            ],
            [
             1.0,
             "#f0f921"
            ]
           ]
          },
          "colorway": [
           "#636efa",
           "#EF553B",
           "#00cc96",
           "#ab63fa",
           "#FFA15A",
           "#19d3f3",
           "#FF6692",
           "#B6E880",
           "#FF97FF",
           "#FECB52"
          ],
          "font": {
           "color": "#2a3f5f"
          },
          "geo": {
           "bgcolor": "white",
           "lakecolor": "white",
           "landcolor": "#E5ECF6",
           "showlakes": true,
           "showland": true,
           "subunitcolor": "white"
          },
          "hoverlabel": {
           "align": "left"
          },
          "hovermode": "closest",
          "mapbox": {
           "style": "light"
          },
          "paper_bgcolor": "white",
          "plot_bgcolor": "#E5ECF6",
          "polar": {
           "angularaxis": {
            "gridcolor": "white",
            "linecolor": "white",
            "ticks": ""
           },
           "bgcolor": "#E5ECF6",
           "radialaxis": {
            "gridcolor": "white",
            "linecolor": "white",
            "ticks": ""
           }
          },
          "scene": {
           "xaxis": {
            "backgroundcolor": "#E5ECF6",
            "gridcolor": "white",
            "gridwidth": 2,
            "linecolor": "white",
            "showbackground": true,
            "ticks": "",
            "zerolinecolor": "white"
           },
           "yaxis": {
            "backgroundcolor": "#E5ECF6",
            "gridcolor": "white",
            "gridwidth": 2,
            "linecolor": "white",
            "showbackground": true,
            "ticks": "",
            "zerolinecolor": "white"
           },
           "zaxis": {
            "backgroundcolor": "#E5ECF6",
            "gridcolor": "white",
            "gridwidth": 2,
            "linecolor": "white",
            "showbackground": true,
            "ticks": "",
            "zerolinecolor": "white"
           }
          },
          "shapedefaults": {
           "line": {
            "color": "#2a3f5f"
           }
          },
          "ternary": {
           "aaxis": {
            "gridcolor": "white",
            "linecolor": "white",
            "ticks": ""
           },
           "baxis": {
            "gridcolor": "white",
            "linecolor": "white",
            "ticks": ""
           },
           "bgcolor": "#E5ECF6",
           "caxis": {
            "gridcolor": "white",
            "linecolor": "white",
            "ticks": ""
           }
          },
          "title": {
           "x": 0.05
          },
          "xaxis": {
           "automargin": true,
           "gridcolor": "white",
           "linecolor": "white",
           "ticks": "",
           "title": {
            "standoff": 15
           },
           "zerolinecolor": "white",
           "zerolinewidth": 2
          },
          "yaxis": {
           "automargin": true,
           "gridcolor": "white",
           "linecolor": "white",
           "ticks": "",
           "title": {
            "standoff": 15
           },
           "zerolinecolor": "white",
           "zerolinewidth": 2
          }
         }
        },
        "xaxis": {
         "anchor": "y",
         "domain": [
          0.0,
          1.0
         ],
         "title": {
          "text": "dayStamp"
         }
        },
        "yaxis": {
         "anchor": "x",
         "domain": [
          0.0,
          1.0
         ],
         "title": {
          "text": "outputPerMin"
         }
        }
       }
      },
      "text/html": "<div>                            <div id=\"88c77a99-d8d9-4e33-a759-000ba91ac972\" class=\"plotly-graph-div\" style=\"height:525px; width:100%;\"></div>            <script type=\"text/javascript\">                require([\"plotly\"], function(Plotly) {                    window.PLOTLYENV=window.PLOTLYENV || {};                                    if (document.getElementById(\"88c77a99-d8d9-4e33-a759-000ba91ac972\")) {                    Plotly.newPlot(                        \"88c77a99-d8d9-4e33-a759-000ba91ac972\",                        [{\"hovertemplate\": \"dayStamp=%{x}<br>outputPerMin=%{y}<extra></extra>\", \"legendgroup\": \"\", \"marker\": {\"color\": \"#636efa\", \"symbol\": \"circle\"}, \"mode\": \"markers\", \"name\": \"\", \"orientation\": \"v\", \"showlegend\": false, \"type\": \"scatter\", \"x\": [\"201019\", \"201020\", \"201021\", \"201023\", \"201025\", \"201027\", \"201029\", \"201101\", \"201103\", \"201109\", \"201110\", \"201111\", \"201112\", \"201114\", \"201116\", \"201118\", \"201119\", \"201122\", \"201123\", \"201124\", \"201126\", \"201129\", \"201130\", \"201201\", \"201203\", \"201204\", \"201205\", \"201206\", \"201208\", \"201209\", \"201213\", \"201215\", \"201217\", \"201218\", \"201219\", \"201221\", \"201222\", \"201223\", \"201226\", \"201227\", \"201228\", \"201231\", \"210101\", \"210102\", \"210104\", \"210105\", \"210106\", \"210109\", \"210110\", \"210112\", \"210113\", \"210114\", \"210115\", \"210117\", \"210119\", \"210120\", \"210121\", \"210123\", \"210124\", \"210125\", \"210127\", \"210128\", \"210129\", \"210130\", \"210131\", \"210202\", \"210204\", \"210205\", \"210206\", \"210208\", \"210210\", \"210212\", \"210214\", \"210216\", \"210217\", \"210218\", \"210220\", \"210222\", \"210223\", \"210226\", \"210228\", \"210301\", \"210302\", \"210304\", \"210310\", \"210311\", \"210314\", \"210316\", \"210319\", \"210321\", \"210323\", \"210325\", \"210327\", \"210328\", \"210402\", \"210406\", \"210409\", \"210411\", \"210412\", \"210414\", \"210415\", \"210419\", \"210421\", \"210423\", \"210425\", \"210427\", \"210429\", \"210505\", \"210509\", \"210510\", \"210515\", \"210516\", \"210518\", \"210529\", \"210602\", \"210603\", \"210608\", \"210610\", \"210614\", \"210620\", \"210624\", \"210629\", \"210707\", \"210727\", \"210730\", \"210806\", \"210808\", \"210811\", \"210816\", \"210819\", \"210901\", \"210908\", \"210916\", \"210921\", \"210924\", \"210929\", \"211006\", \"211012\", \"211015\", \"211024\", \"211029\", \"211102\", \"211106\", \"211109\", \"211110\", \"211111\", \"211114\", \"211115\", \"211117\", \"211118\", \"211119\", \"211122\", \"211124\", \"211129\", \"211202\", \"211204\", \"211205\", \"211206\", \"211208\", \"211213\", \"211214\", \"211217\", \"211219\", \"211221\", \"211222\", \"211227\", \"211229\"], \"xaxis\": \"x\", \"y\": [8.2, 9.633333333333333, 8.7, 10.1, 10.7, 9.6, 10.222222222222221, 9.6, 11.066666666666666, 10.5, 12.11111111111111, 10.033333333333333, 10.7, 9.4, 10.125, 10.7, 10.9, 11.2, 11.311111111111112, 10.85, 11.577777777777778, 10.0, 10.98, 10.4, 10.96, 12.266666666666667, 12.844444444444445, 10.0, 10.8, 11.222222222222221, 11.32, 9.433333333333334, 10.82, 9.7, 12.71111111111111, 10.6, 13.0, 10.6, 10.84, 12.133333333333333, 11.866666666666667, 12.216666666666667, 13.033333333333333, 12.022222222222222, 11.28888888888889, 11.1, 11.355555555555556, 13.022222222222222, 12.275, 11.444444444444445, 13.133333333333333, 12.8, 12.422222222222222, 15.5, 11.555555555555555, 13.377777777777778, 12.333333333333334, 11.3, 11.8, 12.5, 12.666666666666666, 12.3, 12.05, 11.45, 11.683333333333334, 11.6, 11.166666666666666, 11.133333333333333, 12.6, 12.577777777777778, 11.766666666666667, 12.466666666666667, 11.933333333333334, 6.36, 12.311111111111112, 11.866666666666667, 12.22, 11.0, 11.6, 11.583333333333334, 12.044444444444444, 11.15, 12.066666666666666, 12.933333333333334, 12.875, 11.3, 11.377777777777778, 11.266666666666667, 10.666666666666666, 11.333333333333334, 13.15, 12.6, 11.616666666666667, 10.933333333333334, 11.28, 8.488888888888889, 12.766666666666667, 11.8, 11.833333333333334, 12.2, 11.76, 11.8, 12.12, 9.866666666666667, 11.416666666666666, 10.222222222222221, 11.866666666666667, 11.555555555555555, 11.933333333333334, 11.155555555555555, 12.0, 11.044444444444444, 10.11111111111111, 10.533333333333333, 2.7333333333333334, 11.244444444444444, 11.183333333333334, 11.18, 10.777777777777779, 10.28, 10.755555555555556, 5.733333333333333, 10.575, 11.18, 11.283333333333333, 11.322222222222223, 11.71111111111111, 11.85, 11.866666666666667, 12.755555555555556, 11.8, 12.2, 10.8, 11.083333333333334, 11.88888888888889, 13.0, 12.155555555555555, 13.0, 11.483333333333333, 12.42, 11.666666666666666, 12.325, 11.333333333333334, 11.466666666666667, 11.08, 11.866666666666667, 12.644444444444444, 11.569230769230769, 10.5, 12.5, 12.633333333333333, 12.755555555555556, 11.233333333333333, 12.266666666666667, 8.52, 12.813333333333333, 12.155555555555555, 11.971428571428572, 12.173333333333334, 13.8, 11.8, 11.9, 0.3, 12.033333333333333, 12.95, 11.11111111111111, 11.533333333333333], \"yaxis\": \"y\"}, {\"hovertemplate\": \"<b>LOWESS trendline</b><br><br>dayStamp=%{x}<br>outputPerMin=%{y} <b>(trend)</b><extra></extra>\", \"legendgroup\": \"\", \"marker\": {\"color\": \"#636efa\", \"symbol\": \"circle\"}, \"mode\": \"lines\", \"name\": \"\", \"showlegend\": false, \"type\": \"scatter\", \"x\": [\"201019\", \"201020\", \"201021\", \"201023\", \"201025\", \"201027\", \"201029\", \"201101\", \"201103\", \"201109\", \"201110\", \"201111\", \"201112\", \"201114\", \"201116\", \"201118\", \"201119\", \"201122\", \"201123\", \"201124\", \"201126\", \"201129\", \"201130\", \"201201\", \"201203\", \"201204\", \"201205\", \"201206\", \"201208\", \"201209\", \"201213\", \"201215\", \"201217\", \"201218\", \"201219\", \"201221\", \"201222\", \"201223\", \"201226\", \"201227\", \"201228\", \"201231\", \"210101\", \"210102\", \"210104\", \"210105\", \"210106\", \"210109\", \"210110\", \"210112\", \"210113\", \"210114\", \"210115\", \"210117\", \"210119\", \"210120\", \"210121\", \"210123\", \"210124\", \"210125\", \"210127\", \"210128\", \"210129\", \"210130\", \"210131\", \"210202\", \"210204\", \"210205\", \"210206\", \"210208\", \"210210\", \"210212\", \"210214\", \"210216\", \"210217\", \"210218\", \"210220\", \"210222\", \"210223\", \"210226\", \"210228\", \"210301\", \"210302\", \"210304\", \"210310\", \"210311\", \"210314\", \"210316\", \"210319\", \"210321\", \"210323\", \"210325\", \"210327\", \"210328\", \"210402\", \"210406\", \"210409\", \"210411\", \"210412\", \"210414\", \"210415\", \"210419\", \"210421\", \"210423\", \"210425\", \"210427\", \"210429\", \"210505\", \"210509\", \"210510\", \"210515\", \"210516\", \"210518\", \"210529\", \"210602\", \"210603\", \"210608\", \"210610\", \"210614\", \"210620\", \"210624\", \"210629\", \"210707\", \"210727\", \"210730\", \"210806\", \"210808\", \"210811\", \"210816\", \"210819\", \"210901\", \"210908\", \"210916\", \"210921\", \"210924\", \"210929\", \"211006\", \"211012\", \"211015\", \"211024\", \"211029\", \"211102\", \"211106\", \"211109\", \"211110\", \"211111\", \"211114\", \"211115\", \"211117\", \"211118\", \"211119\", \"211122\", \"211124\", \"211129\", \"211202\", \"211204\", \"211205\", \"211206\", \"211208\", \"211213\", \"211214\", \"211217\", \"211219\", \"211221\", \"211222\", \"211227\", \"211229\"], \"xaxis\": \"x\", \"y\": [10.6783815434821, 10.678737302316666, 10.679092940805662, 10.679803856892967, 10.680514292008485, 10.68122424642048, 10.6819337203972, 10.707157208588022, 10.70784910609612, 10.709921981974654, 10.710267050908113, 10.710612002685167, 10.710956837344176, 10.711646155446044, 10.712335005502846, 10.713023387812305, 10.713367403656619, 10.714398750397612, 10.714742299173125, 10.715085731275934, 10.715772245606038, 10.716801142953152, 10.717143875770844, 10.741182460294915, 10.741851229830086, 10.742185443857602, 10.742519544105123, 10.742853530608443, 10.743521162518597, 10.743854807994381, 10.745188254161427, 10.745854296278658, 10.746519884774692, 10.746852509002078, 10.747185019923908, 10.747849702002235, 10.748181873226564, 10.74851393128553, 10.749509426813567, 10.74984103255384, 10.750172525297073, 10.751166325873264, 12.05973815867625, 12.058258414930334, 12.055301254972399, 12.053823843799703, 12.052347215915162, 12.047922075327135, 12.046448625193868, 12.043504145449392, 12.042033123456447, 12.04056291877643, 12.039093534923289, 12.036157240596756, 12.033224260307609, 12.031759019044197, 12.03029461389138, 12.027368319841901, 12.02590643446809, 12.024445393104324, 12.02152585204467, 12.020067356675431, 12.01860971368018, 12.0171529244553, 12.015696990336545, 11.91465417957745, 11.91187892131593, 11.910492852889124, 11.90910782986642, 11.906340936740094, 11.903578273199406, 11.900819867433452, 11.898065747145797, 11.895315937953232, 11.893942657832532, 11.892570464836833, 11.889829351632278, 11.88709262078451, 11.885725905459918, 11.88163239841379, 11.878908961726557, 11.78283469149229, 11.781567670836955, 11.779037965498654, 11.771483897149597, 11.770230045796898, 11.766477424950883, 11.763983165551231, 11.760253102761428, 11.75777400636804, 11.755301055141864, 11.752834299959444, 11.750373786969709, 11.74914588432186, 11.663095931147957, 11.65874475130512, 11.655503830199475, 11.653354050150945, 11.652282435609871, 11.650145796754032, 11.64908078756466, 11.644842979351086, 11.642737504440337, 11.640641049495308, 11.638553661405517, 11.636475393986505, 11.634406307013137, 11.563271247435699, 11.559968485047179, 11.559150189398443, 11.555103335005711, 11.554302923615499, 11.552711094336663, 11.544172497312378, 11.49800420975953, 11.4975281594969, 11.495224924578677, 11.49433841324559, 11.495117308109908, 11.501831687493635, 11.506992425267455, 11.513591728394704, 11.594418993971008, 11.61509717080661, 11.618029048637917, 11.684049195933852, 11.685694629608458, 11.688162083762204, 11.692274296970314, 11.694742496936954, 11.763782057524224, 11.769882236620845, 11.776899843967035, 11.781310858323247, 11.783966754548846, 11.788408852083329, 11.85925037398808, 11.86495480319865, 11.867816443740782, 11.876438247794548, 11.881251537823562, 11.953206283824565, 11.957229217998453, 11.960251201824258, 11.961259429168113, 11.962268103497252, 11.965296801671643, 11.966307257568443, 11.96832949895648, 11.969341282981107, 11.970353509006017, 11.97339283364323, 11.975421244997497, 11.98049987778869, 12.055795593016345, 12.057886465269636, 12.058932421027452, 12.059978721155632, 12.062072347210623, 12.067312310476716, 12.06836129904236, 12.07151021404804, 12.073611089398932, 12.075713221139146, 12.076764752312485, 12.08202695093369, 12.08413389299024], \"yaxis\": \"y\"}],                        {\"legend\": {\"tracegroupgap\": 0}, \"margin\": {\"t\": 60}, \"template\": {\"data\": {\"bar\": [{\"error_x\": {\"color\": \"#2a3f5f\"}, \"error_y\": {\"color\": \"#2a3f5f\"}, \"marker\": {\"line\": {\"color\": \"#E5ECF6\", \"width\": 0.5}}, \"type\": \"bar\"}], \"barpolar\": [{\"marker\": {\"line\": {\"color\": \"#E5ECF6\", \"width\": 0.5}}, \"type\": \"barpolar\"}], \"carpet\": [{\"aaxis\": {\"endlinecolor\": \"#2a3f5f\", \"gridcolor\": \"white\", \"linecolor\": \"white\", \"minorgridcolor\": \"white\", \"startlinecolor\": \"#2a3f5f\"}, \"baxis\": {\"endlinecolor\": \"#2a3f5f\", \"gridcolor\": \"white\", \"linecolor\": \"white\", \"minorgridcolor\": \"white\", \"startlinecolor\": \"#2a3f5f\"}, \"type\": \"carpet\"}], \"choropleth\": [{\"colorbar\": {\"outlinewidth\": 0, \"ticks\": \"\"}, \"type\": \"choropleth\"}], \"contour\": [{\"colorbar\": {\"outlinewidth\": 0, \"ticks\": \"\"}, \"colorscale\": [[0.0, \"#0d0887\"], [0.1111111111111111, \"#46039f\"], [0.2222222222222222, \"#7201a8\"], [0.3333333333333333, \"#9c179e\"], [0.4444444444444444, \"#bd3786\"], [0.5555555555555556, \"#d8576b\"], [0.6666666666666666, \"#ed7953\"], [0.7777777777777778, \"#fb9f3a\"], [0.8888888888888888, \"#fdca26\"], [1.0, \"#f0f921\"]], \"type\": \"contour\"}], \"contourcarpet\": [{\"colorbar\": {\"outlinewidth\": 0, \"ticks\": \"\"}, \"type\": \"contourcarpet\"}], \"heatmap\": [{\"colorbar\": {\"outlinewidth\": 0, \"ticks\": \"\"}, \"colorscale\": [[0.0, \"#0d0887\"], [0.1111111111111111, \"#46039f\"], [0.2222222222222222, \"#7201a8\"], [0.3333333333333333, \"#9c179e\"], [0.4444444444444444, \"#bd3786\"], [0.5555555555555556, \"#d8576b\"], [0.6666666666666666, \"#ed7953\"], [0.7777777777777778, \"#fb9f3a\"], [0.8888888888888888, \"#fdca26\"], [1.0, \"#f0f921\"]], \"type\": \"heatmap\"}], \"heatmapgl\": [{\"colorbar\": {\"outlinewidth\": 0, \"ticks\": \"\"}, \"colorscale\": [[0.0, \"#0d0887\"], [0.1111111111111111, \"#46039f\"], [0.2222222222222222, \"#7201a8\"], [0.3333333333333333, \"#9c179e\"], [0.4444444444444444, \"#bd3786\"], [0.5555555555555556, \"#d8576b\"], [0.6666666666666666, \"#ed7953\"], [0.7777777777777778, \"#fb9f3a\"], [0.8888888888888888, \"#fdca26\"], [1.0, \"#f0f921\"]], \"type\": \"heatmapgl\"}], \"histogram\": [{\"marker\": {\"colorbar\": {\"outlinewidth\": 0, \"ticks\": \"\"}}, \"type\": \"histogram\"}], \"histogram2d\": [{\"colorbar\": {\"outlinewidth\": 0, \"ticks\": \"\"}, \"colorscale\": [[0.0, \"#0d0887\"], [0.1111111111111111, \"#46039f\"], [0.2222222222222222, \"#7201a8\"], [0.3333333333333333, \"#9c179e\"], [0.4444444444444444, \"#bd3786\"], [0.5555555555555556, \"#d8576b\"], [0.6666666666666666, \"#ed7953\"], [0.7777777777777778, \"#fb9f3a\"], [0.8888888888888888, \"#fdca26\"], [1.0, \"#f0f921\"]], \"type\": \"histogram2d\"}], \"histogram2dcontour\": [{\"colorbar\": {\"outlinewidth\": 0, \"ticks\": \"\"}, \"colorscale\": [[0.0, \"#0d0887\"], [0.1111111111111111, \"#46039f\"], [0.2222222222222222, \"#7201a8\"], [0.3333333333333333, \"#9c179e\"], [0.4444444444444444, \"#bd3786\"], [0.5555555555555556, \"#d8576b\"], [0.6666666666666666, \"#ed7953\"], [0.7777777777777778, \"#fb9f3a\"], [0.8888888888888888, \"#fdca26\"], [1.0, \"#f0f921\"]], \"type\": \"histogram2dcontour\"}], \"mesh3d\": [{\"colorbar\": {\"outlinewidth\": 0, \"ticks\": \"\"}, \"type\": \"mesh3d\"}], \"parcoords\": [{\"line\": {\"colorbar\": {\"outlinewidth\": 0, \"ticks\": \"\"}}, \"type\": \"parcoords\"}], \"pie\": [{\"automargin\": true, \"type\": \"pie\"}], \"scatter\": [{\"marker\": {\"colorbar\": {\"outlinewidth\": 0, \"ticks\": \"\"}}, \"type\": \"scatter\"}], \"scatter3d\": [{\"line\": {\"colorbar\": {\"outlinewidth\": 0, \"ticks\": \"\"}}, \"marker\": {\"colorbar\": {\"outlinewidth\": 0, \"ticks\": \"\"}}, \"type\": \"scatter3d\"}], \"scattercarpet\": [{\"marker\": {\"colorbar\": {\"outlinewidth\": 0, \"ticks\": \"\"}}, \"type\": \"scattercarpet\"}], \"scattergeo\": [{\"marker\": {\"colorbar\": {\"outlinewidth\": 0, \"ticks\": \"\"}}, \"type\": \"scattergeo\"}], \"scattergl\": [{\"marker\": {\"colorbar\": {\"outlinewidth\": 0, \"ticks\": \"\"}}, \"type\": \"scattergl\"}], \"scattermapbox\": [{\"marker\": {\"colorbar\": {\"outlinewidth\": 0, \"ticks\": \"\"}}, \"type\": \"scattermapbox\"}], \"scatterpolar\": [{\"marker\": {\"colorbar\": {\"outlinewidth\": 0, \"ticks\": \"\"}}, \"type\": \"scatterpolar\"}], \"scatterpolargl\": [{\"marker\": {\"colorbar\": {\"outlinewidth\": 0, \"ticks\": \"\"}}, \"type\": \"scatterpolargl\"}], \"scatterternary\": [{\"marker\": {\"colorbar\": {\"outlinewidth\": 0, \"ticks\": \"\"}}, \"type\": \"scatterternary\"}], \"surface\": [{\"colorbar\": {\"outlinewidth\": 0, \"ticks\": \"\"}, \"colorscale\": [[0.0, \"#0d0887\"], [0.1111111111111111, \"#46039f\"], [0.2222222222222222, \"#7201a8\"], [0.3333333333333333, \"#9c179e\"], [0.4444444444444444, \"#bd3786\"], [0.5555555555555556, \"#d8576b\"], [0.6666666666666666, \"#ed7953\"], [0.7777777777777778, \"#fb9f3a\"], [0.8888888888888888, \"#fdca26\"], [1.0, \"#f0f921\"]], \"type\": \"surface\"}], \"table\": [{\"cells\": {\"fill\": {\"color\": \"#EBF0F8\"}, \"line\": {\"color\": \"white\"}}, \"header\": {\"fill\": {\"color\": \"#C8D4E3\"}, \"line\": {\"color\": \"white\"}}, \"type\": \"table\"}]}, \"layout\": {\"annotationdefaults\": {\"arrowcolor\": \"#2a3f5f\", \"arrowhead\": 0, \"arrowwidth\": 1}, \"autotypenumbers\": \"strict\", \"coloraxis\": {\"colorbar\": {\"outlinewidth\": 0, \"ticks\": \"\"}}, \"colorscale\": {\"diverging\": [[0, \"#8e0152\"], [0.1, \"#c51b7d\"], [0.2, \"#de77ae\"], [0.3, \"#f1b6da\"], [0.4, \"#fde0ef\"], [0.5, \"#f7f7f7\"], [0.6, \"#e6f5d0\"], [0.7, \"#b8e186\"], [0.8, \"#7fbc41\"], [0.9, \"#4d9221\"], [1, \"#276419\"]], \"sequential\": [[0.0, \"#0d0887\"], [0.1111111111111111, \"#46039f\"], [0.2222222222222222, \"#7201a8\"], [0.3333333333333333, \"#9c179e\"], [0.4444444444444444, \"#bd3786\"], [0.5555555555555556, \"#d8576b\"], [0.6666666666666666, \"#ed7953\"], [0.7777777777777778, \"#fb9f3a\"], [0.8888888888888888, \"#fdca26\"], [1.0, \"#f0f921\"]], \"sequentialminus\": [[0.0, \"#0d0887\"], [0.1111111111111111, \"#46039f\"], [0.2222222222222222, \"#7201a8\"], [0.3333333333333333, \"#9c179e\"], [0.4444444444444444, \"#bd3786\"], [0.5555555555555556, \"#d8576b\"], [0.6666666666666666, \"#ed7953\"], [0.7777777777777778, \"#fb9f3a\"], [0.8888888888888888, \"#fdca26\"], [1.0, \"#f0f921\"]]}, \"colorway\": [\"#636efa\", \"#EF553B\", \"#00cc96\", \"#ab63fa\", \"#FFA15A\", \"#19d3f3\", \"#FF6692\", \"#B6E880\", \"#FF97FF\", \"#FECB52\"], \"font\": {\"color\": \"#2a3f5f\"}, \"geo\": {\"bgcolor\": \"white\", \"lakecolor\": \"white\", \"landcolor\": \"#E5ECF6\", \"showlakes\": true, \"showland\": true, \"subunitcolor\": \"white\"}, \"hoverlabel\": {\"align\": \"left\"}, \"hovermode\": \"closest\", \"mapbox\": {\"style\": \"light\"}, \"paper_bgcolor\": \"white\", \"plot_bgcolor\": \"#E5ECF6\", \"polar\": {\"angularaxis\": {\"gridcolor\": \"white\", \"linecolor\": \"white\", \"ticks\": \"\"}, \"bgcolor\": \"#E5ECF6\", \"radialaxis\": {\"gridcolor\": \"white\", \"linecolor\": \"white\", \"ticks\": \"\"}}, \"scene\": {\"xaxis\": {\"backgroundcolor\": \"#E5ECF6\", \"gridcolor\": \"white\", \"gridwidth\": 2, \"linecolor\": \"white\", \"showbackground\": true, \"ticks\": \"\", \"zerolinecolor\": \"white\"}, \"yaxis\": {\"backgroundcolor\": \"#E5ECF6\", \"gridcolor\": \"white\", \"gridwidth\": 2, \"linecolor\": \"white\", \"showbackground\": true, \"ticks\": \"\", \"zerolinecolor\": \"white\"}, \"zaxis\": {\"backgroundcolor\": \"#E5ECF6\", \"gridcolor\": \"white\", \"gridwidth\": 2, \"linecolor\": \"white\", \"showbackground\": true, \"ticks\": \"\", \"zerolinecolor\": \"white\"}}, \"shapedefaults\": {\"line\": {\"color\": \"#2a3f5f\"}}, \"ternary\": {\"aaxis\": {\"gridcolor\": \"white\", \"linecolor\": \"white\", \"ticks\": \"\"}, \"baxis\": {\"gridcolor\": \"white\", \"linecolor\": \"white\", \"ticks\": \"\"}, \"bgcolor\": \"#E5ECF6\", \"caxis\": {\"gridcolor\": \"white\", \"linecolor\": \"white\", \"ticks\": \"\"}}, \"title\": {\"x\": 0.05}, \"xaxis\": {\"automargin\": true, \"gridcolor\": \"white\", \"linecolor\": \"white\", \"ticks\": \"\", \"title\": {\"standoff\": 15}, \"zerolinecolor\": \"white\", \"zerolinewidth\": 2}, \"yaxis\": {\"automargin\": true, \"gridcolor\": \"white\", \"linecolor\": \"white\", \"ticks\": \"\", \"title\": {\"standoff\": 15}, \"zerolinecolor\": \"white\", \"zerolinewidth\": 2}}}, \"xaxis\": {\"anchor\": \"y\", \"domain\": [0.0, 1.0], \"title\": {\"text\": \"dayStamp\"}}, \"yaxis\": {\"anchor\": \"x\", \"domain\": [0.0, 1.0], \"title\": {\"text\": \"outputPerMin\"}}},                        {\"responsive\": true}                    ).then(function(){\n                            \nvar gd = document.getElementById('88c77a99-d8d9-4e33-a759-000ba91ac972');\nvar x = new MutationObserver(function (mutations, observer) {{\n        var display = window.getComputedStyle(gd).display;\n        if (!display || display === 'none') {{\n            console.log([gd, 'removed!']);\n            Plotly.purge(gd);\n            observer.disconnect();\n        }}\n}});\n\n// Listen for the removal of the full notebook cells\nvar notebookContainer = gd.closest('#notebook-container');\nif (notebookContainer) {{\n    x.observe(notebookContainer, {childList: true});\n}}\n\n// Listen for the clearing of the current output cell\nvar outputEl = gd.closest('.output');\nif (outputEl) {{\n    x.observe(outputEl, {childList: true});\n}}\n\n                        })                };                });            </script>        </div>"
     },
     "metadata": {},
     "output_type": "display_data"
    }
   ],
   "source": [
    "#visualize average output per instructor over time\n",
    "#sampleClassDF[['dayStamp','output','duration']].groupby('dayStamp').sum()\n",
    "groupDays = sampleClassDF.groupby('dayStamp')['output','duration'].apply(lambda x: x.astype(float).sum())\n",
    "groupDays['outputPerMin'] = groupDays.output/groupDays.duration\n",
    "fig3 = px.scatter(groupDays, x=groupDays.index, y=\"outputPerMin\", trendline=\"lowess\")\n",
    "fig3.show()"
   ],
   "metadata": {
    "collapsed": false,
    "pycharm": {
     "name": "#%%\n"
    }
   }
  },
  {
   "cell_type": "code",
   "execution_count": 330,
   "outputs": [
    {
     "data": {
      "application/vnd.plotly.v1+json": {
       "config": {
        "plotlyServerURL": "https://plot.ly"
       },
       "data": [
        {
         "hovertemplate": "dayStamp=%{x}<br>duration=%{y}<extra></extra>",
         "legendgroup": "",
         "marker": {
          "color": "#636efa",
          "symbol": "circle"
         },
         "mode": "markers",
         "name": "",
         "orientation": "v",
         "showlegend": false,
         "type": "scatter",
         "x": [
          "201019",
          "201020",
          "201021",
          "201023",
          "201025",
          "201027",
          "201029",
          "201101",
          "201103",
          "201109",
          "201110",
          "201111",
          "201112",
          "201114",
          "201116",
          "201118",
          "201119",
          "201122",
          "201123",
          "201124",
          "201126",
          "201129",
          "201130",
          "201201",
          "201203",
          "201204",
          "201205",
          "201206",
          "201208",
          "201209",
          "201213",
          "201215",
          "201217",
          "201218",
          "201219",
          "201221",
          "201222",
          "201223",
          "201226",
          "201227",
          "201228",
          "201231",
          "210101",
          "210102",
          "210104",
          "210105",
          "210106",
          "210109",
          "210110",
          "210112",
          "210113",
          "210114",
          "210115",
          "210117",
          "210119",
          "210120",
          "210121",
          "210123",
          "210124",
          "210125",
          "210127",
          "210128",
          "210129",
          "210130",
          "210131",
          "210202",
          "210204",
          "210205",
          "210206",
          "210208",
          "210210",
          "210212",
          "210214",
          "210216",
          "210217",
          "210218",
          "210220",
          "210222",
          "210223",
          "210226",
          "210228",
          "210301",
          "210302",
          "210304",
          "210310",
          "210311",
          "210314",
          "210316",
          "210319",
          "210321",
          "210323",
          "210325",
          "210327",
          "210328",
          "210402",
          "210406",
          "210409",
          "210411",
          "210412",
          "210414",
          "210415",
          "210419",
          "210421",
          "210423",
          "210425",
          "210427",
          "210429",
          "210505",
          "210509",
          "210510",
          "210515",
          "210516",
          "210518",
          "210529",
          "210602",
          "210603",
          "210608",
          "210610",
          "210614",
          "210620",
          "210624",
          "210629",
          "210707",
          "210727",
          "210730",
          "210806",
          "210808",
          "210811",
          "210816",
          "210819",
          "210901",
          "210908",
          "210916",
          "210921",
          "210924",
          "210929",
          "211006",
          "211012",
          "211015",
          "211024",
          "211029",
          "211102",
          "211106",
          "211109",
          "211110",
          "211111",
          "211114",
          "211115",
          "211117",
          "211118",
          "211119",
          "211122",
          "211124",
          "211129",
          "211202",
          "211204",
          "211205",
          "211206",
          "211208",
          "211213",
          "211214",
          "211217",
          "211219",
          "211221",
          "211222",
          "211227",
          "211229"
         ],
         "xaxis": "x",
         "y": [
          30.0,
          30.0,
          20.0,
          30.0,
          30.0,
          30.0,
          45.0,
          20.0,
          30.0,
          40.0,
          45.0,
          30.0,
          30.0,
          15.0,
          40.0,
          30.0,
          30.0,
          45.0,
          45.0,
          40.0,
          45.0,
          30.0,
          50.0,
          25.0,
          50.0,
          30.0,
          45.0,
          30.0,
          45.0,
          45.0,
          75.0,
          30.0,
          50.0,
          30.0,
          45.0,
          60.0,
          30.0,
          75.0,
          75.0,
          30.0,
          60.0,
          60.0,
          30.0,
          45.0,
          45.0,
          30.0,
          45.0,
          45.0,
          40.0,
          45.0,
          30.0,
          50.0,
          45.0,
          20.0,
          45.0,
          45.0,
          30.0,
          20.0,
          45.0,
          30.0,
          30.0,
          50.0,
          20.0,
          40.0,
          60.0,
          20.0,
          60.0,
          30.0,
          45.0,
          45.0,
          30.0,
          30.0,
          45.0,
          75.0,
          45.0,
          30.0,
          50.0,
          45.0,
          45.0,
          60.0,
          45.0,
          20.0,
          30.0,
          30.0,
          40.0,
          30.0,
          45.0,
          30.0,
          30.0,
          45.0,
          40.0,
          30.0,
          60.0,
          30.0,
          50.0,
          45.0,
          30.0,
          60.0,
          30.0,
          30.0,
          50.0,
          30.0,
          50.0,
          45.0,
          60.0,
          45.0,
          30.0,
          45.0,
          30.0,
          45.0,
          60.0,
          45.0,
          45.0,
          30.0,
          30.0,
          45.0,
          60.0,
          50.0,
          45.0,
          75.0,
          45.0,
          60.0,
          40.0,
          50.0,
          60.0,
          90.0,
          45.0,
          80.0,
          45.0,
          45.0,
          30.0,
          30.0,
          20.0,
          60.0,
          45.0,
          45.0,
          45.0,
          30.0,
          60.0,
          50.0,
          60.0,
          40.0,
          45.0,
          75.0,
          50.0,
          30.0,
          45.0,
          65.0,
          20.0,
          50.0,
          60.0,
          45.0,
          60.0,
          45.0,
          50.0,
          75.0,
          45.0,
          35.0,
          75.0,
          45.0,
          45.0,
          30.0,
          10.0,
          60.0,
          20.0,
          45.0,
          30.0
         ],
         "yaxis": "y"
        },
        {
         "hovertemplate": "<b>LOWESS trendline</b><br><br>dayStamp=%{x}<br>duration=%{y} <b>(trend)</b><extra></extra>",
         "legendgroup": "",
         "marker": {
          "color": "#636efa",
          "symbol": "circle"
         },
         "mode": "lines",
         "name": "",
         "showlegend": false,
         "type": "scatter",
         "x": [
          "201019",
          "201020",
          "201021",
          "201023",
          "201025",
          "201027",
          "201029",
          "201101",
          "201103",
          "201109",
          "201110",
          "201111",
          "201112",
          "201114",
          "201116",
          "201118",
          "201119",
          "201122",
          "201123",
          "201124",
          "201126",
          "201129",
          "201130",
          "201201",
          "201203",
          "201204",
          "201205",
          "201206",
          "201208",
          "201209",
          "201213",
          "201215",
          "201217",
          "201218",
          "201219",
          "201221",
          "201222",
          "201223",
          "201226",
          "201227",
          "201228",
          "201231",
          "210101",
          "210102",
          "210104",
          "210105",
          "210106",
          "210109",
          "210110",
          "210112",
          "210113",
          "210114",
          "210115",
          "210117",
          "210119",
          "210120",
          "210121",
          "210123",
          "210124",
          "210125",
          "210127",
          "210128",
          "210129",
          "210130",
          "210131",
          "210202",
          "210204",
          "210205",
          "210206",
          "210208",
          "210210",
          "210212",
          "210214",
          "210216",
          "210217",
          "210218",
          "210220",
          "210222",
          "210223",
          "210226",
          "210228",
          "210301",
          "210302",
          "210304",
          "210310",
          "210311",
          "210314",
          "210316",
          "210319",
          "210321",
          "210323",
          "210325",
          "210327",
          "210328",
          "210402",
          "210406",
          "210409",
          "210411",
          "210412",
          "210414",
          "210415",
          "210419",
          "210421",
          "210423",
          "210425",
          "210427",
          "210429",
          "210505",
          "210509",
          "210510",
          "210515",
          "210516",
          "210518",
          "210529",
          "210602",
          "210603",
          "210608",
          "210610",
          "210614",
          "210620",
          "210624",
          "210629",
          "210707",
          "210727",
          "210730",
          "210806",
          "210808",
          "210811",
          "210816",
          "210819",
          "210901",
          "210908",
          "210916",
          "210921",
          "210924",
          "210929",
          "211006",
          "211012",
          "211015",
          "211024",
          "211029",
          "211102",
          "211106",
          "211109",
          "211110",
          "211111",
          "211114",
          "211115",
          "211117",
          "211118",
          "211119",
          "211122",
          "211124",
          "211129",
          "211202",
          "211204",
          "211205",
          "211206",
          "211208",
          "211213",
          "211214",
          "211217",
          "211219",
          "211221",
          "211222",
          "211227",
          "211229"
         ],
         "xaxis": "x",
         "y": [
          36.84404438313966,
          36.84679848356698,
          36.849551143080454,
          36.85505214087105,
          36.860547379621295,
          36.86603686250731,
          36.87152059280008,
          37.06513114044058,
          37.070404315518374,
          37.08619008338557,
          37.088816126288584,
          37.091440765086276,
          37.094064000194045,
          37.09930626108131,
          37.104542912453645,
          37.109773957914356,
          37.11238737955681,
          37.12021924563902,
          37.122827069605435,
          37.12543349530935,
          37.13064215372357,
          37.138444665497005,
          37.14104271094325,
          37.321963581980675,
          37.326959608003406,
          37.32945557531818,
          37.3319501794179,
          37.33444342074434,
          37.339425816804706,
          37.34191497242693,
          37.351857988799004,
          37.35682133923047,
          37.36177925561397,
          37.364256177098284,
          37.36673174131864,
          37.37167879966679,
          37.37415029460211,
          37.3766204339142,
          37.38402272205654,
          37.38648744281853,
          37.38895080991998,
          37.39633279312797,
          38.124624098833706,
          38.1371573373647,
          38.16223533196717,
          38.174780087966965,
          38.187328677953325,
          38.22499742128661,
          38.23756130600347,
          38.262700463952555,
          38.2752757056098,
          38.28785469706295,
          38.30043742082272,
          38.32561396102441,
          38.350805098664026,
          38.36340608706871,
          38.37601065655197,
          38.40123042438495,
          38.41384557525595,
          38.42646421582253,
          38.45171191014034,
          38.464340944654744,
          38.47697342981424,
          38.489609357372615,
          38.50224872593494,
          39.40745620971775,
          39.4331439259625,
          39.44599088397411,
          39.45883988173392,
          39.48454391613384,
          39.51025584793434,
          39.53597547356647,
          39.5617026305955,
          39.58743719848882,
          39.60030721825135,
          39.613179032060984,
          39.638927940287786,
          39.66468373412285,
          39.677564142827116,
          39.71621499621057,
          39.741989849311445,
          40.682576215157546,
          40.69539274336519,
          40.72101434516608,
          40.79778293753787,
          40.81056304313082,
          40.84887707692302,
          40.8743973483032,
          40.912643093894154,
          40.9381166179816,
          40.96357086499346,
          40.989005523008494,
          41.0144202945042,
          41.02712014387998,
          41.95105930338408,
          42.000034887992385,
          42.03669886617355,
          42.06110916472122,
          42.073304612879575,
          42.097676099930716,
          42.109852151220096,
          42.158492117170596,
          42.18277379668459,
          42.207030235307684,
          42.23126165032448,
          42.255468207276465,
          42.279649955847304,
          43.18327306747736,
          43.23032257086336,
          43.24208440473623,
          43.30089905544183,
          43.31266441479125,
          43.336198970961114,
          43.465781864963404,
          44.349605830625876,
          44.36216984362099,
          44.42517480651366,
          44.45046119228647,
          44.483837841851226,
          44.49730227788592,
          44.50336382419446,
          44.512036875199705,
          44.90467995438342,
          44.978427062223005,
          44.98915668155977,
          45.28364059571505,
          45.291885880041384,
          45.304268062405114,
          45.32493190706001,
          45.33733891680138,
          45.66678847684693,
          45.69335362962975,
          45.723346273496524,
          45.74189618218489,
          45.75295584023414,
          45.771273496944374,
          46.037108168246355,
          46.05669366916088,
          46.066433059497285,
          46.09544613538183,
          46.111435484642875,
          46.3347099560688,
          46.34639840693554,
          46.35512811780997,
          46.358031091901275,
          46.360930604194564,
          46.3696083604153,
          46.37249403949791,
          46.378255063651046,
          46.381130398852314,
          46.384002285196324,
          46.39259722269776,
          46.398309813373565,
          46.41252967436946,
          46.60861111140172,
          46.613642677963824,
          46.616150983010414,
          46.61865426272197,
          46.62364563149251,
          46.63603420048455,
          46.63849624805178,
          46.64585048131746,
          46.65072644084397,
          46.65558076208884,
          46.65799978885209,
          46.67001321157536,
          46.67478036889224
         ],
         "yaxis": "y"
        }
       ],
       "layout": {
        "legend": {
         "tracegroupgap": 0
        },
        "margin": {
         "t": 60
        },
        "template": {
         "data": {
          "bar": [
           {
            "error_x": {
             "color": "#2a3f5f"
            },
            "error_y": {
             "color": "#2a3f5f"
            },
            "marker": {
             "line": {
              "color": "#E5ECF6",
              "width": 0.5
             }
            },
            "type": "bar"
           }
          ],
          "barpolar": [
           {
            "marker": {
             "line": {
              "color": "#E5ECF6",
              "width": 0.5
             }
            },
            "type": "barpolar"
           }
          ],
          "carpet": [
           {
            "aaxis": {
             "endlinecolor": "#2a3f5f",
             "gridcolor": "white",
             "linecolor": "white",
             "minorgridcolor": "white",
             "startlinecolor": "#2a3f5f"
            },
            "baxis": {
             "endlinecolor": "#2a3f5f",
             "gridcolor": "white",
             "linecolor": "white",
             "minorgridcolor": "white",
             "startlinecolor": "#2a3f5f"
            },
            "type": "carpet"
           }
          ],
          "choropleth": [
           {
            "colorbar": {
             "outlinewidth": 0,
             "ticks": ""
            },
            "type": "choropleth"
           }
          ],
          "contour": [
           {
            "colorbar": {
             "outlinewidth": 0,
             "ticks": ""
            },
            "colorscale": [
             [
              0.0,
              "#0d0887"
             ],
             [
              0.1111111111111111,
              "#46039f"
             ],
             [
              0.2222222222222222,
              "#7201a8"
             ],
             [
              0.3333333333333333,
              "#9c179e"
             ],
             [
              0.4444444444444444,
              "#bd3786"
             ],
             [
              0.5555555555555556,
              "#d8576b"
             ],
             [
              0.6666666666666666,
              "#ed7953"
             ],
             [
              0.7777777777777778,
              "#fb9f3a"
             ],
             [
              0.8888888888888888,
              "#fdca26"
             ],
             [
              1.0,
              "#f0f921"
             ]
            ],
            "type": "contour"
           }
          ],
          "contourcarpet": [
           {
            "colorbar": {
             "outlinewidth": 0,
             "ticks": ""
            },
            "type": "contourcarpet"
           }
          ],
          "heatmap": [
           {
            "colorbar": {
             "outlinewidth": 0,
             "ticks": ""
            },
            "colorscale": [
             [
              0.0,
              "#0d0887"
             ],
             [
              0.1111111111111111,
              "#46039f"
             ],
             [
              0.2222222222222222,
              "#7201a8"
             ],
             [
              0.3333333333333333,
              "#9c179e"
             ],
             [
              0.4444444444444444,
              "#bd3786"
             ],
             [
              0.5555555555555556,
              "#d8576b"
             ],
             [
              0.6666666666666666,
              "#ed7953"
             ],
             [
              0.7777777777777778,
              "#fb9f3a"
             ],
             [
              0.8888888888888888,
              "#fdca26"
             ],
             [
              1.0,
              "#f0f921"
             ]
            ],
            "type": "heatmap"
           }
          ],
          "heatmapgl": [
           {
            "colorbar": {
             "outlinewidth": 0,
             "ticks": ""
            },
            "colorscale": [
             [
              0.0,
              "#0d0887"
             ],
             [
              0.1111111111111111,
              "#46039f"
             ],
             [
              0.2222222222222222,
              "#7201a8"
             ],
             [
              0.3333333333333333,
              "#9c179e"
             ],
             [
              0.4444444444444444,
              "#bd3786"
             ],
             [
              0.5555555555555556,
              "#d8576b"
             ],
             [
              0.6666666666666666,
              "#ed7953"
             ],
             [
              0.7777777777777778,
              "#fb9f3a"
             ],
             [
              0.8888888888888888,
              "#fdca26"
             ],
             [
              1.0,
              "#f0f921"
             ]
            ],
            "type": "heatmapgl"
           }
          ],
          "histogram": [
           {
            "marker": {
             "colorbar": {
              "outlinewidth": 0,
              "ticks": ""
             }
            },
            "type": "histogram"
           }
          ],
          "histogram2d": [
           {
            "colorbar": {
             "outlinewidth": 0,
             "ticks": ""
            },
            "colorscale": [
             [
              0.0,
              "#0d0887"
             ],
             [
              0.1111111111111111,
              "#46039f"
             ],
             [
              0.2222222222222222,
              "#7201a8"
             ],
             [
              0.3333333333333333,
              "#9c179e"
             ],
             [
              0.4444444444444444,
              "#bd3786"
             ],
             [
              0.5555555555555556,
              "#d8576b"
             ],
             [
              0.6666666666666666,
              "#ed7953"
             ],
             [
              0.7777777777777778,
              "#fb9f3a"
             ],
             [
              0.8888888888888888,
              "#fdca26"
             ],
             [
              1.0,
              "#f0f921"
             ]
            ],
            "type": "histogram2d"
           }
          ],
          "histogram2dcontour": [
           {
            "colorbar": {
             "outlinewidth": 0,
             "ticks": ""
            },
            "colorscale": [
             [
              0.0,
              "#0d0887"
             ],
             [
              0.1111111111111111,
              "#46039f"
             ],
             [
              0.2222222222222222,
              "#7201a8"
             ],
             [
              0.3333333333333333,
              "#9c179e"
             ],
             [
              0.4444444444444444,
              "#bd3786"
             ],
             [
              0.5555555555555556,
              "#d8576b"
             ],
             [
              0.6666666666666666,
              "#ed7953"
             ],
             [
              0.7777777777777778,
              "#fb9f3a"
             ],
             [
              0.8888888888888888,
              "#fdca26"
             ],
             [
              1.0,
              "#f0f921"
             ]
            ],
            "type": "histogram2dcontour"
           }
          ],
          "mesh3d": [
           {
            "colorbar": {
             "outlinewidth": 0,
             "ticks": ""
            },
            "type": "mesh3d"
           }
          ],
          "parcoords": [
           {
            "line": {
             "colorbar": {
              "outlinewidth": 0,
              "ticks": ""
             }
            },
            "type": "parcoords"
           }
          ],
          "pie": [
           {
            "automargin": true,
            "type": "pie"
           }
          ],
          "scatter": [
           {
            "marker": {
             "colorbar": {
              "outlinewidth": 0,
              "ticks": ""
             }
            },
            "type": "scatter"
           }
          ],
          "scatter3d": [
           {
            "line": {
             "colorbar": {
              "outlinewidth": 0,
              "ticks": ""
             }
            },
            "marker": {
             "colorbar": {
              "outlinewidth": 0,
              "ticks": ""
             }
            },
            "type": "scatter3d"
           }
          ],
          "scattercarpet": [
           {
            "marker": {
             "colorbar": {
              "outlinewidth": 0,
              "ticks": ""
             }
            },
            "type": "scattercarpet"
           }
          ],
          "scattergeo": [
           {
            "marker": {
             "colorbar": {
              "outlinewidth": 0,
              "ticks": ""
             }
            },
            "type": "scattergeo"
           }
          ],
          "scattergl": [
           {
            "marker": {
             "colorbar": {
              "outlinewidth": 0,
              "ticks": ""
             }
            },
            "type": "scattergl"
           }
          ],
          "scattermapbox": [
           {
            "marker": {
             "colorbar": {
              "outlinewidth": 0,
              "ticks": ""
             }
            },
            "type": "scattermapbox"
           }
          ],
          "scatterpolar": [
           {
            "marker": {
             "colorbar": {
              "outlinewidth": 0,
              "ticks": ""
             }
            },
            "type": "scatterpolar"
           }
          ],
          "scatterpolargl": [
           {
            "marker": {
             "colorbar": {
              "outlinewidth": 0,
              "ticks": ""
             }
            },
            "type": "scatterpolargl"
           }
          ],
          "scatterternary": [
           {
            "marker": {
             "colorbar": {
              "outlinewidth": 0,
              "ticks": ""
             }
            },
            "type": "scatterternary"
           }
          ],
          "surface": [
           {
            "colorbar": {
             "outlinewidth": 0,
             "ticks": ""
            },
            "colorscale": [
             [
              0.0,
              "#0d0887"
             ],
             [
              0.1111111111111111,
              "#46039f"
             ],
             [
              0.2222222222222222,
              "#7201a8"
             ],
             [
              0.3333333333333333,
              "#9c179e"
             ],
             [
              0.4444444444444444,
              "#bd3786"
             ],
             [
              0.5555555555555556,
              "#d8576b"
             ],
             [
              0.6666666666666666,
              "#ed7953"
             ],
             [
              0.7777777777777778,
              "#fb9f3a"
             ],
             [
              0.8888888888888888,
              "#fdca26"
             ],
             [
              1.0,
              "#f0f921"
             ]
            ],
            "type": "surface"
           }
          ],
          "table": [
           {
            "cells": {
             "fill": {
              "color": "#EBF0F8"
             },
             "line": {
              "color": "white"
             }
            },
            "header": {
             "fill": {
              "color": "#C8D4E3"
             },
             "line": {
              "color": "white"
             }
            },
            "type": "table"
           }
          ]
         },
         "layout": {
          "annotationdefaults": {
           "arrowcolor": "#2a3f5f",
           "arrowhead": 0,
           "arrowwidth": 1
          },
          "autotypenumbers": "strict",
          "coloraxis": {
           "colorbar": {
            "outlinewidth": 0,
            "ticks": ""
           }
          },
          "colorscale": {
           "diverging": [
            [
             0,
             "#8e0152"
            ],
            [
             0.1,
             "#c51b7d"
            ],
            [
             0.2,
             "#de77ae"
            ],
            [
             0.3,
             "#f1b6da"
            ],
            [
             0.4,
             "#fde0ef"
            ],
            [
             0.5,
             "#f7f7f7"
            ],
            [
             0.6,
             "#e6f5d0"
            ],
            [
             0.7,
             "#b8e186"
            ],
            [
             0.8,
             "#7fbc41"
            ],
            [
             0.9,
             "#4d9221"
            ],
            [
             1,
             "#276419"
            ]
           ],
           "sequential": [
            [
             0.0,
             "#0d0887"
            ],
            [
             0.1111111111111111,
             "#46039f"
            ],
            [
             0.2222222222222222,
             "#7201a8"
            ],
            [
             0.3333333333333333,
             "#9c179e"
            ],
            [
             0.4444444444444444,
             "#bd3786"
            ],
            [
             0.5555555555555556,
             "#d8576b"
            ],
            [
             0.6666666666666666,
             "#ed7953"
            ],
            [
             0.7777777777777778,
             "#fb9f3a"
            ],
            [
             0.8888888888888888,
             "#fdca26"
            ],
            [
             1.0,
             "#f0f921"
            ]
           ],
           "sequentialminus": [
            [
             0.0,
             "#0d0887"
            ],
            [
             0.1111111111111111,
             "#46039f"
            ],
            [
             0.2222222222222222,
             "#7201a8"
            ],
            [
             0.3333333333333333,
             "#9c179e"
            ],
            [
             0.4444444444444444,
             "#bd3786"
            ],
            [
             0.5555555555555556,
             "#d8576b"
            ],
            [
             0.6666666666666666,
             "#ed7953"
            ],
            [
             0.7777777777777778,
             "#fb9f3a"
            ],
            [
             0.8888888888888888,
             "#fdca26"
            ],
            [
             1.0,
             "#f0f921"
            ]
           ]
          },
          "colorway": [
           "#636efa",
           "#EF553B",
           "#00cc96",
           "#ab63fa",
           "#FFA15A",
           "#19d3f3",
           "#FF6692",
           "#B6E880",
           "#FF97FF",
           "#FECB52"
          ],
          "font": {
           "color": "#2a3f5f"
          },
          "geo": {
           "bgcolor": "white",
           "lakecolor": "white",
           "landcolor": "#E5ECF6",
           "showlakes": true,
           "showland": true,
           "subunitcolor": "white"
          },
          "hoverlabel": {
           "align": "left"
          },
          "hovermode": "closest",
          "mapbox": {
           "style": "light"
          },
          "paper_bgcolor": "white",
          "plot_bgcolor": "#E5ECF6",
          "polar": {
           "angularaxis": {
            "gridcolor": "white",
            "linecolor": "white",
            "ticks": ""
           },
           "bgcolor": "#E5ECF6",
           "radialaxis": {
            "gridcolor": "white",
            "linecolor": "white",
            "ticks": ""
           }
          },
          "scene": {
           "xaxis": {
            "backgroundcolor": "#E5ECF6",
            "gridcolor": "white",
            "gridwidth": 2,
            "linecolor": "white",
            "showbackground": true,
            "ticks": "",
            "zerolinecolor": "white"
           },
           "yaxis": {
            "backgroundcolor": "#E5ECF6",
            "gridcolor": "white",
            "gridwidth": 2,
            "linecolor": "white",
            "showbackground": true,
            "ticks": "",
            "zerolinecolor": "white"
           },
           "zaxis": {
            "backgroundcolor": "#E5ECF6",
            "gridcolor": "white",
            "gridwidth": 2,
            "linecolor": "white",
            "showbackground": true,
            "ticks": "",
            "zerolinecolor": "white"
           }
          },
          "shapedefaults": {
           "line": {
            "color": "#2a3f5f"
           }
          },
          "ternary": {
           "aaxis": {
            "gridcolor": "white",
            "linecolor": "white",
            "ticks": ""
           },
           "baxis": {
            "gridcolor": "white",
            "linecolor": "white",
            "ticks": ""
           },
           "bgcolor": "#E5ECF6",
           "caxis": {
            "gridcolor": "white",
            "linecolor": "white",
            "ticks": ""
           }
          },
          "title": {
           "x": 0.05
          },
          "xaxis": {
           "automargin": true,
           "gridcolor": "white",
           "linecolor": "white",
           "ticks": "",
           "title": {
            "standoff": 15
           },
           "zerolinecolor": "white",
           "zerolinewidth": 2
          },
          "yaxis": {
           "automargin": true,
           "gridcolor": "white",
           "linecolor": "white",
           "ticks": "",
           "title": {
            "standoff": 15
           },
           "zerolinecolor": "white",
           "zerolinewidth": 2
          }
         }
        },
        "xaxis": {
         "anchor": "y",
         "domain": [
          0.0,
          1.0
         ],
         "title": {
          "text": "dayStamp"
         }
        },
        "yaxis": {
         "anchor": "x",
         "domain": [
          0.0,
          1.0
         ],
         "title": {
          "text": "duration"
         }
        }
       }
      },
      "text/html": "<div>                            <div id=\"4a5937f9-4cce-4933-a12f-44ecc064f5af\" class=\"plotly-graph-div\" style=\"height:525px; width:100%;\"></div>            <script type=\"text/javascript\">                require([\"plotly\"], function(Plotly) {                    window.PLOTLYENV=window.PLOTLYENV || {};                                    if (document.getElementById(\"4a5937f9-4cce-4933-a12f-44ecc064f5af\")) {                    Plotly.newPlot(                        \"4a5937f9-4cce-4933-a12f-44ecc064f5af\",                        [{\"hovertemplate\": \"dayStamp=%{x}<br>duration=%{y}<extra></extra>\", \"legendgroup\": \"\", \"marker\": {\"color\": \"#636efa\", \"symbol\": \"circle\"}, \"mode\": \"markers\", \"name\": \"\", \"orientation\": \"v\", \"showlegend\": false, \"type\": \"scatter\", \"x\": [\"201019\", \"201020\", \"201021\", \"201023\", \"201025\", \"201027\", \"201029\", \"201101\", \"201103\", \"201109\", \"201110\", \"201111\", \"201112\", \"201114\", \"201116\", \"201118\", \"201119\", \"201122\", \"201123\", \"201124\", \"201126\", \"201129\", \"201130\", \"201201\", \"201203\", \"201204\", \"201205\", \"201206\", \"201208\", \"201209\", \"201213\", \"201215\", \"201217\", \"201218\", \"201219\", \"201221\", \"201222\", \"201223\", \"201226\", \"201227\", \"201228\", \"201231\", \"210101\", \"210102\", \"210104\", \"210105\", \"210106\", \"210109\", \"210110\", \"210112\", \"210113\", \"210114\", \"210115\", \"210117\", \"210119\", \"210120\", \"210121\", \"210123\", \"210124\", \"210125\", \"210127\", \"210128\", \"210129\", \"210130\", \"210131\", \"210202\", \"210204\", \"210205\", \"210206\", \"210208\", \"210210\", \"210212\", \"210214\", \"210216\", \"210217\", \"210218\", \"210220\", \"210222\", \"210223\", \"210226\", \"210228\", \"210301\", \"210302\", \"210304\", \"210310\", \"210311\", \"210314\", \"210316\", \"210319\", \"210321\", \"210323\", \"210325\", \"210327\", \"210328\", \"210402\", \"210406\", \"210409\", \"210411\", \"210412\", \"210414\", \"210415\", \"210419\", \"210421\", \"210423\", \"210425\", \"210427\", \"210429\", \"210505\", \"210509\", \"210510\", \"210515\", \"210516\", \"210518\", \"210529\", \"210602\", \"210603\", \"210608\", \"210610\", \"210614\", \"210620\", \"210624\", \"210629\", \"210707\", \"210727\", \"210730\", \"210806\", \"210808\", \"210811\", \"210816\", \"210819\", \"210901\", \"210908\", \"210916\", \"210921\", \"210924\", \"210929\", \"211006\", \"211012\", \"211015\", \"211024\", \"211029\", \"211102\", \"211106\", \"211109\", \"211110\", \"211111\", \"211114\", \"211115\", \"211117\", \"211118\", \"211119\", \"211122\", \"211124\", \"211129\", \"211202\", \"211204\", \"211205\", \"211206\", \"211208\", \"211213\", \"211214\", \"211217\", \"211219\", \"211221\", \"211222\", \"211227\", \"211229\"], \"xaxis\": \"x\", \"y\": [30.0, 30.0, 20.0, 30.0, 30.0, 30.0, 45.0, 20.0, 30.0, 40.0, 45.0, 30.0, 30.0, 15.0, 40.0, 30.0, 30.0, 45.0, 45.0, 40.0, 45.0, 30.0, 50.0, 25.0, 50.0, 30.0, 45.0, 30.0, 45.0, 45.0, 75.0, 30.0, 50.0, 30.0, 45.0, 60.0, 30.0, 75.0, 75.0, 30.0, 60.0, 60.0, 30.0, 45.0, 45.0, 30.0, 45.0, 45.0, 40.0, 45.0, 30.0, 50.0, 45.0, 20.0, 45.0, 45.0, 30.0, 20.0, 45.0, 30.0, 30.0, 50.0, 20.0, 40.0, 60.0, 20.0, 60.0, 30.0, 45.0, 45.0, 30.0, 30.0, 45.0, 75.0, 45.0, 30.0, 50.0, 45.0, 45.0, 60.0, 45.0, 20.0, 30.0, 30.0, 40.0, 30.0, 45.0, 30.0, 30.0, 45.0, 40.0, 30.0, 60.0, 30.0, 50.0, 45.0, 30.0, 60.0, 30.0, 30.0, 50.0, 30.0, 50.0, 45.0, 60.0, 45.0, 30.0, 45.0, 30.0, 45.0, 60.0, 45.0, 45.0, 30.0, 30.0, 45.0, 60.0, 50.0, 45.0, 75.0, 45.0, 60.0, 40.0, 50.0, 60.0, 90.0, 45.0, 80.0, 45.0, 45.0, 30.0, 30.0, 20.0, 60.0, 45.0, 45.0, 45.0, 30.0, 60.0, 50.0, 60.0, 40.0, 45.0, 75.0, 50.0, 30.0, 45.0, 65.0, 20.0, 50.0, 60.0, 45.0, 60.0, 45.0, 50.0, 75.0, 45.0, 35.0, 75.0, 45.0, 45.0, 30.0, 10.0, 60.0, 20.0, 45.0, 30.0], \"yaxis\": \"y\"}, {\"hovertemplate\": \"<b>LOWESS trendline</b><br><br>dayStamp=%{x}<br>duration=%{y} <b>(trend)</b><extra></extra>\", \"legendgroup\": \"\", \"marker\": {\"color\": \"#636efa\", \"symbol\": \"circle\"}, \"mode\": \"lines\", \"name\": \"\", \"showlegend\": false, \"type\": \"scatter\", \"x\": [\"201019\", \"201020\", \"201021\", \"201023\", \"201025\", \"201027\", \"201029\", \"201101\", \"201103\", \"201109\", \"201110\", \"201111\", \"201112\", \"201114\", \"201116\", \"201118\", \"201119\", \"201122\", \"201123\", \"201124\", \"201126\", \"201129\", \"201130\", \"201201\", \"201203\", \"201204\", \"201205\", \"201206\", \"201208\", \"201209\", \"201213\", \"201215\", \"201217\", \"201218\", \"201219\", \"201221\", \"201222\", \"201223\", \"201226\", \"201227\", \"201228\", \"201231\", \"210101\", \"210102\", \"210104\", \"210105\", \"210106\", \"210109\", \"210110\", \"210112\", \"210113\", \"210114\", \"210115\", \"210117\", \"210119\", \"210120\", \"210121\", \"210123\", \"210124\", \"210125\", \"210127\", \"210128\", \"210129\", \"210130\", \"210131\", \"210202\", \"210204\", \"210205\", \"210206\", \"210208\", \"210210\", \"210212\", \"210214\", \"210216\", \"210217\", \"210218\", \"210220\", \"210222\", \"210223\", \"210226\", \"210228\", \"210301\", \"210302\", \"210304\", \"210310\", \"210311\", \"210314\", \"210316\", \"210319\", \"210321\", \"210323\", \"210325\", \"210327\", \"210328\", \"210402\", \"210406\", \"210409\", \"210411\", \"210412\", \"210414\", \"210415\", \"210419\", \"210421\", \"210423\", \"210425\", \"210427\", \"210429\", \"210505\", \"210509\", \"210510\", \"210515\", \"210516\", \"210518\", \"210529\", \"210602\", \"210603\", \"210608\", \"210610\", \"210614\", \"210620\", \"210624\", \"210629\", \"210707\", \"210727\", \"210730\", \"210806\", \"210808\", \"210811\", \"210816\", \"210819\", \"210901\", \"210908\", \"210916\", \"210921\", \"210924\", \"210929\", \"211006\", \"211012\", \"211015\", \"211024\", \"211029\", \"211102\", \"211106\", \"211109\", \"211110\", \"211111\", \"211114\", \"211115\", \"211117\", \"211118\", \"211119\", \"211122\", \"211124\", \"211129\", \"211202\", \"211204\", \"211205\", \"211206\", \"211208\", \"211213\", \"211214\", \"211217\", \"211219\", \"211221\", \"211222\", \"211227\", \"211229\"], \"xaxis\": \"x\", \"y\": [36.84404438313966, 36.84679848356698, 36.849551143080454, 36.85505214087105, 36.860547379621295, 36.86603686250731, 36.87152059280008, 37.06513114044058, 37.070404315518374, 37.08619008338557, 37.088816126288584, 37.091440765086276, 37.094064000194045, 37.09930626108131, 37.104542912453645, 37.109773957914356, 37.11238737955681, 37.12021924563902, 37.122827069605435, 37.12543349530935, 37.13064215372357, 37.138444665497005, 37.14104271094325, 37.321963581980675, 37.326959608003406, 37.32945557531818, 37.3319501794179, 37.33444342074434, 37.339425816804706, 37.34191497242693, 37.351857988799004, 37.35682133923047, 37.36177925561397, 37.364256177098284, 37.36673174131864, 37.37167879966679, 37.37415029460211, 37.3766204339142, 37.38402272205654, 37.38648744281853, 37.38895080991998, 37.39633279312797, 38.124624098833706, 38.1371573373647, 38.16223533196717, 38.174780087966965, 38.187328677953325, 38.22499742128661, 38.23756130600347, 38.262700463952555, 38.2752757056098, 38.28785469706295, 38.30043742082272, 38.32561396102441, 38.350805098664026, 38.36340608706871, 38.37601065655197, 38.40123042438495, 38.41384557525595, 38.42646421582253, 38.45171191014034, 38.464340944654744, 38.47697342981424, 38.489609357372615, 38.50224872593494, 39.40745620971775, 39.4331439259625, 39.44599088397411, 39.45883988173392, 39.48454391613384, 39.51025584793434, 39.53597547356647, 39.5617026305955, 39.58743719848882, 39.60030721825135, 39.613179032060984, 39.638927940287786, 39.66468373412285, 39.677564142827116, 39.71621499621057, 39.741989849311445, 40.682576215157546, 40.69539274336519, 40.72101434516608, 40.79778293753787, 40.81056304313082, 40.84887707692302, 40.8743973483032, 40.912643093894154, 40.9381166179816, 40.96357086499346, 40.989005523008494, 41.0144202945042, 41.02712014387998, 41.95105930338408, 42.000034887992385, 42.03669886617355, 42.06110916472122, 42.073304612879575, 42.097676099930716, 42.109852151220096, 42.158492117170596, 42.18277379668459, 42.207030235307684, 42.23126165032448, 42.255468207276465, 42.279649955847304, 43.18327306747736, 43.23032257086336, 43.24208440473623, 43.30089905544183, 43.31266441479125, 43.336198970961114, 43.465781864963404, 44.349605830625876, 44.36216984362099, 44.42517480651366, 44.45046119228647, 44.483837841851226, 44.49730227788592, 44.50336382419446, 44.512036875199705, 44.90467995438342, 44.978427062223005, 44.98915668155977, 45.28364059571505, 45.291885880041384, 45.304268062405114, 45.32493190706001, 45.33733891680138, 45.66678847684693, 45.69335362962975, 45.723346273496524, 45.74189618218489, 45.75295584023414, 45.771273496944374, 46.037108168246355, 46.05669366916088, 46.066433059497285, 46.09544613538183, 46.111435484642875, 46.3347099560688, 46.34639840693554, 46.35512811780997, 46.358031091901275, 46.360930604194564, 46.3696083604153, 46.37249403949791, 46.378255063651046, 46.381130398852314, 46.384002285196324, 46.39259722269776, 46.398309813373565, 46.41252967436946, 46.60861111140172, 46.613642677963824, 46.616150983010414, 46.61865426272197, 46.62364563149251, 46.63603420048455, 46.63849624805178, 46.64585048131746, 46.65072644084397, 46.65558076208884, 46.65799978885209, 46.67001321157536, 46.67478036889224], \"yaxis\": \"y\"}],                        {\"legend\": {\"tracegroupgap\": 0}, \"margin\": {\"t\": 60}, \"template\": {\"data\": {\"bar\": [{\"error_x\": {\"color\": \"#2a3f5f\"}, \"error_y\": {\"color\": \"#2a3f5f\"}, \"marker\": {\"line\": {\"color\": \"#E5ECF6\", \"width\": 0.5}}, \"type\": \"bar\"}], \"barpolar\": [{\"marker\": {\"line\": {\"color\": \"#E5ECF6\", \"width\": 0.5}}, \"type\": \"barpolar\"}], \"carpet\": [{\"aaxis\": {\"endlinecolor\": \"#2a3f5f\", \"gridcolor\": \"white\", \"linecolor\": \"white\", \"minorgridcolor\": \"white\", \"startlinecolor\": \"#2a3f5f\"}, \"baxis\": {\"endlinecolor\": \"#2a3f5f\", \"gridcolor\": \"white\", \"linecolor\": \"white\", \"minorgridcolor\": \"white\", \"startlinecolor\": \"#2a3f5f\"}, \"type\": \"carpet\"}], \"choropleth\": [{\"colorbar\": {\"outlinewidth\": 0, \"ticks\": \"\"}, \"type\": \"choropleth\"}], \"contour\": [{\"colorbar\": {\"outlinewidth\": 0, \"ticks\": \"\"}, \"colorscale\": [[0.0, \"#0d0887\"], [0.1111111111111111, \"#46039f\"], [0.2222222222222222, \"#7201a8\"], [0.3333333333333333, \"#9c179e\"], [0.4444444444444444, \"#bd3786\"], [0.5555555555555556, \"#d8576b\"], [0.6666666666666666, \"#ed7953\"], [0.7777777777777778, \"#fb9f3a\"], [0.8888888888888888, \"#fdca26\"], [1.0, \"#f0f921\"]], \"type\": \"contour\"}], \"contourcarpet\": [{\"colorbar\": {\"outlinewidth\": 0, \"ticks\": \"\"}, \"type\": \"contourcarpet\"}], \"heatmap\": [{\"colorbar\": {\"outlinewidth\": 0, \"ticks\": \"\"}, \"colorscale\": [[0.0, \"#0d0887\"], [0.1111111111111111, \"#46039f\"], [0.2222222222222222, \"#7201a8\"], [0.3333333333333333, \"#9c179e\"], [0.4444444444444444, \"#bd3786\"], [0.5555555555555556, \"#d8576b\"], [0.6666666666666666, \"#ed7953\"], [0.7777777777777778, \"#fb9f3a\"], [0.8888888888888888, \"#fdca26\"], [1.0, \"#f0f921\"]], \"type\": \"heatmap\"}], \"heatmapgl\": [{\"colorbar\": {\"outlinewidth\": 0, \"ticks\": \"\"}, \"colorscale\": [[0.0, \"#0d0887\"], [0.1111111111111111, \"#46039f\"], [0.2222222222222222, \"#7201a8\"], [0.3333333333333333, \"#9c179e\"], [0.4444444444444444, \"#bd3786\"], [0.5555555555555556, \"#d8576b\"], [0.6666666666666666, \"#ed7953\"], [0.7777777777777778, \"#fb9f3a\"], [0.8888888888888888, \"#fdca26\"], [1.0, \"#f0f921\"]], \"type\": \"heatmapgl\"}], \"histogram\": [{\"marker\": {\"colorbar\": {\"outlinewidth\": 0, \"ticks\": \"\"}}, \"type\": \"histogram\"}], \"histogram2d\": [{\"colorbar\": {\"outlinewidth\": 0, \"ticks\": \"\"}, \"colorscale\": [[0.0, \"#0d0887\"], [0.1111111111111111, \"#46039f\"], [0.2222222222222222, \"#7201a8\"], [0.3333333333333333, \"#9c179e\"], [0.4444444444444444, \"#bd3786\"], [0.5555555555555556, \"#d8576b\"], [0.6666666666666666, \"#ed7953\"], [0.7777777777777778, \"#fb9f3a\"], [0.8888888888888888, \"#fdca26\"], [1.0, \"#f0f921\"]], \"type\": \"histogram2d\"}], \"histogram2dcontour\": [{\"colorbar\": {\"outlinewidth\": 0, \"ticks\": \"\"}, \"colorscale\": [[0.0, \"#0d0887\"], [0.1111111111111111, \"#46039f\"], [0.2222222222222222, \"#7201a8\"], [0.3333333333333333, \"#9c179e\"], [0.4444444444444444, \"#bd3786\"], [0.5555555555555556, \"#d8576b\"], [0.6666666666666666, \"#ed7953\"], [0.7777777777777778, \"#fb9f3a\"], [0.8888888888888888, \"#fdca26\"], [1.0, \"#f0f921\"]], \"type\": \"histogram2dcontour\"}], \"mesh3d\": [{\"colorbar\": {\"outlinewidth\": 0, \"ticks\": \"\"}, \"type\": \"mesh3d\"}], \"parcoords\": [{\"line\": {\"colorbar\": {\"outlinewidth\": 0, \"ticks\": \"\"}}, \"type\": \"parcoords\"}], \"pie\": [{\"automargin\": true, \"type\": \"pie\"}], \"scatter\": [{\"marker\": {\"colorbar\": {\"outlinewidth\": 0, \"ticks\": \"\"}}, \"type\": \"scatter\"}], \"scatter3d\": [{\"line\": {\"colorbar\": {\"outlinewidth\": 0, \"ticks\": \"\"}}, \"marker\": {\"colorbar\": {\"outlinewidth\": 0, \"ticks\": \"\"}}, \"type\": \"scatter3d\"}], \"scattercarpet\": [{\"marker\": {\"colorbar\": {\"outlinewidth\": 0, \"ticks\": \"\"}}, \"type\": \"scattercarpet\"}], \"scattergeo\": [{\"marker\": {\"colorbar\": {\"outlinewidth\": 0, \"ticks\": \"\"}}, \"type\": \"scattergeo\"}], \"scattergl\": [{\"marker\": {\"colorbar\": {\"outlinewidth\": 0, \"ticks\": \"\"}}, \"type\": \"scattergl\"}], \"scattermapbox\": [{\"marker\": {\"colorbar\": {\"outlinewidth\": 0, \"ticks\": \"\"}}, \"type\": \"scattermapbox\"}], \"scatterpolar\": [{\"marker\": {\"colorbar\": {\"outlinewidth\": 0, \"ticks\": \"\"}}, \"type\": \"scatterpolar\"}], \"scatterpolargl\": [{\"marker\": {\"colorbar\": {\"outlinewidth\": 0, \"ticks\": \"\"}}, \"type\": \"scatterpolargl\"}], \"scatterternary\": [{\"marker\": {\"colorbar\": {\"outlinewidth\": 0, \"ticks\": \"\"}}, \"type\": \"scatterternary\"}], \"surface\": [{\"colorbar\": {\"outlinewidth\": 0, \"ticks\": \"\"}, \"colorscale\": [[0.0, \"#0d0887\"], [0.1111111111111111, \"#46039f\"], [0.2222222222222222, \"#7201a8\"], [0.3333333333333333, \"#9c179e\"], [0.4444444444444444, \"#bd3786\"], [0.5555555555555556, \"#d8576b\"], [0.6666666666666666, \"#ed7953\"], [0.7777777777777778, \"#fb9f3a\"], [0.8888888888888888, \"#fdca26\"], [1.0, \"#f0f921\"]], \"type\": \"surface\"}], \"table\": [{\"cells\": {\"fill\": {\"color\": \"#EBF0F8\"}, \"line\": {\"color\": \"white\"}}, \"header\": {\"fill\": {\"color\": \"#C8D4E3\"}, \"line\": {\"color\": \"white\"}}, \"type\": \"table\"}]}, \"layout\": {\"annotationdefaults\": {\"arrowcolor\": \"#2a3f5f\", \"arrowhead\": 0, \"arrowwidth\": 1}, \"autotypenumbers\": \"strict\", \"coloraxis\": {\"colorbar\": {\"outlinewidth\": 0, \"ticks\": \"\"}}, \"colorscale\": {\"diverging\": [[0, \"#8e0152\"], [0.1, \"#c51b7d\"], [0.2, \"#de77ae\"], [0.3, \"#f1b6da\"], [0.4, \"#fde0ef\"], [0.5, \"#f7f7f7\"], [0.6, \"#e6f5d0\"], [0.7, \"#b8e186\"], [0.8, \"#7fbc41\"], [0.9, \"#4d9221\"], [1, \"#276419\"]], \"sequential\": [[0.0, \"#0d0887\"], [0.1111111111111111, \"#46039f\"], [0.2222222222222222, \"#7201a8\"], [0.3333333333333333, \"#9c179e\"], [0.4444444444444444, \"#bd3786\"], [0.5555555555555556, \"#d8576b\"], [0.6666666666666666, \"#ed7953\"], [0.7777777777777778, \"#fb9f3a\"], [0.8888888888888888, \"#fdca26\"], [1.0, \"#f0f921\"]], \"sequentialminus\": [[0.0, \"#0d0887\"], [0.1111111111111111, \"#46039f\"], [0.2222222222222222, \"#7201a8\"], [0.3333333333333333, \"#9c179e\"], [0.4444444444444444, \"#bd3786\"], [0.5555555555555556, \"#d8576b\"], [0.6666666666666666, \"#ed7953\"], [0.7777777777777778, \"#fb9f3a\"], [0.8888888888888888, \"#fdca26\"], [1.0, \"#f0f921\"]]}, \"colorway\": [\"#636efa\", \"#EF553B\", \"#00cc96\", \"#ab63fa\", \"#FFA15A\", \"#19d3f3\", \"#FF6692\", \"#B6E880\", \"#FF97FF\", \"#FECB52\"], \"font\": {\"color\": \"#2a3f5f\"}, \"geo\": {\"bgcolor\": \"white\", \"lakecolor\": \"white\", \"landcolor\": \"#E5ECF6\", \"showlakes\": true, \"showland\": true, \"subunitcolor\": \"white\"}, \"hoverlabel\": {\"align\": \"left\"}, \"hovermode\": \"closest\", \"mapbox\": {\"style\": \"light\"}, \"paper_bgcolor\": \"white\", \"plot_bgcolor\": \"#E5ECF6\", \"polar\": {\"angularaxis\": {\"gridcolor\": \"white\", \"linecolor\": \"white\", \"ticks\": \"\"}, \"bgcolor\": \"#E5ECF6\", \"radialaxis\": {\"gridcolor\": \"white\", \"linecolor\": \"white\", \"ticks\": \"\"}}, \"scene\": {\"xaxis\": {\"backgroundcolor\": \"#E5ECF6\", \"gridcolor\": \"white\", \"gridwidth\": 2, \"linecolor\": \"white\", \"showbackground\": true, \"ticks\": \"\", \"zerolinecolor\": \"white\"}, \"yaxis\": {\"backgroundcolor\": \"#E5ECF6\", \"gridcolor\": \"white\", \"gridwidth\": 2, \"linecolor\": \"white\", \"showbackground\": true, \"ticks\": \"\", \"zerolinecolor\": \"white\"}, \"zaxis\": {\"backgroundcolor\": \"#E5ECF6\", \"gridcolor\": \"white\", \"gridwidth\": 2, \"linecolor\": \"white\", \"showbackground\": true, \"ticks\": \"\", \"zerolinecolor\": \"white\"}}, \"shapedefaults\": {\"line\": {\"color\": \"#2a3f5f\"}}, \"ternary\": {\"aaxis\": {\"gridcolor\": \"white\", \"linecolor\": \"white\", \"ticks\": \"\"}, \"baxis\": {\"gridcolor\": \"white\", \"linecolor\": \"white\", \"ticks\": \"\"}, \"bgcolor\": \"#E5ECF6\", \"caxis\": {\"gridcolor\": \"white\", \"linecolor\": \"white\", \"ticks\": \"\"}}, \"title\": {\"x\": 0.05}, \"xaxis\": {\"automargin\": true, \"gridcolor\": \"white\", \"linecolor\": \"white\", \"ticks\": \"\", \"title\": {\"standoff\": 15}, \"zerolinecolor\": \"white\", \"zerolinewidth\": 2}, \"yaxis\": {\"automargin\": true, \"gridcolor\": \"white\", \"linecolor\": \"white\", \"ticks\": \"\", \"title\": {\"standoff\": 15}, \"zerolinecolor\": \"white\", \"zerolinewidth\": 2}}}, \"xaxis\": {\"anchor\": \"y\", \"domain\": [0.0, 1.0], \"title\": {\"text\": \"dayStamp\"}}, \"yaxis\": {\"anchor\": \"x\", \"domain\": [0.0, 1.0], \"title\": {\"text\": \"duration\"}}},                        {\"responsive\": true}                    ).then(function(){\n                            \nvar gd = document.getElementById('4a5937f9-4cce-4933-a12f-44ecc064f5af');\nvar x = new MutationObserver(function (mutations, observer) {{\n        var display = window.getComputedStyle(gd).display;\n        if (!display || display === 'none') {{\n            console.log([gd, 'removed!']);\n            Plotly.purge(gd);\n            observer.disconnect();\n        }}\n}});\n\n// Listen for the removal of the full notebook cells\nvar notebookContainer = gd.closest('#notebook-container');\nif (notebookContainer) {{\n    x.observe(notebookContainer, {childList: true});\n}}\n\n// Listen for the clearing of the current output cell\nvar outputEl = gd.closest('.output');\nif (outputEl) {{\n    x.observe(outputEl, {childList: true});\n}}\n\n                        })                };                });            </script>        </div>"
     },
     "metadata": {},
     "output_type": "display_data"
    }
   ],
   "source": [
    "fig4 = px.scatter(groupDays, x=groupDays.index, y=\"duration\", trendline=\"lowess\")\n",
    "fig4.show()"
   ],
   "metadata": {
    "collapsed": false,
    "pycharm": {
     "name": "#%%\n"
    }
   }
  },
  {
   "cell_type": "code",
   "execution_count": null,
   "outputs": [],
   "source": [
    "#most popular instructor by month\n"
   ],
   "metadata": {
    "collapsed": false,
    "pycharm": {
     "name": "#%%\n"
    }
   }
  }
 ],
 "metadata": {
  "kernelspec": {
   "display_name": "Python 3",
   "language": "python",
   "name": "python3"
  },
  "language_info": {
   "codemirror_mode": {
    "name": "ipython",
    "version": 2
   },
   "file_extension": ".py",
   "mimetype": "text/x-python",
   "name": "python",
   "nbconvert_exporter": "python",
   "pygments_lexer": "ipython2",
   "version": "2.7.6"
  }
 },
 "nbformat": 4,
 "nbformat_minor": 0
}